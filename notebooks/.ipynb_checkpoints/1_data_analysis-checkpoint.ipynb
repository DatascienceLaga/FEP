{
 "cells": [
  {
   "cell_type": "code",
   "execution_count": 4,
   "metadata": {
    "ExecuteTime": {
     "end_time": "2021-03-26T10:15:42.290581Z",
     "start_time": "2021-03-26T10:15:42.194558Z"
    }
   },
   "outputs": [],
   "source": [
    "import os\n",
    "import pandas as pd\n",
    "import numpy as np\n",
    "\n",
    "import matplotlib.pyplot as plt"
   ]
  },
  {
   "cell_type": "code",
   "execution_count": 5,
   "metadata": {
    "ExecuteTime": {
     "end_time": "2021-03-26T10:15:42.918648Z",
     "start_time": "2021-03-26T10:15:42.788053Z"
    }
   },
   "outputs": [],
   "source": [
    "pd.set_option('max_columns', None)"
   ]
  },
  {
   "cell_type": "code",
   "execution_count": 6,
   "metadata": {
    "ExecuteTime": {
     "end_time": "2021-03-26T10:15:43.324342Z",
     "start_time": "2021-03-26T10:15:43.308342Z"
    }
   },
   "outputs": [],
   "source": [
    "DATA_PATH = '../../Data/STRUCTURED_DATA/DATA_FEP'"
   ]
  },
  {
   "cell_type": "code",
   "execution_count": 7,
   "metadata": {
    "ExecuteTime": {
     "end_time": "2021-03-26T10:16:29.780217Z",
     "start_time": "2021-03-26T10:16:28.155502Z"
    }
   },
   "outputs": [],
   "source": [
    "lvl_one_df = pd.read_csv(os.path.join(DATA_PATH, 'rawData_GMFCSI.csv'))\n",
    "lvl_two_df = pd.read_csv(os.path.join(DATA_PATH, 'rawData_GMFCSII.csv'))"
   ]
  },
  {
   "cell_type": "code",
   "execution_count": 8,
   "metadata": {
    "ExecuteTime": {
     "end_time": "2021-03-26T10:16:42.014106Z",
     "start_time": "2021-03-26T10:16:41.738409Z"
    }
   },
   "outputs": [
    {
     "data": {
      "text/html": [
       "<div>\n",
       "<style scoped>\n",
       "    .dataframe tbody tr th:only-of-type {\n",
       "        vertical-align: middle;\n",
       "    }\n",
       "\n",
       "    .dataframe tbody tr th {\n",
       "        vertical-align: top;\n",
       "    }\n",
       "\n",
       "    .dataframe thead th {\n",
       "        text-align: right;\n",
       "    }\n",
       "</style>\n",
       "<table border=\"1\" class=\"dataframe\">\n",
       "  <thead>\n",
       "    <tr style=\"text-align: right;\">\n",
       "      <th></th>\n",
       "      <th>id_activity</th>\n",
       "      <th>tHolo</th>\n",
       "      <th>xHolo</th>\n",
       "      <th>yHolo</th>\n",
       "      <th>zHolo</th>\n",
       "      <th>xfHolo</th>\n",
       "      <th>yfHolo</th>\n",
       "      <th>zfHolo</th>\n",
       "      <th>xI</th>\n",
       "      <th>yI</th>\n",
       "      <th>zI</th>\n",
       "      <th>xHeelR</th>\n",
       "      <th>yHeelR</th>\n",
       "      <th>zHeelR</th>\n",
       "      <th>xHeelL</th>\n",
       "      <th>yHeelL</th>\n",
       "      <th>zHeelL</th>\n",
       "      <th>xToeR</th>\n",
       "      <th>yToeR</th>\n",
       "      <th>zToeR</th>\n",
       "      <th>xToeL</th>\n",
       "      <th>yToeL</th>\n",
       "      <th>zToeL</th>\n",
       "      <th>HoloSD</th>\n",
       "      <th>Zeni</th>\n",
       "    </tr>\n",
       "  </thead>\n",
       "  <tbody>\n",
       "    <tr>\n",
       "      <th>0</th>\n",
       "      <td>0</td>\n",
       "      <td>0.99</td>\n",
       "      <td>0.313332</td>\n",
       "      <td>2.039303</td>\n",
       "      <td>1.026927</td>\n",
       "      <td>0.313355</td>\n",
       "      <td>1.159349</td>\n",
       "      <td>1.026545</td>\n",
       "      <td>0.271891</td>\n",
       "      <td>2.176560</td>\n",
       "      <td>0.588268</td>\n",
       "      <td>0.201024</td>\n",
       "      <td>1.993625</td>\n",
       "      <td>0.048921</td>\n",
       "      <td>0.377132</td>\n",
       "      <td>2.353490</td>\n",
       "      <td>0.060237</td>\n",
       "      <td>0.223401</td>\n",
       "      <td>1.858591</td>\n",
       "      <td>0.087287</td>\n",
       "      <td>0.336764</td>\n",
       "      <td>2.218138</td>\n",
       "      <td>0.042315</td>\n",
       "      <td>0.0</td>\n",
       "      <td>0.0</td>\n",
       "    </tr>\n",
       "    <tr>\n",
       "      <th>1</th>\n",
       "      <td>0</td>\n",
       "      <td>1.00</td>\n",
       "      <td>0.311433</td>\n",
       "      <td>2.027221</td>\n",
       "      <td>1.025138</td>\n",
       "      <td>0.311427</td>\n",
       "      <td>1.171449</td>\n",
       "      <td>1.024755</td>\n",
       "      <td>0.270701</td>\n",
       "      <td>2.165138</td>\n",
       "      <td>0.586361</td>\n",
       "      <td>0.199619</td>\n",
       "      <td>1.960392</td>\n",
       "      <td>0.044687</td>\n",
       "      <td>0.377169</td>\n",
       "      <td>2.352902</td>\n",
       "      <td>0.061600</td>\n",
       "      <td>0.225254</td>\n",
       "      <td>1.827952</td>\n",
       "      <td>0.092522</td>\n",
       "      <td>0.336627</td>\n",
       "      <td>2.217870</td>\n",
       "      <td>0.042082</td>\n",
       "      <td>0.0</td>\n",
       "      <td>0.0</td>\n",
       "    </tr>\n",
       "    <tr>\n",
       "      <th>2</th>\n",
       "      <td>0</td>\n",
       "      <td>1.01</td>\n",
       "      <td>0.309413</td>\n",
       "      <td>2.014961</td>\n",
       "      <td>1.023126</td>\n",
       "      <td>0.309376</td>\n",
       "      <td>1.183726</td>\n",
       "      <td>1.022758</td>\n",
       "      <td>0.269471</td>\n",
       "      <td>2.153443</td>\n",
       "      <td>0.584271</td>\n",
       "      <td>0.198505</td>\n",
       "      <td>1.929561</td>\n",
       "      <td>0.041350</td>\n",
       "      <td>0.377146</td>\n",
       "      <td>2.352319</td>\n",
       "      <td>0.063120</td>\n",
       "      <td>0.227350</td>\n",
       "      <td>1.799806</td>\n",
       "      <td>0.097173</td>\n",
       "      <td>0.336470</td>\n",
       "      <td>2.217618</td>\n",
       "      <td>0.041848</td>\n",
       "      <td>0.0</td>\n",
       "      <td>0.0</td>\n",
       "    </tr>\n",
       "    <tr>\n",
       "      <th>3</th>\n",
       "      <td>0</td>\n",
       "      <td>1.02</td>\n",
       "      <td>0.307260</td>\n",
       "      <td>2.002526</td>\n",
       "      <td>1.020918</td>\n",
       "      <td>0.307191</td>\n",
       "      <td>1.196176</td>\n",
       "      <td>1.020580</td>\n",
       "      <td>0.268231</td>\n",
       "      <td>2.141468</td>\n",
       "      <td>0.582038</td>\n",
       "      <td>0.197722</td>\n",
       "      <td>1.901499</td>\n",
       "      <td>0.038792</td>\n",
       "      <td>0.377039</td>\n",
       "      <td>2.351734</td>\n",
       "      <td>0.064837</td>\n",
       "      <td>0.229592</td>\n",
       "      <td>1.774272</td>\n",
       "      <td>0.100795</td>\n",
       "      <td>0.336280</td>\n",
       "      <td>2.217385</td>\n",
       "      <td>0.041613</td>\n",
       "      <td>0.0</td>\n",
       "      <td>0.0</td>\n",
       "    </tr>\n",
       "    <tr>\n",
       "      <th>4</th>\n",
       "      <td>0</td>\n",
       "      <td>1.03</td>\n",
       "      <td>0.304964</td>\n",
       "      <td>1.989922</td>\n",
       "      <td>1.018549</td>\n",
       "      <td>0.304862</td>\n",
       "      <td>1.208790</td>\n",
       "      <td>1.018258</td>\n",
       "      <td>0.267012</td>\n",
       "      <td>2.129219</td>\n",
       "      <td>0.579712</td>\n",
       "      <td>0.197279</td>\n",
       "      <td>1.876473</td>\n",
       "      <td>0.036901</td>\n",
       "      <td>0.376827</td>\n",
       "      <td>2.351125</td>\n",
       "      <td>0.066802</td>\n",
       "      <td>0.231883</td>\n",
       "      <td>1.751379</td>\n",
       "      <td>0.102994</td>\n",
       "      <td>0.336042</td>\n",
       "      <td>2.217175</td>\n",
       "      <td>0.041375</td>\n",
       "      <td>0.0</td>\n",
       "      <td>0.0</td>\n",
       "    </tr>\n",
       "  </tbody>\n",
       "</table>\n",
       "</div>"
      ],
      "text/plain": [
       "   id_activity  tHolo     xHolo     yHolo     zHolo    xfHolo    yfHolo  \\\n",
       "0            0   0.99  0.313332  2.039303  1.026927  0.313355  1.159349   \n",
       "1            0   1.00  0.311433  2.027221  1.025138  0.311427  1.171449   \n",
       "2            0   1.01  0.309413  2.014961  1.023126  0.309376  1.183726   \n",
       "3            0   1.02  0.307260  2.002526  1.020918  0.307191  1.196176   \n",
       "4            0   1.03  0.304964  1.989922  1.018549  0.304862  1.208790   \n",
       "\n",
       "     zfHolo        xI        yI        zI    xHeelR    yHeelR    zHeelR  \\\n",
       "0  1.026545  0.271891  2.176560  0.588268  0.201024  1.993625  0.048921   \n",
       "1  1.024755  0.270701  2.165138  0.586361  0.199619  1.960392  0.044687   \n",
       "2  1.022758  0.269471  2.153443  0.584271  0.198505  1.929561  0.041350   \n",
       "3  1.020580  0.268231  2.141468  0.582038  0.197722  1.901499  0.038792   \n",
       "4  1.018258  0.267012  2.129219  0.579712  0.197279  1.876473  0.036901   \n",
       "\n",
       "     xHeelL    yHeelL    zHeelL     xToeR     yToeR     zToeR     xToeL  \\\n",
       "0  0.377132  2.353490  0.060237  0.223401  1.858591  0.087287  0.336764   \n",
       "1  0.377169  2.352902  0.061600  0.225254  1.827952  0.092522  0.336627   \n",
       "2  0.377146  2.352319  0.063120  0.227350  1.799806  0.097173  0.336470   \n",
       "3  0.377039  2.351734  0.064837  0.229592  1.774272  0.100795  0.336280   \n",
       "4  0.376827  2.351125  0.066802  0.231883  1.751379  0.102994  0.336042   \n",
       "\n",
       "      yToeL     zToeL  HoloSD  Zeni  \n",
       "0  2.218138  0.042315     0.0   0.0  \n",
       "1  2.217870  0.042082     0.0   0.0  \n",
       "2  2.217618  0.041848     0.0   0.0  \n",
       "3  2.217385  0.041613     0.0   0.0  \n",
       "4  2.217175  0.041375     0.0   0.0  "
      ]
     },
     "execution_count": 8,
     "metadata": {},
     "output_type": "execute_result"
    }
   ],
   "source": [
    "lvl_one_df.head()"
   ]
  },
  {
   "cell_type": "code",
   "execution_count": 9,
   "metadata": {
    "ExecuteTime": {
     "end_time": "2021-03-26T10:17:10.035142Z",
     "start_time": "2021-03-26T10:17:09.983143Z"
    }
   },
   "outputs": [
    {
     "data": {
      "text/html": [
       "<div>\n",
       "<style scoped>\n",
       "    .dataframe tbody tr th:only-of-type {\n",
       "        vertical-align: middle;\n",
       "    }\n",
       "\n",
       "    .dataframe tbody tr th {\n",
       "        vertical-align: top;\n",
       "    }\n",
       "\n",
       "    .dataframe thead th {\n",
       "        text-align: right;\n",
       "    }\n",
       "</style>\n",
       "<table border=\"1\" class=\"dataframe\">\n",
       "  <thead>\n",
       "    <tr style=\"text-align: right;\">\n",
       "      <th></th>\n",
       "      <th>id_activity</th>\n",
       "      <th>tHolo</th>\n",
       "      <th>xHolo</th>\n",
       "      <th>yHolo</th>\n",
       "      <th>zHolo</th>\n",
       "      <th>xfHolo</th>\n",
       "      <th>yfHolo</th>\n",
       "      <th>zfHolo</th>\n",
       "      <th>xI</th>\n",
       "      <th>yI</th>\n",
       "      <th>zI</th>\n",
       "      <th>xHeelR</th>\n",
       "      <th>yHeelR</th>\n",
       "      <th>zHeelR</th>\n",
       "      <th>xHeelL</th>\n",
       "      <th>yHeelL</th>\n",
       "      <th>zHeelL</th>\n",
       "      <th>xToeR</th>\n",
       "      <th>yToeR</th>\n",
       "      <th>zToeR</th>\n",
       "      <th>xToeL</th>\n",
       "      <th>yToeL</th>\n",
       "      <th>zToeL</th>\n",
       "      <th>HoloSD</th>\n",
       "      <th>Zeni</th>\n",
       "    </tr>\n",
       "  </thead>\n",
       "  <tbody>\n",
       "    <tr>\n",
       "      <th>0</th>\n",
       "      <td>0</td>\n",
       "      <td>0.99</td>\n",
       "      <td>0.405952</td>\n",
       "      <td>2.546294</td>\n",
       "      <td>1.308802</td>\n",
       "      <td>0.406064</td>\n",
       "      <td>0.385819</td>\n",
       "      <td>1.308804</td>\n",
       "      <td>0.325096</td>\n",
       "      <td>2.812611</td>\n",
       "      <td>0.848930</td>\n",
       "      <td>0.248433</td>\n",
       "      <td>2.904307</td>\n",
       "      <td>0.083235</td>\n",
       "      <td>0.369832</td>\n",
       "      <td>2.894836</td>\n",
       "      <td>0.039923</td>\n",
       "      <td>0.187229</td>\n",
       "      <td>2.756087</td>\n",
       "      <td>0.066027</td>\n",
       "      <td>0.396495</td>\n",
       "      <td>2.736985</td>\n",
       "      <td>0.042847</td>\n",
       "      <td>0.0</td>\n",
       "      <td>0.0</td>\n",
       "    </tr>\n",
       "    <tr>\n",
       "      <th>1</th>\n",
       "      <td>0</td>\n",
       "      <td>1.00</td>\n",
       "      <td>0.405379</td>\n",
       "      <td>2.541785</td>\n",
       "      <td>1.308161</td>\n",
       "      <td>0.405488</td>\n",
       "      <td>0.390342</td>\n",
       "      <td>1.308169</td>\n",
       "      <td>0.325565</td>\n",
       "      <td>2.809540</td>\n",
       "      <td>0.848757</td>\n",
       "      <td>0.249189</td>\n",
       "      <td>2.884214</td>\n",
       "      <td>0.078421</td>\n",
       "      <td>0.369836</td>\n",
       "      <td>2.894865</td>\n",
       "      <td>0.039995</td>\n",
       "      <td>0.185983</td>\n",
       "      <td>2.736119</td>\n",
       "      <td>0.066521</td>\n",
       "      <td>0.396408</td>\n",
       "      <td>2.737078</td>\n",
       "      <td>0.042706</td>\n",
       "      <td>0.0</td>\n",
       "      <td>0.0</td>\n",
       "    </tr>\n",
       "    <tr>\n",
       "      <th>2</th>\n",
       "      <td>0</td>\n",
       "      <td>1.01</td>\n",
       "      <td>0.404812</td>\n",
       "      <td>2.537198</td>\n",
       "      <td>1.307563</td>\n",
       "      <td>0.404912</td>\n",
       "      <td>0.394944</td>\n",
       "      <td>1.307576</td>\n",
       "      <td>0.326039</td>\n",
       "      <td>2.806405</td>\n",
       "      <td>0.848601</td>\n",
       "      <td>0.250238</td>\n",
       "      <td>2.863632</td>\n",
       "      <td>0.073904</td>\n",
       "      <td>0.369836</td>\n",
       "      <td>2.894902</td>\n",
       "      <td>0.040064</td>\n",
       "      <td>0.184920</td>\n",
       "      <td>2.715941</td>\n",
       "      <td>0.067348</td>\n",
       "      <td>0.396314</td>\n",
       "      <td>2.737178</td>\n",
       "      <td>0.042565</td>\n",
       "      <td>0.0</td>\n",
       "      <td>0.0</td>\n",
       "    </tr>\n",
       "    <tr>\n",
       "      <th>3</th>\n",
       "      <td>0</td>\n",
       "      <td>1.02</td>\n",
       "      <td>0.404244</td>\n",
       "      <td>2.532526</td>\n",
       "      <td>1.307012</td>\n",
       "      <td>0.404329</td>\n",
       "      <td>0.399630</td>\n",
       "      <td>1.307032</td>\n",
       "      <td>0.326515</td>\n",
       "      <td>2.803187</td>\n",
       "      <td>0.848466</td>\n",
       "      <td>0.251567</td>\n",
       "      <td>2.842644</td>\n",
       "      <td>0.069742</td>\n",
       "      <td>0.369834</td>\n",
       "      <td>2.894946</td>\n",
       "      <td>0.040132</td>\n",
       "      <td>0.184044</td>\n",
       "      <td>2.695636</td>\n",
       "      <td>0.068523</td>\n",
       "      <td>0.396213</td>\n",
       "      <td>2.737277</td>\n",
       "      <td>0.042427</td>\n",
       "      <td>0.0</td>\n",
       "      <td>0.0</td>\n",
       "    </tr>\n",
       "    <tr>\n",
       "      <th>4</th>\n",
       "      <td>0</td>\n",
       "      <td>1.03</td>\n",
       "      <td>0.403670</td>\n",
       "      <td>2.527765</td>\n",
       "      <td>1.306515</td>\n",
       "      <td>0.403734</td>\n",
       "      <td>0.404404</td>\n",
       "      <td>1.306543</td>\n",
       "      <td>0.326991</td>\n",
       "      <td>2.799862</td>\n",
       "      <td>0.848358</td>\n",
       "      <td>0.253158</td>\n",
       "      <td>2.821345</td>\n",
       "      <td>0.065982</td>\n",
       "      <td>0.369832</td>\n",
       "      <td>2.894994</td>\n",
       "      <td>0.040199</td>\n",
       "      <td>0.183360</td>\n",
       "      <td>2.675293</td>\n",
       "      <td>0.070049</td>\n",
       "      <td>0.396106</td>\n",
       "      <td>2.737370</td>\n",
       "      <td>0.042297</td>\n",
       "      <td>0.0</td>\n",
       "      <td>0.0</td>\n",
       "    </tr>\n",
       "  </tbody>\n",
       "</table>\n",
       "</div>"
      ],
      "text/plain": [
       "   id_activity  tHolo     xHolo     yHolo     zHolo    xfHolo    yfHolo  \\\n",
       "0            0   0.99  0.405952  2.546294  1.308802  0.406064  0.385819   \n",
       "1            0   1.00  0.405379  2.541785  1.308161  0.405488  0.390342   \n",
       "2            0   1.01  0.404812  2.537198  1.307563  0.404912  0.394944   \n",
       "3            0   1.02  0.404244  2.532526  1.307012  0.404329  0.399630   \n",
       "4            0   1.03  0.403670  2.527765  1.306515  0.403734  0.404404   \n",
       "\n",
       "     zfHolo        xI        yI        zI    xHeelR    yHeelR    zHeelR  \\\n",
       "0  1.308804  0.325096  2.812611  0.848930  0.248433  2.904307  0.083235   \n",
       "1  1.308169  0.325565  2.809540  0.848757  0.249189  2.884214  0.078421   \n",
       "2  1.307576  0.326039  2.806405  0.848601  0.250238  2.863632  0.073904   \n",
       "3  1.307032  0.326515  2.803187  0.848466  0.251567  2.842644  0.069742   \n",
       "4  1.306543  0.326991  2.799862  0.848358  0.253158  2.821345  0.065982   \n",
       "\n",
       "     xHeelL    yHeelL    zHeelL     xToeR     yToeR     zToeR     xToeL  \\\n",
       "0  0.369832  2.894836  0.039923  0.187229  2.756087  0.066027  0.396495   \n",
       "1  0.369836  2.894865  0.039995  0.185983  2.736119  0.066521  0.396408   \n",
       "2  0.369836  2.894902  0.040064  0.184920  2.715941  0.067348  0.396314   \n",
       "3  0.369834  2.894946  0.040132  0.184044  2.695636  0.068523  0.396213   \n",
       "4  0.369832  2.894994  0.040199  0.183360  2.675293  0.070049  0.396106   \n",
       "\n",
       "      yToeL     zToeL  HoloSD  Zeni  \n",
       "0  2.736985  0.042847     0.0   0.0  \n",
       "1  2.737078  0.042706     0.0   0.0  \n",
       "2  2.737178  0.042565     0.0   0.0  \n",
       "3  2.737277  0.042427     0.0   0.0  \n",
       "4  2.737370  0.042297     0.0   0.0  "
      ]
     },
     "execution_count": 9,
     "metadata": {},
     "output_type": "execute_result"
    }
   ],
   "source": [
    "lvl_two_df.head()"
   ]
  },
  {
   "cell_type": "code",
   "execution_count": null,
   "metadata": {},
   "outputs": [],
   "source": []
  },
  {
   "cell_type": "code",
   "execution_count": 10,
   "metadata": {
    "ExecuteTime": {
     "end_time": "2021-03-26T10:17:43.516912Z",
     "start_time": "2021-03-26T10:17:43.108146Z"
    }
   },
   "outputs": [
    {
     "name": "stdout",
     "output_type": "stream",
     "text": [
      "(11129, 25)\n",
      "(14281, 25)\n"
     ]
    }
   ],
   "source": [
    "print(lvl_one_df.shape)\n",
    "print(lvl_two_df.shape)"
   ]
  },
  {
   "cell_type": "code",
   "execution_count": 11,
   "metadata": {
    "ExecuteTime": {
     "end_time": "2021-03-26T10:22:31.259483Z",
     "start_time": "2021-03-26T10:22:30.901002Z"
    }
   },
   "outputs": [
    {
     "data": {
      "text/html": [
       "<div>\n",
       "<style scoped>\n",
       "    .dataframe tbody tr th:only-of-type {\n",
       "        vertical-align: middle;\n",
       "    }\n",
       "\n",
       "    .dataframe tbody tr th {\n",
       "        vertical-align: top;\n",
       "    }\n",
       "\n",
       "    .dataframe thead th {\n",
       "        text-align: right;\n",
       "    }\n",
       "</style>\n",
       "<table border=\"1\" class=\"dataframe\">\n",
       "  <thead>\n",
       "    <tr style=\"text-align: right;\">\n",
       "      <th></th>\n",
       "      <th>id_activity</th>\n",
       "      <th>tHolo</th>\n",
       "      <th>xHolo</th>\n",
       "      <th>yHolo</th>\n",
       "      <th>zHolo</th>\n",
       "      <th>xfHolo</th>\n",
       "      <th>yfHolo</th>\n",
       "      <th>zfHolo</th>\n",
       "      <th>xI</th>\n",
       "      <th>yI</th>\n",
       "      <th>zI</th>\n",
       "      <th>xHeelR</th>\n",
       "      <th>yHeelR</th>\n",
       "      <th>zHeelR</th>\n",
       "      <th>xHeelL</th>\n",
       "      <th>yHeelL</th>\n",
       "      <th>zHeelL</th>\n",
       "      <th>xToeR</th>\n",
       "      <th>yToeR</th>\n",
       "      <th>zToeR</th>\n",
       "      <th>xToeL</th>\n",
       "      <th>yToeL</th>\n",
       "      <th>zToeL</th>\n",
       "      <th>HoloSD</th>\n",
       "      <th>Zeni</th>\n",
       "    </tr>\n",
       "  </thead>\n",
       "  <tbody>\n",
       "    <tr>\n",
       "      <th>count</th>\n",
       "      <td>11129.000000</td>\n",
       "      <td>11129.000000</td>\n",
       "      <td>11129.000000</td>\n",
       "      <td>11129.000000</td>\n",
       "      <td>11129.000000</td>\n",
       "      <td>11129.000000</td>\n",
       "      <td>11129.000000</td>\n",
       "      <td>11129.000000</td>\n",
       "      <td>11129.000000</td>\n",
       "      <td>11129.000000</td>\n",
       "      <td>11129.000000</td>\n",
       "      <td>11129.000000</td>\n",
       "      <td>11129.000000</td>\n",
       "      <td>11129.000000</td>\n",
       "      <td>11129.000000</td>\n",
       "      <td>11129.000000</td>\n",
       "      <td>11129.000000</td>\n",
       "      <td>11129.000000</td>\n",
       "      <td>11129.000000</td>\n",
       "      <td>11129.000000</td>\n",
       "      <td>11129.000000</td>\n",
       "      <td>11129.000000</td>\n",
       "      <td>11129.000000</td>\n",
       "      <td>11129.000000</td>\n",
       "      <td>11129.000000</td>\n",
       "    </tr>\n",
       "    <tr>\n",
       "      <th>mean</th>\n",
       "      <td>17.735466</td>\n",
       "      <td>3.260049</td>\n",
       "      <td>0.298499</td>\n",
       "      <td>0.918459</td>\n",
       "      <td>1.362449</td>\n",
       "      <td>0.298499</td>\n",
       "      <td>2.520991</td>\n",
       "      <td>1.362451</td>\n",
       "      <td>0.306237</td>\n",
       "      <td>0.941144</td>\n",
       "      <td>0.829816</td>\n",
       "      <td>0.295015</td>\n",
       "      <td>0.971664</td>\n",
       "      <td>0.091040</td>\n",
       "      <td>0.337540</td>\n",
       "      <td>0.968030</td>\n",
       "      <td>0.096770</td>\n",
       "      <td>0.286066</td>\n",
       "      <td>0.928512</td>\n",
       "      <td>0.053294</td>\n",
       "      <td>0.341303</td>\n",
       "      <td>0.927975</td>\n",
       "      <td>0.054245</td>\n",
       "      <td>0.017522</td>\n",
       "      <td>0.018959</td>\n",
       "    </tr>\n",
       "    <tr>\n",
       "      <th>std</th>\n",
       "      <td>9.403389</td>\n",
       "      <td>2.090840</td>\n",
       "      <td>0.056048</td>\n",
       "      <td>0.984447</td>\n",
       "      <td>0.172693</td>\n",
       "      <td>0.056034</td>\n",
       "      <td>1.019814</td>\n",
       "      <td>0.172684</td>\n",
       "      <td>0.042033</td>\n",
       "      <td>0.978790</td>\n",
       "      <td>0.127613</td>\n",
       "      <td>0.067143</td>\n",
       "      <td>0.986986</td>\n",
       "      <td>0.057808</td>\n",
       "      <td>0.079591</td>\n",
       "      <td>1.004798</td>\n",
       "      <td>0.060164</td>\n",
       "      <td>0.099369</td>\n",
       "      <td>0.983984</td>\n",
       "      <td>0.017016</td>\n",
       "      <td>0.096536</td>\n",
       "      <td>1.004592</td>\n",
       "      <td>0.017651</td>\n",
       "      <td>0.131211</td>\n",
       "      <td>0.136388</td>\n",
       "    </tr>\n",
       "    <tr>\n",
       "      <th>min</th>\n",
       "      <td>0.000000</td>\n",
       "      <td>0.990000</td>\n",
       "      <td>0.132280</td>\n",
       "      <td>-1.286724</td>\n",
       "      <td>0.997248</td>\n",
       "      <td>0.132353</td>\n",
       "      <td>0.256208</td>\n",
       "      <td>0.997731</td>\n",
       "      <td>0.182191</td>\n",
       "      <td>-1.122061</td>\n",
       "      <td>0.564896</td>\n",
       "      <td>0.066291</td>\n",
       "      <td>-1.357363</td>\n",
       "      <td>0.019295</td>\n",
       "      <td>0.105227</td>\n",
       "      <td>-1.146794</td>\n",
       "      <td>0.015289</td>\n",
       "      <td>0.064536</td>\n",
       "      <td>-1.456238</td>\n",
       "      <td>0.027373</td>\n",
       "      <td>0.089423</td>\n",
       "      <td>-1.329284</td>\n",
       "      <td>0.026772</td>\n",
       "      <td>0.000000</td>\n",
       "      <td>0.000000</td>\n",
       "    </tr>\n",
       "    <tr>\n",
       "      <th>25%</th>\n",
       "      <td>9.000000</td>\n",
       "      <td>1.850000</td>\n",
       "      <td>0.264219</td>\n",
       "      <td>0.124371</td>\n",
       "      <td>1.202821</td>\n",
       "      <td>0.264199</td>\n",
       "      <td>1.695747</td>\n",
       "      <td>1.202788</td>\n",
       "      <td>0.279404</td>\n",
       "      <td>0.139822</td>\n",
       "      <td>0.730233</td>\n",
       "      <td>0.245372</td>\n",
       "      <td>0.146721</td>\n",
       "      <td>0.047808</td>\n",
       "      <td>0.278684</td>\n",
       "      <td>0.187058</td>\n",
       "      <td>0.049991</td>\n",
       "      <td>0.195084</td>\n",
       "      <td>0.165537</td>\n",
       "      <td>0.041099</td>\n",
       "      <td>0.255085</td>\n",
       "      <td>0.105662</td>\n",
       "      <td>0.040612</td>\n",
       "      <td>0.000000</td>\n",
       "      <td>0.000000</td>\n",
       "    </tr>\n",
       "    <tr>\n",
       "      <th>50%</th>\n",
       "      <td>19.000000</td>\n",
       "      <td>2.730000</td>\n",
       "      <td>0.298059</td>\n",
       "      <td>0.933437</td>\n",
       "      <td>1.364208</td>\n",
       "      <td>0.298091</td>\n",
       "      <td>2.498197</td>\n",
       "      <td>1.364213</td>\n",
       "      <td>0.302317</td>\n",
       "      <td>0.951065</td>\n",
       "      <td>0.827006</td>\n",
       "      <td>0.287693</td>\n",
       "      <td>1.026190</td>\n",
       "      <td>0.065409</td>\n",
       "      <td>0.346575</td>\n",
       "      <td>0.970219</td>\n",
       "      <td>0.070769</td>\n",
       "      <td>0.280206</td>\n",
       "      <td>0.977849</td>\n",
       "      <td>0.048685</td>\n",
       "      <td>0.360536</td>\n",
       "      <td>0.933201</td>\n",
       "      <td>0.049650</td>\n",
       "      <td>0.000000</td>\n",
       "      <td>0.000000</td>\n",
       "    </tr>\n",
       "    <tr>\n",
       "      <th>75%</th>\n",
       "      <td>27.000000</td>\n",
       "      <td>3.940000</td>\n",
       "      <td>0.331452</td>\n",
       "      <td>1.727753</td>\n",
       "      <td>1.526697</td>\n",
       "      <td>0.331474</td>\n",
       "      <td>3.300345</td>\n",
       "      <td>1.526731</td>\n",
       "      <td>0.333785</td>\n",
       "      <td>1.744796</td>\n",
       "      <td>0.950799</td>\n",
       "      <td>0.349651</td>\n",
       "      <td>1.755485</td>\n",
       "      <td>0.121752</td>\n",
       "      <td>0.391484</td>\n",
       "      <td>1.769427</td>\n",
       "      <td>0.135601</td>\n",
       "      <td>0.374455</td>\n",
       "      <td>1.710439</td>\n",
       "      <td>0.062163</td>\n",
       "      <td>0.418918</td>\n",
       "      <td>1.744016</td>\n",
       "      <td>0.064368</td>\n",
       "      <td>0.000000</td>\n",
       "      <td>0.000000</td>\n",
       "    </tr>\n",
       "    <tr>\n",
       "      <th>max</th>\n",
       "      <td>31.000000</td>\n",
       "      <td>12.490000</td>\n",
       "      <td>0.493063</td>\n",
       "      <td>3.133512</td>\n",
       "      <td>1.654632</td>\n",
       "      <td>0.493076</td>\n",
       "      <td>5.040956</td>\n",
       "      <td>1.654540</td>\n",
       "      <td>0.464365</td>\n",
       "      <td>3.147016</td>\n",
       "      <td>1.023418</td>\n",
       "      <td>0.471993</td>\n",
       "      <td>3.230377</td>\n",
       "      <td>0.292038</td>\n",
       "      <td>0.549264</td>\n",
       "      <td>3.229752</td>\n",
       "      <td>0.281491</td>\n",
       "      <td>0.502334</td>\n",
       "      <td>3.079796</td>\n",
       "      <td>0.124643</td>\n",
       "      <td>0.578473</td>\n",
       "      <td>3.259837</td>\n",
       "      <td>0.134674</td>\n",
       "      <td>1.000000</td>\n",
       "      <td>1.000000</td>\n",
       "    </tr>\n",
       "  </tbody>\n",
       "</table>\n",
       "</div>"
      ],
      "text/plain": [
       "        id_activity         tHolo         xHolo         yHolo         zHolo  \\\n",
       "count  11129.000000  11129.000000  11129.000000  11129.000000  11129.000000   \n",
       "mean      17.735466      3.260049      0.298499      0.918459      1.362449   \n",
       "std        9.403389      2.090840      0.056048      0.984447      0.172693   \n",
       "min        0.000000      0.990000      0.132280     -1.286724      0.997248   \n",
       "25%        9.000000      1.850000      0.264219      0.124371      1.202821   \n",
       "50%       19.000000      2.730000      0.298059      0.933437      1.364208   \n",
       "75%       27.000000      3.940000      0.331452      1.727753      1.526697   \n",
       "max       31.000000     12.490000      0.493063      3.133512      1.654632   \n",
       "\n",
       "             xfHolo        yfHolo        zfHolo            xI            yI  \\\n",
       "count  11129.000000  11129.000000  11129.000000  11129.000000  11129.000000   \n",
       "mean       0.298499      2.520991      1.362451      0.306237      0.941144   \n",
       "std        0.056034      1.019814      0.172684      0.042033      0.978790   \n",
       "min        0.132353      0.256208      0.997731      0.182191     -1.122061   \n",
       "25%        0.264199      1.695747      1.202788      0.279404      0.139822   \n",
       "50%        0.298091      2.498197      1.364213      0.302317      0.951065   \n",
       "75%        0.331474      3.300345      1.526731      0.333785      1.744796   \n",
       "max        0.493076      5.040956      1.654540      0.464365      3.147016   \n",
       "\n",
       "                 zI        xHeelR        yHeelR        zHeelR        xHeelL  \\\n",
       "count  11129.000000  11129.000000  11129.000000  11129.000000  11129.000000   \n",
       "mean       0.829816      0.295015      0.971664      0.091040      0.337540   \n",
       "std        0.127613      0.067143      0.986986      0.057808      0.079591   \n",
       "min        0.564896      0.066291     -1.357363      0.019295      0.105227   \n",
       "25%        0.730233      0.245372      0.146721      0.047808      0.278684   \n",
       "50%        0.827006      0.287693      1.026190      0.065409      0.346575   \n",
       "75%        0.950799      0.349651      1.755485      0.121752      0.391484   \n",
       "max        1.023418      0.471993      3.230377      0.292038      0.549264   \n",
       "\n",
       "             yHeelL        zHeelL         xToeR         yToeR         zToeR  \\\n",
       "count  11129.000000  11129.000000  11129.000000  11129.000000  11129.000000   \n",
       "mean       0.968030      0.096770      0.286066      0.928512      0.053294   \n",
       "std        1.004798      0.060164      0.099369      0.983984      0.017016   \n",
       "min       -1.146794      0.015289      0.064536     -1.456238      0.027373   \n",
       "25%        0.187058      0.049991      0.195084      0.165537      0.041099   \n",
       "50%        0.970219      0.070769      0.280206      0.977849      0.048685   \n",
       "75%        1.769427      0.135601      0.374455      1.710439      0.062163   \n",
       "max        3.229752      0.281491      0.502334      3.079796      0.124643   \n",
       "\n",
       "              xToeL         yToeL         zToeL        HoloSD          Zeni  \n",
       "count  11129.000000  11129.000000  11129.000000  11129.000000  11129.000000  \n",
       "mean       0.341303      0.927975      0.054245      0.017522      0.018959  \n",
       "std        0.096536      1.004592      0.017651      0.131211      0.136388  \n",
       "min        0.089423     -1.329284      0.026772      0.000000      0.000000  \n",
       "25%        0.255085      0.105662      0.040612      0.000000      0.000000  \n",
       "50%        0.360536      0.933201      0.049650      0.000000      0.000000  \n",
       "75%        0.418918      1.744016      0.064368      0.000000      0.000000  \n",
       "max        0.578473      3.259837      0.134674      1.000000      1.000000  "
      ]
     },
     "execution_count": 11,
     "metadata": {},
     "output_type": "execute_result"
    }
   ],
   "source": [
    "lvl_one_df.describe()"
   ]
  },
  {
   "cell_type": "code",
   "execution_count": 77,
   "metadata": {
    "ExecuteTime": {
     "end_time": "2021-03-26T12:28:56.805700Z",
     "start_time": "2021-03-26T12:28:56.738693Z"
    }
   },
   "outputs": [
    {
     "data": {
      "text/html": [
       "<div>\n",
       "<style scoped>\n",
       "    .dataframe tbody tr th:only-of-type {\n",
       "        vertical-align: middle;\n",
       "    }\n",
       "\n",
       "    .dataframe tbody tr th {\n",
       "        vertical-align: top;\n",
       "    }\n",
       "\n",
       "    .dataframe thead th {\n",
       "        text-align: right;\n",
       "    }\n",
       "</style>\n",
       "<table border=\"1\" class=\"dataframe\">\n",
       "  <thead>\n",
       "    <tr style=\"text-align: right;\">\n",
       "      <th></th>\n",
       "      <th>trial_length</th>\n",
       "    </tr>\n",
       "  </thead>\n",
       "  <tbody>\n",
       "    <tr>\n",
       "      <th>count</th>\n",
       "      <td>32.000000</td>\n",
       "    </tr>\n",
       "    <tr>\n",
       "      <th>mean</th>\n",
       "      <td>4.457813</td>\n",
       "    </tr>\n",
       "    <tr>\n",
       "      <th>std</th>\n",
       "      <td>1.962016</td>\n",
       "    </tr>\n",
       "    <tr>\n",
       "      <th>min</th>\n",
       "      <td>2.570000</td>\n",
       "    </tr>\n",
       "    <tr>\n",
       "      <th>25%</th>\n",
       "      <td>3.127500</td>\n",
       "    </tr>\n",
       "    <tr>\n",
       "      <th>50%</th>\n",
       "      <td>4.280000</td>\n",
       "    </tr>\n",
       "    <tr>\n",
       "      <th>75%</th>\n",
       "      <td>4.917500</td>\n",
       "    </tr>\n",
       "    <tr>\n",
       "      <th>max</th>\n",
       "      <td>12.490000</td>\n",
       "    </tr>\n",
       "  </tbody>\n",
       "</table>\n",
       "</div>"
      ],
      "text/plain": [
       "       trial_length\n",
       "count     32.000000\n",
       "mean       4.457813\n",
       "std        1.962016\n",
       "min        2.570000\n",
       "25%        3.127500\n",
       "50%        4.280000\n",
       "75%        4.917500\n",
       "max       12.490000"
      ]
     },
     "execution_count": 77,
     "metadata": {},
     "output_type": "execute_result"
    }
   ],
   "source": [
    "(lvl_one_df\n",
    " .groupby('id_activity')['tHolo']\n",
    " .agg(\n",
    "     trial_length = 'max',\n",
    " )\n",
    ").describe()"
   ]
  },
  {
   "cell_type": "code",
   "execution_count": 73,
   "metadata": {
    "ExecuteTime": {
     "end_time": "2021-03-26T11:17:04.411012Z",
     "start_time": "2021-03-26T11:17:04.003066Z"
    }
   },
   "outputs": [
    {
     "data": {
      "text/plain": [
       "<AxesSubplot:ylabel='Frequency'>"
      ]
     },
     "execution_count": 73,
     "metadata": {},
     "output_type": "execute_result"
    },
    {
     "data": {
      "image/png": "[encoded data removed]",
      "text/plain": [
       "<Figure size 720x720 with 1 Axes>"
      ]
     },
     "metadata": {
      "needs_background": "light"
     },
     "output_type": "display_data"
    }
   ],
   "source": [
    "(lvl_one_df\n",
    " .groupby('id_activity')['tHolo']\n",
    " .agg(\n",
    "     max_value = 'max',\n",
    " )\n",
    ").plot.hist(figsize=(10,10), bins=30)"
   ]
  },
  {
   "cell_type": "code",
   "execution_count": 74,
   "metadata": {
    "ExecuteTime": {
     "end_time": "2021-03-26T11:17:30.152149Z",
     "start_time": "2021-03-26T11:17:30.112110Z"
    }
   },
   "outputs": [
    {
     "data": {
      "text/html": [
       "<div>\n",
       "<style scoped>\n",
       "    .dataframe tbody tr th:only-of-type {\n",
       "        vertical-align: middle;\n",
       "    }\n",
       "\n",
       "    .dataframe tbody tr th {\n",
       "        vertical-align: top;\n",
       "    }\n",
       "\n",
       "    .dataframe thead th {\n",
       "        text-align: right;\n",
       "    }\n",
       "</style>\n",
       "<table border=\"1\" class=\"dataframe\">\n",
       "  <thead>\n",
       "    <tr style=\"text-align: right;\">\n",
       "      <th></th>\n",
       "      <th>max_value</th>\n",
       "    </tr>\n",
       "  </thead>\n",
       "  <tbody>\n",
       "    <tr>\n",
       "      <th>count</th>\n",
       "      <td>30.000000</td>\n",
       "    </tr>\n",
       "    <tr>\n",
       "      <th>mean</th>\n",
       "      <td>5.740333</td>\n",
       "    </tr>\n",
       "    <tr>\n",
       "      <th>std</th>\n",
       "      <td>2.287992</td>\n",
       "    </tr>\n",
       "    <tr>\n",
       "      <th>min</th>\n",
       "      <td>2.660000</td>\n",
       "    </tr>\n",
       "    <tr>\n",
       "      <th>25%</th>\n",
       "      <td>4.305000</td>\n",
       "    </tr>\n",
       "    <tr>\n",
       "      <th>50%</th>\n",
       "      <td>5.470000</td>\n",
       "    </tr>\n",
       "    <tr>\n",
       "      <th>75%</th>\n",
       "      <td>6.327500</td>\n",
       "    </tr>\n",
       "    <tr>\n",
       "      <th>max</th>\n",
       "      <td>12.760000</td>\n",
       "    </tr>\n",
       "  </tbody>\n",
       "</table>\n",
       "</div>"
      ],
      "text/plain": [
       "       max_value\n",
       "count  30.000000\n",
       "mean    5.740333\n",
       "std     2.287992\n",
       "min     2.660000\n",
       "25%     4.305000\n",
       "50%     5.470000\n",
       "75%     6.327500\n",
       "max    12.760000"
      ]
     },
     "execution_count": 74,
     "metadata": {},
     "output_type": "execute_result"
    }
   ],
   "source": [
    "(lvl_two_df\n",
    " .groupby('id_activity')['tHolo']\n",
    " .agg(\n",
    "     max_value = 'max',\n",
    " )\n",
    ").describe()"
   ]
  },
  {
   "cell_type": "code",
   "execution_count": 75,
   "metadata": {
    "ExecuteTime": {
     "end_time": "2021-03-26T11:17:45.897734Z",
     "start_time": "2021-03-26T11:17:45.553694Z"
    }
   },
   "outputs": [
    {
     "data": {
      "text/plain": [
       "<AxesSubplot:ylabel='Frequency'>"
      ]
     },
     "execution_count": 75,
     "metadata": {},
     "output_type": "execute_result"
    },
    {
     "data": {
      "image/png": "[encoded data removed]",
      "text/plain": [
       "<Figure size 720x720 with 1 Axes>"
      ]
     },
     "metadata": {
      "needs_background": "light"
     },
     "output_type": "display_data"
    }
   ],
   "source": [
    "(lvl_two_df\n",
    " .groupby('id_activity')['tHolo']\n",
    " .agg(\n",
    "     max_value = 'max',\n",
    " )\n",
    ").plot.hist(figsize=(10,10), bins=30)"
   ]
  },
  {
   "cell_type": "code",
   "execution_count": 17,
   "metadata": {
    "ExecuteTime": {
     "end_time": "2021-03-26T10:32:24.526016Z",
     "start_time": "2021-03-26T10:32:24.213751Z"
    }
   },
   "outputs": [
    {
     "data": {
      "text/plain": [
       "<AxesSubplot:>"
      ]
     },
     "execution_count": 17,
     "metadata": {},
     "output_type": "execute_result"
    },
    {
     "data": {
      "image/png": "[encoded data removed]",
      "text/plain": [
       "<Figure size 1440x360 with 1 Axes>"
      ]
     },
     "metadata": {
      "needs_background": "light"
     },
     "output_type": "display_data"
    }
   ],
   "source": [
    "lvl_one_df.Zeni[:2000].plot(figsize=(20,5))\n",
    "lvl_one_df.HoloSD[:2000].plot(figsize=(20,5))"
   ]
  },
  {
   "cell_type": "code",
   "execution_count": 16,
   "metadata": {
    "ExecuteTime": {
     "end_time": "2021-03-26T10:32:13.692975Z",
     "start_time": "2021-03-26T10:32:13.422338Z"
    }
   },
   "outputs": [
    {
     "data": {
      "text/plain": [
       "<AxesSubplot:>"
      ]
     },
     "execution_count": 16,
     "metadata": {},
     "output_type": "execute_result"
    },
    {
     "data": {
      "image/png": "[encoded data removed]",
      "text/plain": [
       "<Figure size 1440x360 with 1 Axes>"
      ]
     },
     "metadata": {
      "needs_background": "light"
     },
     "output_type": "display_data"
    }
   ],
   "source": [
    "lvl_one_df.HoloSD[:2000].plot(figsize=(20,5))"
   ]
  },
  {
   "cell_type": "code",
   "execution_count": 22,
   "metadata": {
    "ExecuteTime": {
     "end_time": "2021-03-26T10:37:45.906015Z",
     "start_time": "2021-03-26T10:37:45.894015Z"
    }
   },
   "outputs": [
    {
     "data": {
      "text/plain": [
       "count    11129.000000\n",
       "mean         3.260049\n",
       "std          2.090840\n",
       "min          0.990000\n",
       "25%          1.850000\n",
       "50%          2.730000\n",
       "75%          3.940000\n",
       "max         12.490000\n",
       "Name: tHolo, dtype: float64"
      ]
     },
     "execution_count": 22,
     "metadata": {},
     "output_type": "execute_result"
    }
   ],
   "source": [
    "lvl_one_df.tHolo.describe()"
   ]
  },
  {
   "cell_type": "code",
   "execution_count": 20,
   "metadata": {
    "ExecuteTime": {
     "end_time": "2021-03-26T10:37:08.716367Z",
     "start_time": "2021-03-26T10:37:08.282103Z"
    }
   },
   "outputs": [
    {
     "data": {
      "text/plain": [
       "<AxesSubplot:ylabel='Frequency'>"
      ]
     },
     "execution_count": 20,
     "metadata": {},
     "output_type": "execute_result"
    },
    {
     "data": {
      "image/png": "[encoded data removed]",
      "text/plain": [
       "<Figure size 1080x360 with 1 Axes>"
      ]
     },
     "metadata": {
      "needs_background": "light"
     },
     "output_type": "display_data"
    }
   ],
   "source": [
    "lvl_one_df.tHolo.plot.hist(figsize=(15,5), bins=100)"
   ]
  },
  {
   "cell_type": "code",
   "execution_count": 23,
   "metadata": {
    "ExecuteTime": {
     "end_time": "2021-03-26T10:38:11.956063Z",
     "start_time": "2021-03-26T10:38:11.932064Z"
    }
   },
   "outputs": [
    {
     "data": {
      "text/plain": [
       "count    14281.000000\n",
       "mean         3.896685\n",
       "std          2.277642\n",
       "min          0.990000\n",
       "25%          2.180000\n",
       "50%          3.410000\n",
       "75%          5.020000\n",
       "max         12.760000\n",
       "Name: tHolo, dtype: float64"
      ]
     },
     "execution_count": 23,
     "metadata": {},
     "output_type": "execute_result"
    }
   ],
   "source": [
    "lvl_two_df.tHolo.describe()"
   ]
  },
  {
   "cell_type": "code",
   "execution_count": 21,
   "metadata": {
    "ExecuteTime": {
     "end_time": "2021-03-26T10:37:25.159611Z",
     "start_time": "2021-03-26T10:37:24.723425Z"
    }
   },
   "outputs": [
    {
     "data": {
      "text/plain": [
       "<AxesSubplot:ylabel='Frequency'>"
      ]
     },
     "execution_count": 21,
     "metadata": {},
     "output_type": "execute_result"
    },
    {
     "data": {
      "image/png": "[encoded data removed]",
      "text/plain": [
       "<Figure size 1080x360 with 1 Axes>"
      ]
     },
     "metadata": {
      "needs_background": "light"
     },
     "output_type": "display_data"
    }
   ],
   "source": [
    "lvl_two_df.tHolo.plot.hist(figsize=(15,5), bins=100)"
   ]
  },
  {
   "cell_type": "code",
   "execution_count": 42,
   "metadata": {
    "ExecuteTime": {
     "end_time": "2021-03-26T10:48:38.197811Z",
     "start_time": "2021-03-26T10:48:37.834024Z"
    }
   },
   "outputs": [
    {
     "data": {
      "text/plain": [
       "[<mpl_toolkits.mplot3d.art3d.Line3D at 0x1200554bd30>]"
      ]
     },
     "execution_count": 42,
     "metadata": {},
     "output_type": "execute_result"
    },
    {
     "data": {
      "image/png": "[encoded data removed]",
      "text/plain": [
       "<Figure size 1080x1080 with 1 Axes>"
      ]
     },
     "metadata": {
      "needs_background": "light"
     },
     "output_type": "display_data"
    }
   ],
   "source": [
    "from mpl_toolkits.mplot3d import Axes3D\n",
    "fig = plt.figure(figsize=(15,15))\n",
    "ax = fig.add_subplot(111, projection='3d')\n",
    "tst = lvl_one_df[lvl_one_df.id_activity==2]\n",
    "ax.plot(xs=tst.xHeelR, ys=tst.yHeelR, zs=tst.zHeelR, zdir='z')"
   ]
  },
  {
   "cell_type": "code",
   "execution_count": 76,
   "metadata": {
    "ExecuteTime": {
     "end_time": "2021-03-26T11:43:44.106752Z",
     "start_time": "2021-03-26T11:43:43.974757Z"
    }
   },
   "outputs": [
    {
     "data": {
      "application/vnd.plotly.v1+json": {
       "config": {
        "plotlyServerURL": "https://plot.ly"
       },
       "data": [
        {
         "hovertemplate": "Zeni=0.0<br>xToeR=%{x}<br>yToeR=%{y}<br>zToeR=%{z}<extra></extra>",
         "legendgroup": "0.0",
         "line": {
          "color": "#636efa",
          "dash": "solid"
         },
         "mode": "lines",
         "name": "0.0",
         "scene": "scene",
         "showlegend": true,
         "type": "scatter3d",
         "x": [
          0.22340095833416412,
          0.2252540275111208,
          0.22735045924962954,
          0.2295917212572377,
          0.231882677343706,
          0.23413995509077584,
          0.23629802587326354,
          0.2401568952886477,
          0.24182363815386665,
          0.2433133082673536,
          0.2446308205065379,
          0.2457798501776615,
          0.24676019126841234,
          0.2475681292133392,
          0.2481994447452675,
          0.24865374340467786,
          0.24893835961274816,
          0.2490703851500541,
          0.24907623461022685,
          0.2489890602738079,
          0.2488448359793273,
          0.2486779969226523,
          0.2485173702721103,
          0.2483829649894161,
          0.2482840620383805,
          0.2482189117880055,
          0.2481761580052465,
          0.24813786147288786,
          0.2480837098813947,
          0.2479957140798931,
          0.2478624812014476,
          0.24768212829617045,
          0.24746313476678586,
          0.2472229104586991,
          0.2469844451752223,
          0.2467719132022902,
          0.24660636507682746,
          0.2465025588689587,
          0.2464675831027256,
          0.24650133070223626,
          0.24659830634864355,
          0.24674991163842294,
          0.24694638636369354,
          0.2471779499792624,
          0.2474351777998085,
          0.2477089941632807,
          0.24799071555999666,
          0.2482723896654625,
          0.24854742645441386,
          0.2488113366330808,
          0.24906232933087125,
          0.2493015789465698,
          0.24953311284006505,
          0.2497634014413153,
          0.2500007467654949,
          0.2502544538946056,
          0.2508454672594129,
          0.2511928535524751,
          0.2515716499921393,
          0.2519678035982267,
          0.2523548506172937,
          0.2526922874932808,
          0.2529253597828633,
          0.2529867403677808,
          0.25280030166505146,
          0.25228679211099697,
          0.2513709122549474,
          0.2499891924094073,
          0.2480981118741528,
          0.2456818322118984,
          0.2427586352215817,
          0.2393848182626648,
          0.2356546965792805,
          0.2316957231082327,
          0.2276586060280231,
          0.22370349108964765,
          0.21998439479419046,
          0.21663469506362945,
          0.2137563204949499,
          0.21141433725805306,
          0.20963725422178545,
          0.20842206346081565,
          0.2077422157984254,
          0.2075565374635417,
          0.2078174177983279,
          0.20847721387534746,
          0.20949248514584795,
          0.21082620915898406,
          0.2124484615152577,
          0.21433616738439054,
          0.21647246330816186,
          0.21884598509354788,
          0.22145011333503686,
          0.2242819784256052,
          0.2273409269059557,
          0.2306261998236521,
          0.2341337598497237,
          0.2378524918911541,
          0.2417603182027455,
          0.2458210047190995,
          0.24998248225893865,
          0.2541773159219789,
          0.2583255878566119,
          0.2661330914572784,
          0.26962471752676176,
          0.272750587753751,
          0.2754686349795261,
          0.27776277087264684,
          0.2796424693533261,
          0.2811381244706853,
          0.2822935356378288,
          0.2831578798878556,
          0.2837794132197609,
          0.2842019960285814,
          0.28446414670888204,
          0.2845995107137183,
          0.28463765941886354,
          0.2846046771384456,
          0.2845235280267325,
          0.2844144118433451,
          0.2842952497897803,
          0.28418227729830703,
          0.2840905933896547,
          0.28403445601085114,
          0.2840271202467488,
          0.2840801108083633,
          0.2842020090384578,
          0.28439706622635297,
          0.28466412055932594,
          0.2849962873941532,
          0.2853816849849165,
          0.2858051301782473,
          0.2862504208772067,
          0.2867026299348101,
          0.2871498396672941,
          0.2875839436150752,
          0.28800044367924205,
          0.2883974544025179,
          0.28877430829884626,
          0.2891302099247379,
          0.2894633158263321,
          0.28977044998928075,
          0.29004746169641016,
          0.29029007063134776,
          0.2904949680443463,
          0.2906609484394394,
          0.2907898964316427,
          0.29088750210461783,
          0.2909635907530429,
          0.2910319285955755,
          0.2911093441837202,
          0.2912140388178838,
          0.29136307482812274,
          0.29183745314456155,
          0.2921618425120456,
          0.29252307936765554,
          0.2928875309523649,
          0.293208014530761,
          0.2934264708903281,
          0.293478307927333,
          0.29329785863825875,
          0.2928241550430473,
          0.2920061795209718,
          0.2908069581744718,
          0.28920620878836073,
          0.2872015739684499,
          0.2848086405403218,
          0.28205998339410443,
          0.27900345976486074,
          0.275699953134854,
          0.2722207064538025,
          0.2686443076190457,
          0.26505335197162794,
          0.26153083202196714,
          0.2581563541154973,
          0.25500231329369194,
          0.2521302162570997,
          0.24958749476710584,
          0.24740532217546315,
          0.2455979554507441,
          0.2441638990551782,
          0.24308881490590195,
          0.24234972838232105,
          0.241919806007434,
          0.2417728548043837,
          0.2418867397454322,
          0.24224513654020596,
          0.2428373901337881,
          0.24365664905157666,
          0.244696799752238,
          0.2459489678976103,
          0.24739845035292704,
          0.2490228722565325,
          0.2507921134146208,
          0.25267013038769714,
          0.25461828505934825,
          0.2565993134729076,
          0.25858081684979506,
          0.2605372965952917,
          0.2643067702104204,
          0.2660966202679738,
          0.26780970065936344,
          0.2694333852299959,
          0.2709509720296526,
          0.2723415902468121,
          0.2735820406252937,
          0.2746504516342244,
          0.2755307714920916,
          0.27621652828625803,
          0.2767124932929545
         ],
         "y": [
          1.85859128604022,
          1.8279520927409092,
          1.799806254929731,
          1.7742716509466132,
          1.7513789549684717,
          1.7310821755923511,
          1.7132786919083844,
          1.6846027054705712,
          1.673446411850929,
          1.6642344055196323,
          1.6568381466883677,
          1.6511174173683745,
          1.6469071497076673,
          1.6440112727842793,
          1.6422069625803244,
          1.6412581365287835,
          1.6409336641129593,
          1.6410249069539298,
          1.6413585013180234,
          1.6418025323909675,
          1.642266319460088,
          1.6426953655206022,
          1.6430635485468943,
          1.6433645354729312,
          1.6436039298031555,
          1.6437930364780098,
          1.6439445241029056,
          1.6440698165749483,
          1.6441778122161768,
          1.6442744899638406,
          1.6443630470643755,
          1.644444337151366,
          1.6445174799213034,
          1.6445805675285774,
          1.6446314008816671,
          1.644668168637431,
          1.6446899571415103,
          1.6446969787970758,
          1.6446904511881983,
          1.6446721503784958,
          1.6446437705458634,
          1.6446063004872715,
          1.6445596336018542,
          1.6445025509829203,
          1.6444330868334427,
          1.6443491567166175,
          1.644249249676067,
          1.6441329724046438,
          1.6440012807025477,
          1.6438563245126494,
          1.6437009465480394,
          1.6435379786792903,
          1.6433695381140347,
          1.6431965188529514,
          1.6430184078608348,
          1.6428334432046845,
          1.6424319054222571,
          1.6422084538954425,
          1.6419634767753148,
          1.6416882497719765,
          1.6413667332980912,
          1.6409699848195003,
          1.6404488275691496,
          1.6397252975332242,
          1.6386839257952102,
          1.6371644505640677,
          1.6349579212986556,
          1.631808169574961,
          1.6274201515817308,
          1.6214756910553674,
          1.6136557469328148,
          1.603666722055462,
          1.5912669655729428,
          1.5762890585156248,
          1.5586540325969351,
          1.5383752107331137,
          1.515551375127454,
          1.490350914594419,
          1.462990060497476,
          1.4337090388690548,
          1.4027498761616972,
          1.3703388305097093,
          1.3366752582204613,
          1.3019274734873214,
          1.266235064293605,
          1.2297163525507355,
          1.192479312489778,
          1.1546342695175749,
          1.116306964333132,
          1.0776508918807908,
          1.0388580248927393,
          1.000166972861341,
          0.9618672959790906,
          0.9242982822929268,
          0.8878403743019263,
          0.85289797295641,
          0.8198737326408435,
          0.7891365369435275,
          0.7609875885108331,
          0.7356306789952041,
          0.7131529692279133,
          0.6935211036877529,
          0.6765943844441407,
          0.6499337576078186,
          0.6396696617364256,
          0.6311168711878675,
          0.6240708064883369,
          0.618365219455315,
          0.6138596204059171,
          0.6104222195744983,
          0.6079160050530936,
          0.6061927878045961,
          0.6050960338480237,
          0.6044699870597836,
          0.6041710094250754,
          0.6040772976661909,
          0.6040945727257383,
          0.6041571198105021,
          0.6042249616422894,
          0.6042786478391335,
          0.6043131974718003,
          0.6043323921087659,
          0.6043441322881024,
          0.6043571066106496,
          0.6043786755071278,
          0.6044136931251436,
          0.6044639787724394,
          0.6045282405505311,
          0.6046023613496595,
          0.6046800184846953,
          0.6047536005740897,
          0.6048153232114134,
          0.6048583675542188,
          0.6048778181192622,
          0.6048711921517673,
          0.6048384460480075,
          0.604781494265066,
          0.6047034224475402,
          0.6046076460603425,
          0.6044972266796899,
          0.6043744472620329,
          0.6042406442193983,
          0.6040962514675194,
          0.6039410146276295,
          0.6037743347155335,
          0.6035956815591672,
          0.6034049946014169,
          0.6032029814494949,
          0.6029912386005192,
          0.6027721530720018,
          0.6025485910216788,
          0.6023234252624137,
          0.6020989775110409,
          0.6016551963397078,
          0.6014320558063568,
          0.6011997849789306,
          0.6009447742076279,
          0.600643201175186,
          0.6002554419991549,
          0.5997187539880587,
          0.5989387650532539,
          0.5977809096491616,
          0.5960635554683691,
          0.5935550173554726,
          0.5899767544065511,
          0.5850145616551921,
          0.5783383325651079,
          0.5696290597693926,
          0.5586095878293447,
          0.545073933988399,
          0.5289094894314327,
          0.5101075341861896,
          0.4887600328102069,
          0.4650437730686625,
          0.43919551446526056,
          0.4114832125657033,
          0.3821784364385221,
          0.3515340978265427,
          0.31977000805966044,
          0.2870669975652809,
          0.25356876084030544,
          0.21938953683766635,
          0.18462533803259185,
          0.14936663341227693,
          0.11371095750850158,
          0.07777458169981176,
          0.0417028727644865,
          0.005679076245867571,
          -0.030069055466602206,
          -0.06526597797761018,
          -0.09959018092400307,
          -0.13268303091643924,
          -0.16416586098659475,
          -0.19366492885129466,
          -0.22084161971169125,
          -0.2454230856424863,
          -0.26722732048122344,
          -0.28617723731038114,
          -0.3023008005561202,
          -0.32661891019823325,
          -0.33523967626127754,
          -0.3418416758537769,
          -0.34669763088708416,
          -0.35008356092295484,
          -0.3522733986960964,
          -0.35353276875979284,
          -0.3541103924431208,
          -0.3542280515592112,
          -0.3540715433987631,
          -0.3537850453453913
         ],
         "z": [
          0.08728658907422225,
          0.09252206555699068,
          0.09717310640285066,
          0.1007952778087465,
          0.10299406411689377,
          0.10347598814824928,
          0.10209263750293937,
          0.09400968290305307,
          0.08787760256026404,
          0.08094890779153836,
          0.07374804698614369,
          0.06677654322246691,
          0.06044952366707251,
          0.05505298447563466,
          0.0507285844237689,
          0.04748475052459051,
          0.045226491857442416,
          0.043793666459973686,
          0.042998370039094284,
          0.04265513814903756,
          0.04260118369374803,
          0.04270680962405503,
          0.04287793171699955,
          0.043053317864978895,
          0.04319899055781548,
          0.043301631461180386,
          0.04336211714661765,
          0.043389739038676635,
          0.043397318569441685,
          0.04339730225735485,
          0.04339892041841262,
          0.04340651111092437,
          0.0434190725855887,
          0.04343098937683285,
          0.0434337021070677,
          0.04341791279141312,
          0.043375803473590366,
          0.043302753726884455,
          0.043198188004588266,
          0.043065427047242616,
          0.04291067983965376,
          0.04274151269500845,
          0.04256521952563955,
          0.04238748733980939,
          0.04221163254089106,
          0.04203851347129512,
          0.04186703685833311,
          0.04169501696297311,
          0.04152007621180282,
          0.041340328744888855,
          0.04115473301411335,
          0.04096315170328742,
          0.0407662347154721,
          0.040565219247534715,
          0.040361660983219666,
          0.040157044668927895,
          0.03974680550898421,
          0.03953852585856762,
          0.03932326316208076,
          0.03909583769686913,
          0.03885213514432463,
          0.03859261757338614,
          0.03832692043307182,
          0.03807867444347608,
          0.03788917954103906,
          0.03781832681954015,
          0.03794143600707249,
          0.03834151093326688,
          0.0390976146943676,
          0.04027123009013861,
          0.04189321136362742,
          0.04395403285773146,
          0.04639946362885314,
          0.04913269079534436,
          0.05202259742861121,
          0.05491674326305672,
          0.057656860810741485,
          0.06009447066280014,
          0.06210452502123555,
          0.06359568697005817,
          0.06451671327503049,
          0.06485916454134685,
          0.06465713191317103,
          0.06398479764702503,
          0.06295251779523331,
          0.061701862026582,
          0.06039976712374868,
          0.05923170022015287,
          0.05839351165950369,
          0.05808150471403688,
          0.058480177561617226,
          0.05974718263154544,
          0.061995463002190075,
          0.06527338813097201,
          0.06954496284760338,
          0.07467355039009319,
          0.08041359011667966,
          0.08641498125927645,
          0.09224370150271508,
          0.09741967487025854,
          0.10146919262635544,
          0.10398511860422084,
          0.1046848327791194,
          0.1003701537527536,
          0.09568861223800304,
          0.08981070903475084,
          0.0832217064175988,
          0.07642215163416065,
          0.06986271406128726,
          0.06389515629321234,
          0.05874655894021096,
          0.05451763009916169,
          0.05120044562811093,
          0.048707818029174135,
          0.04690606804710982,
          0.04564462520212497,
          0.04477851260722097,
          0.04418239003843652,
          0.04375682490673537,
          0.04342861609593143,
          0.04314738583226678,
          0.0428804996653453,
          0.0426079081967176,
          0.04231790999188453,
          0.04200424749122974,
          0.0416644712703186,
          0.041299213251606834,
          0.04091191234028201,
          0.0405085928920578,
          0.0400974315225162,
          0.0396880001417099,
          0.039290218490263484,
          0.03891317363351688,
          0.0385640395263304,
          0.03824732738828826,
          0.037964605514632495,
          0.03771467546808115,
          0.037494057651579635,
          0.03729759651665944,
          0.03711905375691032,
          0.03695166267351625,
          0.03678869423951379,
          0.036624082189592316,
          0.03645307279444219,
          0.036272778105716365,
          0.036082508820607116,
          0.03588384579220126,
          0.035680486568978965,
          0.03547790729720627,
          0.035282825065976346,
          0.03510238662298455,
          0.03494300665463941,
          0.03480887598931015,
          0.03461266024319615,
          0.034535493556716236,
          0.03445404388852293,
          0.03435180071135405,
          0.034215027843176316,
          0.034038383640025045,
          0.03383074226807212,
          0.03361999744085916,
          0.033455516776506315,
          0.03340702102629415,
          0.03355905824683361,
          0.03400095762634816,
          0.03481311900293181,
          0.036051558038039486,
          0.037733536996830463,
          0.03982753767279724,
          0.0422504157226348,
          0.04487317245314061,
          0.04753473645643174,
          0.05006120807614613,
          0.0522868893806421,
          0.05407337364829506,
          0.0553238084759945,
          0.05599077671609673,
          0.056077667272089286,
          0.05563459390758002,
          0.05475063396244567,
          0.05354434803383102,
          0.05215429616356676,
          0.050730723981741985,
          0.04942888454181856,
          0.04840371775384754,
          0.04780497575812406,
          0.04777148741014497,
          0.04842317281637893,
          0.04984971486929994,
          0.05209557261389754,
          0.0551423584739197,
          0.05889138821329961,
          0.06315103045421158,
          0.06763463593182181,
          0.07197452108358368,
          0.07575510849905748,
          0.07856384869883115,
          0.08005284943639374,
          0.07999903449955345,
          0.07523104437356416,
          0.07094296784477072,
          0.06589409771701685,
          0.060538365403301826,
          0.055301153544143763,
          0.05052165922001868,
          0.04642073163478815,
          0.0430962861931552,
          0.0405410196333998,
          0.0386731282881775,
          0.03737031759485997
         ]
        },
        {
         "hovertemplate": "Zeni=1.0<br>xToeR=%{x}<br>yToeR=%{y}<br>zToeR=%{z}<extra></extra>",
         "legendgroup": "1.0",
         "line": {
          "color": "#EF553B",
          "dash": "solid"
         },
         "mode": "lines",
         "name": "1.0",
         "scene": "scene",
         "showlegend": true,
         "type": "scatter3d",
         "x": [
          0.23831201021591905,
          0.25053363503435344,
          0.2623400526956509,
          0.2915692110891149,
          0.2624502831349069
         ],
         "y": [
          1.6978336942594825,
          1.6426389937121877,
          0.6621527745866642,
          0.601876431711708,
          -0.3157179802514012
         ],
         "z": [
          0.09886907901465868,
          0.03995223193205817,
          0.10345455942783296,
          0.034700351558170764,
          0.07834829591141282
         ]
        }
       ],
       "layout": {
        "legend": {
         "title": {
          "text": "Zeni"
         },
         "tracegroupgap": 0
        },
        "margin": {
         "t": 60
        },
        "scene": {
         "domain": {
          "x": [
           0,
           1
          ],
          "y": [
           0,
           1
          ]
         },
         "xaxis": {
          "title": {
           "text": "xToeR"
          }
         },
         "yaxis": {
          "title": {
           "text": "yToeR"
          }
         },
         "zaxis": {
          "title": {
           "text": "zToeR"
          }
         }
        },
        "template": {
         "data": {
          "bar": [
           {
            "error_x": {
             "color": "#2a3f5f"
            },
            "error_y": {
             "color": "#2a3f5f"
            },
            "marker": {
             "line": {
              "color": "#E5ECF6",
              "width": 0.5
             }
            },
            "type": "bar"
           }
          ],
          "barpolar": [
           {
            "marker": {
             "line": {
              "color": "#E5ECF6",
              "width": 0.5
             }
            },
            "type": "barpolar"
           }
          ],
          "carpet": [
           {
            "aaxis": {
             "endlinecolor": "#2a3f5f",
             "gridcolor": "white",
             "linecolor": "white",
             "minorgridcolor": "white",
             "startlinecolor": "#2a3f5f"
            },
            "baxis": {
             "endlinecolor": "#2a3f5f",
             "gridcolor": "white",
             "linecolor": "white",
             "minorgridcolor": "white",
             "startlinecolor": "#2a3f5f"
            },
            "type": "carpet"
           }
          ],
          "choropleth": [
           {
            "colorbar": {
             "outlinewidth": 0,
             "ticks": ""
            },
            "type": "choropleth"
           }
          ],
          "contour": [
           {
            "colorbar": {
             "outlinewidth": 0,
             "ticks": ""
            },
            "colorscale": [
             [
              0,
              "#0d0887"
             ],
             [
              0.1111111111111111,
              "#46039f"
             ],
             [
              0.2222222222222222,
              "#7201a8"
             ],
             [
              0.3333333333333333,
              "#9c179e"
             ],
             [
              0.4444444444444444,
              "#bd3786"
             ],
             [
              0.5555555555555556,
              "#d8576b"
             ],
             [
              0.6666666666666666,
              "#ed7953"
             ],
             [
              0.7777777777777778,
              "#fb9f3a"
             ],
             [
              0.8888888888888888,
              "#fdca26"
             ],
             [
              1,
              "#f0f921"
             ]
            ],
            "type": "contour"
           }
          ],
          "contourcarpet": [
           {
            "colorbar": {
             "outlinewidth": 0,
             "ticks": ""
            },
            "type": "contourcarpet"
           }
          ],
          "heatmap": [
           {
            "colorbar": {
             "outlinewidth": 0,
             "ticks": ""
            },
            "colorscale": [
             [
              0,
              "#0d0887"
             ],
             [
              0.1111111111111111,
              "#46039f"
             ],
             [
              0.2222222222222222,
              "#7201a8"
             ],
             [
              0.3333333333333333,
              "#9c179e"
             ],
             [
              0.4444444444444444,
              "#bd3786"
             ],
             [
              0.5555555555555556,
              "#d8576b"
             ],
             [
              0.6666666666666666,
              "#ed7953"
             ],
             [
              0.7777777777777778,
              "#fb9f3a"
             ],
             [
              0.8888888888888888,
              "#fdca26"
             ],
             [
              1,
              "#f0f921"
             ]
            ],
            "type": "heatmap"
           }
          ],
          "heatmapgl": [
           {
            "colorbar": {
             "outlinewidth": 0,
             "ticks": ""
            },
            "colorscale": [
             [
              0,
              "#0d0887"
             ],
             [
              0.1111111111111111,
              "#46039f"
             ],
             [
              0.2222222222222222,
              "#7201a8"
             ],
             [
              0.3333333333333333,
              "#9c179e"
             ],
             [
              0.4444444444444444,
              "#bd3786"
             ],
             [
              0.5555555555555556,
              "#d8576b"
             ],
             [
              0.6666666666666666,
              "#ed7953"
             ],
             [
              0.7777777777777778,
              "#fb9f3a"
             ],
             [
              0.8888888888888888,
              "#fdca26"
             ],
             [
              1,
              "#f0f921"
             ]
            ],
            "type": "heatmapgl"
           }
          ],
          "histogram": [
           {
            "marker": {
             "colorbar": {
              "outlinewidth": 0,
              "ticks": ""
             }
            },
            "type": "histogram"
           }
          ],
          "histogram2d": [
           {
            "colorbar": {
             "outlinewidth": 0,
             "ticks": ""
            },
            "colorscale": [
             [
              0,
              "#0d0887"
             ],
             [
              0.1111111111111111,
              "#46039f"
             ],
             [
              0.2222222222222222,
              "#7201a8"
             ],
             [
              0.3333333333333333,
              "#9c179e"
             ],
             [
              0.4444444444444444,
              "#bd3786"
             ],
             [
              0.5555555555555556,
              "#d8576b"
             ],
             [
              0.6666666666666666,
              "#ed7953"
             ],
             [
              0.7777777777777778,
              "#fb9f3a"
             ],
             [
              0.8888888888888888,
              "#fdca26"
             ],
             [
              1,
              "#f0f921"
             ]
            ],
            "type": "histogram2d"
           }
          ],
          "histogram2dcontour": [
           {
            "colorbar": {
             "outlinewidth": 0,
             "ticks": ""
            },
            "colorscale": [
             [
              0,
              "#0d0887"
             ],
             [
              0.1111111111111111,
              "#46039f"
             ],
             [
              0.2222222222222222,
              "#7201a8"
             ],
             [
              0.3333333333333333,
              "#9c179e"
             ],
             [
              0.4444444444444444,
              "#bd3786"
             ],
             [
              0.5555555555555556,
              "#d8576b"
             ],
             [
              0.6666666666666666,
              "#ed7953"
             ],
             [
              0.7777777777777778,
              "#fb9f3a"
             ],
             [
              0.8888888888888888,
              "#fdca26"
             ],
             [
              1,
              "#f0f921"
             ]
            ],
            "type": "histogram2dcontour"
           }
          ],
          "mesh3d": [
           {
            "colorbar": {
             "outlinewidth": 0,
             "ticks": ""
            },
            "type": "mesh3d"
           }
          ],
          "parcoords": [
           {
            "line": {
             "colorbar": {
              "outlinewidth": 0,
              "ticks": ""
             }
            },
            "type": "parcoords"
           }
          ],
          "pie": [
           {
            "automargin": true,
            "type": "pie"
           }
          ],
          "scatter": [
           {
            "marker": {
             "colorbar": {
              "outlinewidth": 0,
              "ticks": ""
             }
            },
            "type": "scatter"
           }
          ],
          "scatter3d": [
           {
            "line": {
             "colorbar": {
              "outlinewidth": 0,
              "ticks": ""
             }
            },
            "marker": {
             "colorbar": {
              "outlinewidth": 0,
              "ticks": ""
             }
            },
            "type": "scatter3d"
           }
          ],
          "scattercarpet": [
           {
            "marker": {
             "colorbar": {
              "outlinewidth": 0,
              "ticks": ""
             }
            },
            "type": "scattercarpet"
           }
          ],
          "scattergeo": [
           {
            "marker": {
             "colorbar": {
              "outlinewidth": 0,
              "ticks": ""
             }
            },
            "type": "scattergeo"
           }
          ],
          "scattergl": [
           {
            "marker": {
             "colorbar": {
              "outlinewidth": 0,
              "ticks": ""
             }
            },
            "type": "scattergl"
           }
          ],
          "scattermapbox": [
           {
            "marker": {
             "colorbar": {
              "outlinewidth": 0,
              "ticks": ""
             }
            },
            "type": "scattermapbox"
           }
          ],
          "scatterpolar": [
           {
            "marker": {
             "colorbar": {
              "outlinewidth": 0,
              "ticks": ""
             }
            },
            "type": "scatterpolar"
           }
          ],
          "scatterpolargl": [
           {
            "marker": {
             "colorbar": {
              "outlinewidth": 0,
              "ticks": ""
             }
            },
            "type": "scatterpolargl"
           }
          ],
          "scatterternary": [
           {
            "marker": {
             "colorbar": {
              "outlinewidth": 0,
              "ticks": ""
             }
            },
            "type": "scatterternary"
           }
          ],
          "surface": [
           {
            "colorbar": {
             "outlinewidth": 0,
             "ticks": ""
            },
            "colorscale": [
             [
              0,
              "#0d0887"
             ],
             [
              0.1111111111111111,
              "#46039f"
             ],
             [
              0.2222222222222222,
              "#7201a8"
             ],
             [
              0.3333333333333333,
              "#9c179e"
             ],
             [
              0.4444444444444444,
              "#bd3786"
             ],
             [
              0.5555555555555556,
              "#d8576b"
             ],
             [
              0.6666666666666666,
              "#ed7953"
             ],
             [
              0.7777777777777778,
              "#fb9f3a"
             ],
             [
              0.8888888888888888,
              "#fdca26"
             ],
             [
              1,
              "#f0f921"
             ]
            ],
            "type": "surface"
           }
          ],
          "table": [
           {
            "cells": {
             "fill": {
              "color": "#EBF0F8"
             },
             "line": {
              "color": "white"
             }
            },
            "header": {
             "fill": {
              "color": "#C8D4E3"
             },
             "line": {
              "color": "white"
             }
            },
            "type": "table"
           }
          ]
         },
         "layout": {
          "annotationdefaults": {
           "arrowcolor": "#2a3f5f",
           "arrowhead": 0,
           "arrowwidth": 1
          },
          "autotypenumbers": "strict",
          "coloraxis": {
           "colorbar": {
            "outlinewidth": 0,
            "ticks": ""
           }
          },
          "colorscale": {
           "diverging": [
            [
             0,
             "#8e0152"
            ],
            [
             0.1,
             "#c51b7d"
            ],
            [
             0.2,
             "#de77ae"
            ],
            [
             0.3,
             "#f1b6da"
            ],
            [
             0.4,
             "#fde0ef"
            ],
            [
             0.5,
             "#f7f7f7"
            ],
            [
             0.6,
             "#e6f5d0"
            ],
            [
             0.7,
             "#b8e186"
            ],
            [
             0.8,
             "#7fbc41"
            ],
            [
             0.9,
             "#4d9221"
            ],
            [
             1,
             "#276419"
            ]
           ],
           "sequential": [
            [
             0,
             "#0d0887"
            ],
            [
             0.1111111111111111,
             "#46039f"
            ],
            [
             0.2222222222222222,
             "#7201a8"
            ],
            [
             0.3333333333333333,
             "#9c179e"
            ],
            [
             0.4444444444444444,
             "#bd3786"
            ],
            [
             0.5555555555555556,
             "#d8576b"
            ],
            [
             0.6666666666666666,
             "#ed7953"
            ],
            [
             0.7777777777777778,
             "#fb9f3a"
            ],
            [
             0.8888888888888888,
             "#fdca26"
            ],
            [
             1,
             "#f0f921"
            ]
           ],
           "sequentialminus": [
            [
             0,
             "#0d0887"
            ],
            [
             0.1111111111111111,
             "#46039f"
            ],
            [
             0.2222222222222222,
             "#7201a8"
            ],
            [
             0.3333333333333333,
             "#9c179e"
            ],
            [
             0.4444444444444444,
             "#bd3786"
            ],
            [
             0.5555555555555556,
             "#d8576b"
            ],
            [
             0.6666666666666666,
             "#ed7953"
            ],
            [
             0.7777777777777778,
             "#fb9f3a"
            ],
            [
             0.8888888888888888,
             "#fdca26"
            ],
            [
             1,
             "#f0f921"
            ]
           ]
          },
          "colorway": [
           "#636efa",
           "#EF553B",
           "#00cc96",
           "#ab63fa",
           "#FFA15A",
           "#19d3f3",
           "#FF6692",
           "#B6E880",
           "#FF97FF",
           "#FECB52"
          ],
          "font": {
           "color": "#2a3f5f"
          },
          "geo": {
           "bgcolor": "white",
           "lakecolor": "white",
           "landcolor": "#E5ECF6",
           "showlakes": true,
           "showland": true,
           "subunitcolor": "white"
          },
          "hoverlabel": {
           "align": "left"
          },
          "hovermode": "closest",
          "mapbox": {
           "style": "light"
          },
          "paper_bgcolor": "white",
          "plot_bgcolor": "#E5ECF6",
          "polar": {
           "angularaxis": {
            "gridcolor": "white",
            "linecolor": "white",
            "ticks": ""
           },
           "bgcolor": "#E5ECF6",
           "radialaxis": {
            "gridcolor": "white",
            "linecolor": "white",
            "ticks": ""
           }
          },
          "scene": {
           "xaxis": {
            "backgroundcolor": "#E5ECF6",
            "gridcolor": "white",
            "gridwidth": 2,
            "linecolor": "white",
            "showbackground": true,
            "ticks": "",
            "zerolinecolor": "white"
           },
           "yaxis": {
            "backgroundcolor": "#E5ECF6",
            "gridcolor": "white",
            "gridwidth": 2,
            "linecolor": "white",
            "showbackground": true,
            "ticks": "",
            "zerolinecolor": "white"
           },
           "zaxis": {
            "backgroundcolor": "#E5ECF6",
            "gridcolor": "white",
            "gridwidth": 2,
            "linecolor": "white",
            "showbackground": true,
            "ticks": "",
            "zerolinecolor": "white"
           }
          },
          "shapedefaults": {
           "line": {
            "color": "#2a3f5f"
           }
          },
          "ternary": {
           "aaxis": {
            "gridcolor": "white",
            "linecolor": "white",
            "ticks": ""
           },
           "baxis": {
            "gridcolor": "white",
            "linecolor": "white",
            "ticks": ""
           },
           "bgcolor": "#E5ECF6",
           "caxis": {
            "gridcolor": "white",
            "linecolor": "white",
            "ticks": ""
           }
          },
          "title": {
           "x": 0.05
          },
          "xaxis": {
           "automargin": true,
           "gridcolor": "white",
           "linecolor": "white",
           "ticks": "",
           "title": {
            "standoff": 15
           },
           "zerolinecolor": "white",
           "zerolinewidth": 2
          },
          "yaxis": {
           "automargin": true,
           "gridcolor": "white",
           "linecolor": "white",
           "ticks": "",
           "title": {
            "standoff": 15
           },
           "zerolinecolor": "white",
           "zerolinewidth": 2
          }
         }
        }
       }
      },
      "text/html": [
       "<div>                            <div id=\"bd13121c-6c5d-4383-b288-b5b962e9b89a\" class=\"plotly-graph-div\" style=\"height:525px; width:100%;\"></div>            <script type=\"text/javascript\">                require([\"plotly\"], function(Plotly) {                    window.PLOTLYENV=window.PLOTLYENV || {};                                    if (document.getElementById(\"bd13121c-6c5d-4383-b288-b5b962e9b89a\")) {                    Plotly.newPlot(                        \"bd13121c-6c5d-4383-b288-b5b962e9b89a\",                        [{\"hovertemplate\": \"Zeni=0.0<br>xToeR=%{x}<br>yToeR=%{y}<br>zToeR=%{z}<extra></extra>\", \"legendgroup\": \"0.0\", \"line\": {\"color\": \"#636efa\", \"dash\": \"solid\"}, \"mode\": \"lines\", \"name\": \"0.0\", \"scene\": \"scene\", \"showlegend\": true, \"type\": \"scatter3d\", \"x\": [0.22340095833416412, 0.2252540275111208, 0.22735045924962954, 0.2295917212572377, 0.231882677343706, 0.23413995509077584, 0.23629802587326354, 0.2401568952886477, 0.24182363815386665, 0.2433133082673536, 0.2446308205065379, 0.2457798501776615, 0.24676019126841234, 0.2475681292133392, 0.2481994447452675, 0.24865374340467786, 0.24893835961274816, 0.2490703851500541, 0.24907623461022685, 0.2489890602738079, 0.2488448359793273, 0.2486779969226523, 0.2485173702721103, 0.2483829649894161, 0.2482840620383805, 0.2482189117880055, 0.2481761580052465, 0.24813786147288786, 0.2480837098813947, 0.2479957140798931, 0.2478624812014476, 0.24768212829617045, 0.24746313476678586, 0.2472229104586991, 0.2469844451752223, 0.2467719132022902, 0.24660636507682746, 0.2465025588689587, 0.2464675831027256, 0.24650133070223626, 0.24659830634864355, 0.24674991163842294, 0.24694638636369354, 0.2471779499792624, 0.2474351777998085, 0.2477089941632807, 0.24799071555999666, 0.2482723896654625, 0.24854742645441386, 0.2488113366330808, 0.24906232933087125, 0.2493015789465698, 0.24953311284006505, 0.2497634014413153, 0.2500007467654949, 0.2502544538946056, 0.2508454672594129, 0.2511928535524751, 0.2515716499921393, 0.2519678035982267, 0.2523548506172937, 0.2526922874932808, 0.2529253597828633, 0.2529867403677808, 0.25280030166505146, 0.25228679211099697, 0.2513709122549474, 0.2499891924094073, 0.2480981118741528, 0.2456818322118984, 0.2427586352215817, 0.2393848182626648, 0.2356546965792805, 0.2316957231082327, 0.2276586060280231, 0.22370349108964765, 0.21998439479419046, 0.21663469506362945, 0.2137563204949499, 0.21141433725805306, 0.20963725422178545, 0.20842206346081565, 0.2077422157984254, 0.2075565374635417, 0.2078174177983279, 0.20847721387534746, 0.20949248514584795, 0.21082620915898406, 0.2124484615152577, 0.21433616738439054, 0.21647246330816186, 0.21884598509354788, 0.22145011333503686, 0.2242819784256052, 0.2273409269059557, 0.2306261998236521, 0.2341337598497237, 0.2378524918911541, 0.2417603182027455, 0.2458210047190995, 0.24998248225893865, 0.2541773159219789, 0.2583255878566119, 0.2661330914572784, 0.26962471752676176, 0.272750587753751, 0.2754686349795261, 0.27776277087264684, 0.2796424693533261, 0.2811381244706853, 0.2822935356378288, 0.2831578798878556, 0.2837794132197609, 0.2842019960285814, 0.28446414670888204, 0.2845995107137183, 0.28463765941886354, 0.2846046771384456, 0.2845235280267325, 0.2844144118433451, 0.2842952497897803, 0.28418227729830703, 0.2840905933896547, 0.28403445601085114, 0.2840271202467488, 0.2840801108083633, 0.2842020090384578, 0.28439706622635297, 0.28466412055932594, 0.2849962873941532, 0.2853816849849165, 0.2858051301782473, 0.2862504208772067, 0.2867026299348101, 0.2871498396672941, 0.2875839436150752, 0.28800044367924205, 0.2883974544025179, 0.28877430829884626, 0.2891302099247379, 0.2894633158263321, 0.28977044998928075, 0.29004746169641016, 0.29029007063134776, 0.2904949680443463, 0.2906609484394394, 0.2907898964316427, 0.29088750210461783, 0.2909635907530429, 0.2910319285955755, 0.2911093441837202, 0.2912140388178838, 0.29136307482812274, 0.29183745314456155, 0.2921618425120456, 0.29252307936765554, 0.2928875309523649, 0.293208014530761, 0.2934264708903281, 0.293478307927333, 0.29329785863825875, 0.2928241550430473, 0.2920061795209718, 0.2908069581744718, 0.28920620878836073, 0.2872015739684499, 0.2848086405403218, 0.28205998339410443, 0.27900345976486074, 0.275699953134854, 0.2722207064538025, 0.2686443076190457, 0.26505335197162794, 0.26153083202196714, 0.2581563541154973, 0.25500231329369194, 0.2521302162570997, 0.24958749476710584, 0.24740532217546315, 0.2455979554507441, 0.2441638990551782, 0.24308881490590195, 0.24234972838232105, 0.241919806007434, 0.2417728548043837, 0.2418867397454322, 0.24224513654020596, 0.2428373901337881, 0.24365664905157666, 0.244696799752238, 0.2459489678976103, 0.24739845035292704, 0.2490228722565325, 0.2507921134146208, 0.25267013038769714, 0.25461828505934825, 0.2565993134729076, 0.25858081684979506, 0.2605372965952917, 0.2643067702104204, 0.2660966202679738, 0.26780970065936344, 0.2694333852299959, 0.2709509720296526, 0.2723415902468121, 0.2735820406252937, 0.2746504516342244, 0.2755307714920916, 0.27621652828625803, 0.2767124932929545], \"y\": [1.85859128604022, 1.8279520927409092, 1.799806254929731, 1.7742716509466132, 1.7513789549684717, 1.7310821755923511, 1.7132786919083844, 1.6846027054705712, 1.673446411850929, 1.6642344055196323, 1.6568381466883677, 1.6511174173683745, 1.6469071497076673, 1.6440112727842793, 1.6422069625803244, 1.6412581365287835, 1.6409336641129593, 1.6410249069539298, 1.6413585013180234, 1.6418025323909675, 1.642266319460088, 1.6426953655206022, 1.6430635485468943, 1.6433645354729312, 1.6436039298031555, 1.6437930364780098, 1.6439445241029056, 1.6440698165749483, 1.6441778122161768, 1.6442744899638406, 1.6443630470643755, 1.644444337151366, 1.6445174799213034, 1.6445805675285774, 1.6446314008816671, 1.644668168637431, 1.6446899571415103, 1.6446969787970758, 1.6446904511881983, 1.6446721503784958, 1.6446437705458634, 1.6446063004872715, 1.6445596336018542, 1.6445025509829203, 1.6444330868334427, 1.6443491567166175, 1.644249249676067, 1.6441329724046438, 1.6440012807025477, 1.6438563245126494, 1.6437009465480394, 1.6435379786792903, 1.6433695381140347, 1.6431965188529514, 1.6430184078608348, 1.6428334432046845, 1.6424319054222571, 1.6422084538954425, 1.6419634767753148, 1.6416882497719765, 1.6413667332980912, 1.6409699848195003, 1.6404488275691496, 1.6397252975332242, 1.6386839257952102, 1.6371644505640677, 1.6349579212986556, 1.631808169574961, 1.6274201515817308, 1.6214756910553674, 1.6136557469328148, 1.603666722055462, 1.5912669655729428, 1.5762890585156248, 1.5586540325969351, 1.5383752107331137, 1.515551375127454, 1.490350914594419, 1.462990060497476, 1.4337090388690548, 1.4027498761616972, 1.3703388305097093, 1.3366752582204613, 1.3019274734873214, 1.266235064293605, 1.2297163525507355, 1.192479312489778, 1.1546342695175749, 1.116306964333132, 1.0776508918807908, 1.0388580248927393, 1.000166972861341, 0.9618672959790906, 0.9242982822929268, 0.8878403743019263, 0.85289797295641, 0.8198737326408435, 0.7891365369435275, 0.7609875885108331, 0.7356306789952041, 0.7131529692279133, 0.6935211036877529, 0.6765943844441407, 0.6499337576078186, 0.6396696617364256, 0.6311168711878675, 0.6240708064883369, 0.618365219455315, 0.6138596204059171, 0.6104222195744983, 0.6079160050530936, 0.6061927878045961, 0.6050960338480237, 0.6044699870597836, 0.6041710094250754, 0.6040772976661909, 0.6040945727257383, 0.6041571198105021, 0.6042249616422894, 0.6042786478391335, 0.6043131974718003, 0.6043323921087659, 0.6043441322881024, 0.6043571066106496, 0.6043786755071278, 0.6044136931251436, 0.6044639787724394, 0.6045282405505311, 0.6046023613496595, 0.6046800184846953, 0.6047536005740897, 0.6048153232114134, 0.6048583675542188, 0.6048778181192622, 0.6048711921517673, 0.6048384460480075, 0.604781494265066, 0.6047034224475402, 0.6046076460603425, 0.6044972266796899, 0.6043744472620329, 0.6042406442193983, 0.6040962514675194, 0.6039410146276295, 0.6037743347155335, 0.6035956815591672, 0.6034049946014169, 0.6032029814494949, 0.6029912386005192, 0.6027721530720018, 0.6025485910216788, 0.6023234252624137, 0.6020989775110409, 0.6016551963397078, 0.6014320558063568, 0.6011997849789306, 0.6009447742076279, 0.600643201175186, 0.6002554419991549, 0.5997187539880587, 0.5989387650532539, 0.5977809096491616, 0.5960635554683691, 0.5935550173554726, 0.5899767544065511, 0.5850145616551921, 0.5783383325651079, 0.5696290597693926, 0.5586095878293447, 0.545073933988399, 0.5289094894314327, 0.5101075341861896, 0.4887600328102069, 0.4650437730686625, 0.43919551446526056, 0.4114832125657033, 0.3821784364385221, 0.3515340978265427, 0.31977000805966044, 0.2870669975652809, 0.25356876084030544, 0.21938953683766635, 0.18462533803259185, 0.14936663341227693, 0.11371095750850158, 0.07777458169981176, 0.0417028727644865, 0.005679076245867571, -0.030069055466602206, -0.06526597797761018, -0.09959018092400307, -0.13268303091643924, -0.16416586098659475, -0.19366492885129466, -0.22084161971169125, -0.2454230856424863, -0.26722732048122344, -0.28617723731038114, -0.3023008005561202, -0.32661891019823325, -0.33523967626127754, -0.3418416758537769, -0.34669763088708416, -0.35008356092295484, -0.3522733986960964, -0.35353276875979284, -0.3541103924431208, -0.3542280515592112, -0.3540715433987631, -0.3537850453453913], \"z\": [0.08728658907422225, 0.09252206555699068, 0.09717310640285066, 0.1007952778087465, 0.10299406411689377, 0.10347598814824928, 0.10209263750293937, 0.09400968290305307, 0.08787760256026404, 0.08094890779153836, 0.07374804698614369, 0.06677654322246691, 0.06044952366707251, 0.05505298447563466, 0.0507285844237689, 0.04748475052459051, 0.045226491857442416, 0.043793666459973686, 0.042998370039094284, 0.04265513814903756, 0.04260118369374803, 0.04270680962405503, 0.04287793171699955, 0.043053317864978895, 0.04319899055781548, 0.043301631461180386, 0.04336211714661765, 0.043389739038676635, 0.043397318569441685, 0.04339730225735485, 0.04339892041841262, 0.04340651111092437, 0.0434190725855887, 0.04343098937683285, 0.0434337021070677, 0.04341791279141312, 0.043375803473590366, 0.043302753726884455, 0.043198188004588266, 0.043065427047242616, 0.04291067983965376, 0.04274151269500845, 0.04256521952563955, 0.04238748733980939, 0.04221163254089106, 0.04203851347129512, 0.04186703685833311, 0.04169501696297311, 0.04152007621180282, 0.041340328744888855, 0.04115473301411335, 0.04096315170328742, 0.0407662347154721, 0.040565219247534715, 0.040361660983219666, 0.040157044668927895, 0.03974680550898421, 0.03953852585856762, 0.03932326316208076, 0.03909583769686913, 0.03885213514432463, 0.03859261757338614, 0.03832692043307182, 0.03807867444347608, 0.03788917954103906, 0.03781832681954015, 0.03794143600707249, 0.03834151093326688, 0.0390976146943676, 0.04027123009013861, 0.04189321136362742, 0.04395403285773146, 0.04639946362885314, 0.04913269079534436, 0.05202259742861121, 0.05491674326305672, 0.057656860810741485, 0.06009447066280014, 0.06210452502123555, 0.06359568697005817, 0.06451671327503049, 0.06485916454134685, 0.06465713191317103, 0.06398479764702503, 0.06295251779523331, 0.061701862026582, 0.06039976712374868, 0.05923170022015287, 0.05839351165950369, 0.05808150471403688, 0.058480177561617226, 0.05974718263154544, 0.061995463002190075, 0.06527338813097201, 0.06954496284760338, 0.07467355039009319, 0.08041359011667966, 0.08641498125927645, 0.09224370150271508, 0.09741967487025854, 0.10146919262635544, 0.10398511860422084, 0.1046848327791194, 0.1003701537527536, 0.09568861223800304, 0.08981070903475084, 0.0832217064175988, 0.07642215163416065, 0.06986271406128726, 0.06389515629321234, 0.05874655894021096, 0.05451763009916169, 0.05120044562811093, 0.048707818029174135, 0.04690606804710982, 0.04564462520212497, 0.04477851260722097, 0.04418239003843652, 0.04375682490673537, 0.04342861609593143, 0.04314738583226678, 0.0428804996653453, 0.0426079081967176, 0.04231790999188453, 0.04200424749122974, 0.0416644712703186, 0.041299213251606834, 0.04091191234028201, 0.0405085928920578, 0.0400974315225162, 0.0396880001417099, 0.039290218490263484, 0.03891317363351688, 0.0385640395263304, 0.03824732738828826, 0.037964605514632495, 0.03771467546808115, 0.037494057651579635, 0.03729759651665944, 0.03711905375691032, 0.03695166267351625, 0.03678869423951379, 0.036624082189592316, 0.03645307279444219, 0.036272778105716365, 0.036082508820607116, 0.03588384579220126, 0.035680486568978965, 0.03547790729720627, 0.035282825065976346, 0.03510238662298455, 0.03494300665463941, 0.03480887598931015, 0.03461266024319615, 0.034535493556716236, 0.03445404388852293, 0.03435180071135405, 0.034215027843176316, 0.034038383640025045, 0.03383074226807212, 0.03361999744085916, 0.033455516776506315, 0.03340702102629415, 0.03355905824683361, 0.03400095762634816, 0.03481311900293181, 0.036051558038039486, 0.037733536996830463, 0.03982753767279724, 0.0422504157226348, 0.04487317245314061, 0.04753473645643174, 0.05006120807614613, 0.0522868893806421, 0.05407337364829506, 0.0553238084759945, 0.05599077671609673, 0.056077667272089286, 0.05563459390758002, 0.05475063396244567, 0.05354434803383102, 0.05215429616356676, 0.050730723981741985, 0.04942888454181856, 0.04840371775384754, 0.04780497575812406, 0.04777148741014497, 0.04842317281637893, 0.04984971486929994, 0.05209557261389754, 0.0551423584739197, 0.05889138821329961, 0.06315103045421158, 0.06763463593182181, 0.07197452108358368, 0.07575510849905748, 0.07856384869883115, 0.08005284943639374, 0.07999903449955345, 0.07523104437356416, 0.07094296784477072, 0.06589409771701685, 0.060538365403301826, 0.055301153544143763, 0.05052165922001868, 0.04642073163478815, 0.0430962861931552, 0.0405410196333998, 0.0386731282881775, 0.03737031759485997]}, {\"hovertemplate\": \"Zeni=1.0<br>xToeR=%{x}<br>yToeR=%{y}<br>zToeR=%{z}<extra></extra>\", \"legendgroup\": \"1.0\", \"line\": {\"color\": \"#EF553B\", \"dash\": \"solid\"}, \"mode\": \"lines\", \"name\": \"1.0\", \"scene\": \"scene\", \"showlegend\": true, \"type\": \"scatter3d\", \"x\": [0.23831201021591905, 0.25053363503435344, 0.2623400526956509, 0.2915692110891149, 0.2624502831349069], \"y\": [1.6978336942594825, 1.6426389937121877, 0.6621527745866642, 0.601876431711708, -0.3157179802514012], \"z\": [0.09886907901465868, 0.03995223193205817, 0.10345455942783296, 0.034700351558170764, 0.07834829591141282]}],                        {\"legend\": {\"title\": {\"text\": \"Zeni\"}, \"tracegroupgap\": 0}, \"margin\": {\"t\": 60}, \"scene\": {\"domain\": {\"x\": [0.0, 1.0], \"y\": [0.0, 1.0]}, \"xaxis\": {\"title\": {\"text\": \"xToeR\"}}, \"yaxis\": {\"title\": {\"text\": \"yToeR\"}}, \"zaxis\": {\"title\": {\"text\": \"zToeR\"}}}, \"template\": {\"data\": {\"bar\": [{\"error_x\": {\"color\": \"#2a3f5f\"}, \"error_y\": {\"color\": \"#2a3f5f\"}, \"marker\": {\"line\": {\"color\": \"#E5ECF6\", \"width\": 0.5}}, \"type\": \"bar\"}], \"barpolar\": [{\"marker\": {\"line\": {\"color\": \"#E5ECF6\", \"width\": 0.5}}, \"type\": \"barpolar\"}], \"carpet\": [{\"aaxis\": {\"endlinecolor\": \"#2a3f5f\", \"gridcolor\": \"white\", \"linecolor\": \"white\", \"minorgridcolor\": \"white\", \"startlinecolor\": \"#2a3f5f\"}, \"baxis\": {\"endlinecolor\": \"#2a3f5f\", \"gridcolor\": \"white\", \"linecolor\": \"white\", \"minorgridcolor\": \"white\", \"startlinecolor\": \"#2a3f5f\"}, \"type\": \"carpet\"}], \"choropleth\": [{\"colorbar\": {\"outlinewidth\": 0, \"ticks\": \"\"}, \"type\": \"choropleth\"}], \"contour\": [{\"colorbar\": {\"outlinewidth\": 0, \"ticks\": \"\"}, \"colorscale\": [[0.0, \"#0d0887\"], [0.1111111111111111, \"#46039f\"], [0.2222222222222222, \"#7201a8\"], [0.3333333333333333, \"#9c179e\"], [0.4444444444444444, \"#bd3786\"], [0.5555555555555556, \"#d8576b\"], [0.6666666666666666, \"#ed7953\"], [0.7777777777777778, \"#fb9f3a\"], [0.8888888888888888, \"#fdca26\"], [1.0, \"#f0f921\"]], \"type\": \"contour\"}], \"contourcarpet\": [{\"colorbar\": {\"outlinewidth\": 0, \"ticks\": \"\"}, \"type\": \"contourcarpet\"}], \"heatmap\": [{\"colorbar\": {\"outlinewidth\": 0, \"ticks\": \"\"}, \"colorscale\": [[0.0, \"#0d0887\"], [0.1111111111111111, \"#46039f\"], [0.2222222222222222, \"#7201a8\"], [0.3333333333333333, \"#9c179e\"], [0.4444444444444444, \"#bd3786\"], [0.5555555555555556, \"#d8576b\"], [0.6666666666666666, \"#ed7953\"], [0.7777777777777778, \"#fb9f3a\"], [0.8888888888888888, \"#fdca26\"], [1.0, \"#f0f921\"]], \"type\": \"heatmap\"}], \"heatmapgl\": [{\"colorbar\": {\"outlinewidth\": 0, \"ticks\": \"\"}, \"colorscale\": [[0.0, \"#0d0887\"], [0.1111111111111111, \"#46039f\"], [0.2222222222222222, \"#7201a8\"], [0.3333333333333333, \"#9c179e\"], [0.4444444444444444, \"#bd3786\"], [0.5555555555555556, \"#d8576b\"], [0.6666666666666666, \"#ed7953\"], [0.7777777777777778, \"#fb9f3a\"], [0.8888888888888888, \"#fdca26\"], [1.0, \"#f0f921\"]], \"type\": \"heatmapgl\"}], \"histogram\": [{\"marker\": {\"colorbar\": {\"outlinewidth\": 0, \"ticks\": \"\"}}, \"type\": \"histogram\"}], \"histogram2d\": [{\"colorbar\": {\"outlinewidth\": 0, \"ticks\": \"\"}, \"colorscale\": [[0.0, \"#0d0887\"], [0.1111111111111111, \"#46039f\"], [0.2222222222222222, \"#7201a8\"], [0.3333333333333333, \"#9c179e\"], [0.4444444444444444, \"#bd3786\"], [0.5555555555555556, \"#d8576b\"], [0.6666666666666666, \"#ed7953\"], [0.7777777777777778, \"#fb9f3a\"], [0.8888888888888888, \"#fdca26\"], [1.0, \"#f0f921\"]], \"type\": \"histogram2d\"}], \"histogram2dcontour\": [{\"colorbar\": {\"outlinewidth\": 0, \"ticks\": \"\"}, \"colorscale\": [[0.0, \"#0d0887\"], [0.1111111111111111, \"#46039f\"], [0.2222222222222222, \"#7201a8\"], [0.3333333333333333, \"#9c179e\"], [0.4444444444444444, \"#bd3786\"], [0.5555555555555556, \"#d8576b\"], [0.6666666666666666, \"#ed7953\"], [0.7777777777777778, \"#fb9f3a\"], [0.8888888888888888, \"#fdca26\"], [1.0, \"#f0f921\"]], \"type\": \"histogram2dcontour\"}], \"mesh3d\": [{\"colorbar\": {\"outlinewidth\": 0, \"ticks\": \"\"}, \"type\": \"mesh3d\"}], \"parcoords\": [{\"line\": {\"colorbar\": {\"outlinewidth\": 0, \"ticks\": \"\"}}, \"type\": \"parcoords\"}], \"pie\": [{\"automargin\": true, \"type\": \"pie\"}], \"scatter\": [{\"marker\": {\"colorbar\": {\"outlinewidth\": 0, \"ticks\": \"\"}}, \"type\": \"scatter\"}], \"scatter3d\": [{\"line\": {\"colorbar\": {\"outlinewidth\": 0, \"ticks\": \"\"}}, \"marker\": {\"colorbar\": {\"outlinewidth\": 0, \"ticks\": \"\"}}, \"type\": \"scatter3d\"}], \"scattercarpet\": [{\"marker\": {\"colorbar\": {\"outlinewidth\": 0, \"ticks\": \"\"}}, \"type\": \"scattercarpet\"}], \"scattergeo\": [{\"marker\": {\"colorbar\": {\"outlinewidth\": 0, \"ticks\": \"\"}}, \"type\": \"scattergeo\"}], \"scattergl\": [{\"marker\": {\"colorbar\": {\"outlinewidth\": 0, \"ticks\": \"\"}}, \"type\": \"scattergl\"}], \"scattermapbox\": [{\"marker\": {\"colorbar\": {\"outlinewidth\": 0, \"ticks\": \"\"}}, \"type\": \"scattermapbox\"}], \"scatterpolar\": [{\"marker\": {\"colorbar\": {\"outlinewidth\": 0, \"ticks\": \"\"}}, \"type\": \"scatterpolar\"}], \"scatterpolargl\": [{\"marker\": {\"colorbar\": {\"outlinewidth\": 0, \"ticks\": \"\"}}, \"type\": \"scatterpolargl\"}], \"scatterternary\": [{\"marker\": {\"colorbar\": {\"outlinewidth\": 0, \"ticks\": \"\"}}, \"type\": \"scatterternary\"}], \"surface\": [{\"colorbar\": {\"outlinewidth\": 0, \"ticks\": \"\"}, \"colorscale\": [[0.0, \"#0d0887\"], [0.1111111111111111, \"#46039f\"], [0.2222222222222222, \"#7201a8\"], [0.3333333333333333, \"#9c179e\"], [0.4444444444444444, \"#bd3786\"], [0.5555555555555556, \"#d8576b\"], [0.6666666666666666, \"#ed7953\"], [0.7777777777777778, \"#fb9f3a\"], [0.8888888888888888, \"#fdca26\"], [1.0, \"#f0f921\"]], \"type\": \"surface\"}], \"table\": [{\"cells\": {\"fill\": {\"color\": \"#EBF0F8\"}, \"line\": {\"color\": \"white\"}}, \"header\": {\"fill\": {\"color\": \"#C8D4E3\"}, \"line\": {\"color\": \"white\"}}, \"type\": \"table\"}]}, \"layout\": {\"annotationdefaults\": {\"arrowcolor\": \"#2a3f5f\", \"arrowhead\": 0, \"arrowwidth\": 1}, \"autotypenumbers\": \"strict\", \"coloraxis\": {\"colorbar\": {\"outlinewidth\": 0, \"ticks\": \"\"}}, \"colorscale\": {\"diverging\": [[0, \"#8e0152\"], [0.1, \"#c51b7d\"], [0.2, \"#de77ae\"], [0.3, \"#f1b6da\"], [0.4, \"#fde0ef\"], [0.5, \"#f7f7f7\"], [0.6, \"#e6f5d0\"], [0.7, \"#b8e186\"], [0.8, \"#7fbc41\"], [0.9, \"#4d9221\"], [1, \"#276419\"]], \"sequential\": [[0.0, \"#0d0887\"], [0.1111111111111111, \"#46039f\"], [0.2222222222222222, \"#7201a8\"], [0.3333333333333333, \"#9c179e\"], [0.4444444444444444, \"#bd3786\"], [0.5555555555555556, \"#d8576b\"], [0.6666666666666666, \"#ed7953\"], [0.7777777777777778, \"#fb9f3a\"], [0.8888888888888888, \"#fdca26\"], [1.0, \"#f0f921\"]], \"sequentialminus\": [[0.0, \"#0d0887\"], [0.1111111111111111, \"#46039f\"], [0.2222222222222222, \"#7201a8\"], [0.3333333333333333, \"#9c179e\"], [0.4444444444444444, \"#bd3786\"], [0.5555555555555556, \"#d8576b\"], [0.6666666666666666, \"#ed7953\"], [0.7777777777777778, \"#fb9f3a\"], [0.8888888888888888, \"#fdca26\"], [1.0, \"#f0f921\"]]}, \"colorway\": [\"#636efa\", \"#EF553B\", \"#00cc96\", \"#ab63fa\", \"#FFA15A\", \"#19d3f3\", \"#FF6692\", \"#B6E880\", \"#FF97FF\", \"#FECB52\"], \"font\": {\"color\": \"#2a3f5f\"}, \"geo\": {\"bgcolor\": \"white\", \"lakecolor\": \"white\", \"landcolor\": \"#E5ECF6\", \"showlakes\": true, \"showland\": true, \"subunitcolor\": \"white\"}, \"hoverlabel\": {\"align\": \"left\"}, \"hovermode\": \"closest\", \"mapbox\": {\"style\": \"light\"}, \"paper_bgcolor\": \"white\", \"plot_bgcolor\": \"#E5ECF6\", \"polar\": {\"angularaxis\": {\"gridcolor\": \"white\", \"linecolor\": \"white\", \"ticks\": \"\"}, \"bgcolor\": \"#E5ECF6\", \"radialaxis\": {\"gridcolor\": \"white\", \"linecolor\": \"white\", \"ticks\": \"\"}}, \"scene\": {\"xaxis\": {\"backgroundcolor\": \"#E5ECF6\", \"gridcolor\": \"white\", \"gridwidth\": 2, \"linecolor\": \"white\", \"showbackground\": true, \"ticks\": \"\", \"zerolinecolor\": \"white\"}, \"yaxis\": {\"backgroundcolor\": \"#E5ECF6\", \"gridcolor\": \"white\", \"gridwidth\": 2, \"linecolor\": \"white\", \"showbackground\": true, \"ticks\": \"\", \"zerolinecolor\": \"white\"}, \"zaxis\": {\"backgroundcolor\": \"#E5ECF6\", \"gridcolor\": \"white\", \"gridwidth\": 2, \"linecolor\": \"white\", \"showbackground\": true, \"ticks\": \"\", \"zerolinecolor\": \"white\"}}, \"shapedefaults\": {\"line\": {\"color\": \"#2a3f5f\"}}, \"ternary\": {\"aaxis\": {\"gridcolor\": \"white\", \"linecolor\": \"white\", \"ticks\": \"\"}, \"baxis\": {\"gridcolor\": \"white\", \"linecolor\": \"white\", \"ticks\": \"\"}, \"bgcolor\": \"#E5ECF6\", \"caxis\": {\"gridcolor\": \"white\", \"linecolor\": \"white\", \"ticks\": \"\"}}, \"title\": {\"x\": 0.05}, \"xaxis\": {\"automargin\": true, \"gridcolor\": \"white\", \"linecolor\": \"white\", \"ticks\": \"\", \"title\": {\"standoff\": 15}, \"zerolinecolor\": \"white\", \"zerolinewidth\": 2}, \"yaxis\": {\"automargin\": true, \"gridcolor\": \"white\", \"linecolor\": \"white\", \"ticks\": \"\", \"title\": {\"standoff\": 15}, \"zerolinecolor\": \"white\", \"zerolinewidth\": 2}}}},                        {\"responsive\": true}                    ).then(function(){\n",
       "                            \n",
       "var gd = document.getElementById('bd13121c-6c5d-4383-b288-b5b962e9b89a');\n",
       "var x = new MutationObserver(function (mutations, observer) {{\n",
       "        var display = window.getComputedStyle(gd).display;\n",
       "        if (!display || display === 'none') {{\n",
       "            console.log([gd, 'removed!']);\n",
       "            Plotly.purge(gd);\n",
       "            observer.disconnect();\n",
       "        }}\n",
       "}});\n",
       "\n",
       "// Listen for the removal of the full notebook cells\n",
       "var notebookContainer = gd.closest('#notebook-container');\n",
       "if (notebookContainer) {{\n",
       "    x.observe(notebookContainer, {childList: true});\n",
       "}}\n",
       "\n",
       "// Listen for the clearing of the current output cell\n",
       "var outputEl = gd.closest('.output');\n",
       "if (outputEl) {{\n",
       "    x.observe(outputEl, {childList: true});\n",
       "}}\n",
       "\n",
       "                        })                };                });            </script>        </div>"
      ]
     },
     "metadata": {},
     "output_type": "display_data"
    }
   ],
   "source": [
    "import plotly.express as px\n",
    "tst = lvl_one_df[lvl_one_df.id_activity==0]\n",
    "fig = px.line_3d(tst, x=\"xToeR\", y=\"yToeR\", z=\"zToeR\", color=\"Zeni\")\n",
    "fig.show()"
   ]
  },
  {
   "cell_type": "code",
   "execution_count": null,
   "metadata": {},
   "outputs": [],
   "source": []
  }
 ],
 "metadata": {
  "kernelspec": {
   "display_name": "Python 3",
   "language": "python",
   "name": "python3"
  },
  "language_info": {
   "codemirror_mode": {
    "name": "ipython",
    "version": 3
   },
   "file_extension": ".py",
   "mimetype": "text/x-python",
   "name": "python",
   "nbconvert_exporter": "python",
   "pygments_lexer": "ipython3",
   "version": "3.8.5"
  },
  "toc": {
   "base_numbering": 1,
   "nav_menu": {},
   "number_sections": true,
   "sideBar": true,
   "skip_h1_title": false,
   "title_cell": "Table of Contents",
   "title_sidebar": "Contents",
   "toc_cell": false,
   "toc_position": {
    "height": "calc(100% - 180px)",
    "left": "10px",
    "top": "150px",
    "width": "165px"
   },
   "toc_section_display": true,
   "toc_window_display": false
  }
 },
 "nbformat": 4,
 "nbformat_minor": 4
}
