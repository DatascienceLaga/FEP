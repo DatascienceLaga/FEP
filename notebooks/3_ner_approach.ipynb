{
 "cells": [
  {
   "cell_type": "code",
   "execution_count": 1,
   "metadata": {
    "ExecuteTime": {
     "end_time": "2021-05-14T07:39:30.482148Z",
     "start_time": "2021-05-14T07:39:20.979174Z"
    }
   },
   "outputs": [],
   "source": [
    "import os\n",
    "import random\n",
    "import pandas as pd\n",
    "import numpy as np\n",
    "\n",
    "import matplotlib.pyplot as plt\n",
    "\n",
    "import tensorflow as tf\n",
    "\n",
    "from sklearn.utils import class_weight\n",
    "\n",
    "from sklearn.metrics import accuracy_score, r2_score, f1_score, classification_report"
   ]
  },
  {
   "cell_type": "code",
   "execution_count": 2,
   "metadata": {
    "ExecuteTime": {
     "end_time": "2021-05-14T07:39:30.498089Z",
     "start_time": "2021-05-14T07:39:30.484088Z"
    }
   },
   "outputs": [],
   "source": [
    "seed = 1234\n",
    "os.environ['PYTHONHASHSEED'] = str(seed)\n",
    "random.seed(seed)\n",
    "tf.random.set_seed(seed)\n",
    "np.random.seed(seed)"
   ]
  },
  {
   "cell_type": "code",
   "execution_count": 3,
   "metadata": {
    "ExecuteTime": {
     "end_time": "2021-05-14T07:39:31.164433Z",
     "start_time": "2021-05-14T07:39:30.503091Z"
    }
   },
   "outputs": [],
   "source": [
    "all_data = pd.read_csv('../../Data/TRANSFORMED_DATA/transformed_fep_data.csv')"
   ]
  },
  {
   "cell_type": "code",
   "execution_count": 4,
   "metadata": {
    "ExecuteTime": {
     "end_time": "2021-05-14T07:39:31.196472Z",
     "start_time": "2021-05-14T07:39:31.166422Z"
    }
   },
   "outputs": [
    {
     "data": {
      "text/plain": [
       "count      75.000000\n",
       "mean      369.746667\n",
       "std       221.494378\n",
       "min        46.000000\n",
       "25%       226.000000\n",
       "50%       333.000000\n",
       "75%       445.000000\n",
       "max      1178.000000\n",
       "dtype: float64"
      ]
     },
     "execution_count": 4,
     "metadata": {},
     "output_type": "execute_result"
    }
   ],
   "source": [
    "all_data.groupby('id').size().describe()"
   ]
  },
  {
   "cell_type": "code",
   "execution_count": 5,
   "metadata": {
    "ExecuteTime": {
     "end_time": "2021-05-14T07:39:31.244419Z",
     "start_time": "2021-05-14T07:39:31.199421Z"
    }
   },
   "outputs": [],
   "source": [
    "all_data = all_data[['id', 'xHolo', 'yHolo', 'zHolo', 'Zeni', 'Zeni_transformed']]"
   ]
  },
  {
   "cell_type": "code",
   "execution_count": 6,
   "metadata": {
    "ExecuteTime": {
     "end_time": "2021-05-14T07:39:31.292422Z",
     "start_time": "2021-05-14T07:39:31.249425Z"
    }
   },
   "outputs": [],
   "source": [
    "all_data['seq_idx'] = all_data.groupby('id').cumcount()"
   ]
  },
  {
   "cell_type": "markdown",
   "metadata": {},
   "source": [
    "## Pivot sequences"
   ]
  },
  {
   "cell_type": "code",
   "execution_count": 7,
   "metadata": {
    "ExecuteTime": {
     "end_time": "2021-05-14T07:39:31.340419Z",
     "start_time": "2021-05-14T07:39:31.297476Z"
    }
   },
   "outputs": [],
   "source": [
    "seq_holo_data = all_data.pivot(index='id', columns='seq_idx', values=['xHolo', 'yHolo', 'zHolo', 'Zeni_transformed'])"
   ]
  },
  {
   "cell_type": "code",
   "execution_count": 8,
   "metadata": {
    "ExecuteTime": {
     "end_time": "2021-05-14T07:39:31.355420Z",
     "start_time": "2021-05-14T07:39:31.345421Z"
    }
   },
   "outputs": [
    {
     "data": {
      "text/plain": [
       "(75, 4712)"
      ]
     },
     "execution_count": 8,
     "metadata": {},
     "output_type": "execute_result"
    }
   ],
   "source": [
    "seq_holo_data.shape"
   ]
  },
  {
   "cell_type": "code",
   "execution_count": 9,
   "metadata": {
    "ExecuteTime": {
     "end_time": "2021-05-14T07:39:31.481415Z",
     "start_time": "2021-05-14T07:39:31.358421Z"
    }
   },
   "outputs": [
    {
     "data": {
      "text/html": [
       "<div>\n",
       "<style scoped>\n",
       "    .dataframe tbody tr th:only-of-type {\n",
       "        vertical-align: middle;\n",
       "    }\n",
       "\n",
       "    .dataframe tbody tr th {\n",
       "        vertical-align: top;\n",
       "    }\n",
       "\n",
       "    .dataframe thead tr th {\n",
       "        text-align: left;\n",
       "    }\n",
       "\n",
       "    .dataframe thead tr:last-of-type th {\n",
       "        text-align: right;\n",
       "    }\n",
       "</style>\n",
       "<table border=\"1\" class=\"dataframe\">\n",
       "  <thead>\n",
       "    <tr>\n",
       "      <th></th>\n",
       "      <th colspan=\"10\" halign=\"left\">xHolo</th>\n",
       "      <th>...</th>\n",
       "      <th colspan=\"10\" halign=\"left\">Zeni_transformed</th>\n",
       "    </tr>\n",
       "    <tr>\n",
       "      <th>seq_idx</th>\n",
       "      <th>0</th>\n",
       "      <th>1</th>\n",
       "      <th>2</th>\n",
       "      <th>3</th>\n",
       "      <th>4</th>\n",
       "      <th>5</th>\n",
       "      <th>6</th>\n",
       "      <th>7</th>\n",
       "      <th>8</th>\n",
       "      <th>9</th>\n",
       "      <th>...</th>\n",
       "      <th>1168</th>\n",
       "      <th>1169</th>\n",
       "      <th>1170</th>\n",
       "      <th>1171</th>\n",
       "      <th>1172</th>\n",
       "      <th>1173</th>\n",
       "      <th>1174</th>\n",
       "      <th>1175</th>\n",
       "      <th>1176</th>\n",
       "      <th>1177</th>\n",
       "    </tr>\n",
       "    <tr>\n",
       "      <th>id</th>\n",
       "      <th></th>\n",
       "      <th></th>\n",
       "      <th></th>\n",
       "      <th></th>\n",
       "      <th></th>\n",
       "      <th></th>\n",
       "      <th></th>\n",
       "      <th></th>\n",
       "      <th></th>\n",
       "      <th></th>\n",
       "      <th></th>\n",
       "      <th></th>\n",
       "      <th></th>\n",
       "      <th></th>\n",
       "      <th></th>\n",
       "      <th></th>\n",
       "      <th></th>\n",
       "      <th></th>\n",
       "      <th></th>\n",
       "      <th></th>\n",
       "      <th></th>\n",
       "    </tr>\n",
       "  </thead>\n",
       "  <tbody>\n",
       "    <tr>\n",
       "      <th>10_hlth</th>\n",
       "      <td>0.285392</td>\n",
       "      <td>0.283923</td>\n",
       "      <td>0.282483</td>\n",
       "      <td>0.281089</td>\n",
       "      <td>0.279760</td>\n",
       "      <td>0.278511</td>\n",
       "      <td>0.277359</td>\n",
       "      <td>0.276317</td>\n",
       "      <td>0.275395</td>\n",
       "      <td>0.274602</td>\n",
       "      <td>...</td>\n",
       "      <td>NaN</td>\n",
       "      <td>NaN</td>\n",
       "      <td>NaN</td>\n",
       "      <td>NaN</td>\n",
       "      <td>NaN</td>\n",
       "      <td>NaN</td>\n",
       "      <td>NaN</td>\n",
       "      <td>NaN</td>\n",
       "      <td>NaN</td>\n",
       "      <td>NaN</td>\n",
       "    </tr>\n",
       "    <tr>\n",
       "      <th>10_lvl_one</th>\n",
       "      <td>0.406587</td>\n",
       "      <td>0.404806</td>\n",
       "      <td>0.402873</td>\n",
       "      <td>0.400800</td>\n",
       "      <td>0.398598</td>\n",
       "      <td>0.396275</td>\n",
       "      <td>0.393842</td>\n",
       "      <td>0.391304</td>\n",
       "      <td>0.388671</td>\n",
       "      <td>0.385947</td>\n",
       "      <td>...</td>\n",
       "      <td>NaN</td>\n",
       "      <td>NaN</td>\n",
       "      <td>NaN</td>\n",
       "      <td>NaN</td>\n",
       "      <td>NaN</td>\n",
       "      <td>NaN</td>\n",
       "      <td>NaN</td>\n",
       "      <td>NaN</td>\n",
       "      <td>NaN</td>\n",
       "      <td>NaN</td>\n",
       "    </tr>\n",
       "    <tr>\n",
       "      <th>10_lvl_two</th>\n",
       "      <td>0.360396</td>\n",
       "      <td>0.362951</td>\n",
       "      <td>0.365095</td>\n",
       "      <td>0.366837</td>\n",
       "      <td>0.368196</td>\n",
       "      <td>0.369199</td>\n",
       "      <td>0.369881</td>\n",
       "      <td>0.370278</td>\n",
       "      <td>0.370430</td>\n",
       "      <td>0.370375</td>\n",
       "      <td>...</td>\n",
       "      <td>NaN</td>\n",
       "      <td>NaN</td>\n",
       "      <td>NaN</td>\n",
       "      <td>NaN</td>\n",
       "      <td>NaN</td>\n",
       "      <td>NaN</td>\n",
       "      <td>NaN</td>\n",
       "      <td>NaN</td>\n",
       "      <td>NaN</td>\n",
       "      <td>NaN</td>\n",
       "    </tr>\n",
       "    <tr>\n",
       "      <th>11_hlth</th>\n",
       "      <td>0.314562</td>\n",
       "      <td>0.313492</td>\n",
       "      <td>0.312400</td>\n",
       "      <td>0.311276</td>\n",
       "      <td>0.310112</td>\n",
       "      <td>0.308897</td>\n",
       "      <td>0.307623</td>\n",
       "      <td>0.306282</td>\n",
       "      <td>0.304868</td>\n",
       "      <td>0.303377</td>\n",
       "      <td>...</td>\n",
       "      <td>NaN</td>\n",
       "      <td>NaN</td>\n",
       "      <td>NaN</td>\n",
       "      <td>NaN</td>\n",
       "      <td>NaN</td>\n",
       "      <td>NaN</td>\n",
       "      <td>NaN</td>\n",
       "      <td>NaN</td>\n",
       "      <td>NaN</td>\n",
       "      <td>NaN</td>\n",
       "    </tr>\n",
       "    <tr>\n",
       "      <th>11_lvl_one</th>\n",
       "      <td>0.329497</td>\n",
       "      <td>0.328270</td>\n",
       "      <td>0.327006</td>\n",
       "      <td>0.325701</td>\n",
       "      <td>0.324351</td>\n",
       "      <td>0.322951</td>\n",
       "      <td>0.321492</td>\n",
       "      <td>0.319969</td>\n",
       "      <td>0.318376</td>\n",
       "      <td>0.316705</td>\n",
       "      <td>...</td>\n",
       "      <td>NaN</td>\n",
       "      <td>NaN</td>\n",
       "      <td>NaN</td>\n",
       "      <td>NaN</td>\n",
       "      <td>NaN</td>\n",
       "      <td>NaN</td>\n",
       "      <td>NaN</td>\n",
       "      <td>NaN</td>\n",
       "      <td>NaN</td>\n",
       "      <td>NaN</td>\n",
       "    </tr>\n",
       "  </tbody>\n",
       "</table>\n",
       "<p>5 rows × 4712 columns</p>\n",
       "</div>"
      ],
      "text/plain": [
       "               xHolo                                                    \\\n",
       "seq_idx         0         1         2         3         4         5      \n",
       "id                                                                       \n",
       "10_hlth     0.285392  0.283923  0.282483  0.281089  0.279760  0.278511   \n",
       "10_lvl_one  0.406587  0.404806  0.402873  0.400800  0.398598  0.396275   \n",
       "10_lvl_two  0.360396  0.362951  0.365095  0.366837  0.368196  0.369199   \n",
       "11_hlth     0.314562  0.313492  0.312400  0.311276  0.310112  0.308897   \n",
       "11_lvl_one  0.329497  0.328270  0.327006  0.325701  0.324351  0.322951   \n",
       "\n",
       "                                                    ... Zeni_transformed       \\\n",
       "seq_idx         6         7         8         9     ...             1168 1169   \n",
       "id                                                  ...                         \n",
       "10_hlth     0.277359  0.276317  0.275395  0.274602  ...              NaN  NaN   \n",
       "10_lvl_one  0.393842  0.391304  0.388671  0.385947  ...              NaN  NaN   \n",
       "10_lvl_two  0.369881  0.370278  0.370430  0.370375  ...              NaN  NaN   \n",
       "11_hlth     0.307623  0.306282  0.304868  0.303377  ...              NaN  NaN   \n",
       "11_lvl_one  0.321492  0.319969  0.318376  0.316705  ...              NaN  NaN   \n",
       "\n",
       "                                                    \n",
       "seq_idx    1170 1171 1172 1173 1174 1175 1176 1177  \n",
       "id                                                  \n",
       "10_hlth     NaN  NaN  NaN  NaN  NaN  NaN  NaN  NaN  \n",
       "10_lvl_one  NaN  NaN  NaN  NaN  NaN  NaN  NaN  NaN  \n",
       "10_lvl_two  NaN  NaN  NaN  NaN  NaN  NaN  NaN  NaN  \n",
       "11_hlth     NaN  NaN  NaN  NaN  NaN  NaN  NaN  NaN  \n",
       "11_lvl_one  NaN  NaN  NaN  NaN  NaN  NaN  NaN  NaN  \n",
       "\n",
       "[5 rows x 4712 columns]"
      ]
     },
     "execution_count": 9,
     "metadata": {},
     "output_type": "execute_result"
    }
   ],
   "source": [
    "seq_holo_data.head()"
   ]
  },
  {
   "cell_type": "code",
   "execution_count": 10,
   "metadata": {
    "ExecuteTime": {
     "end_time": "2021-05-14T07:39:34.071388Z",
     "start_time": "2021-05-14T07:39:34.053384Z"
    }
   },
   "outputs": [],
   "source": [
    "#seq_holo_data.describe()"
   ]
  },
  {
   "cell_type": "code",
   "execution_count": 11,
   "metadata": {
    "ExecuteTime": {
     "end_time": "2021-05-14T07:39:34.419380Z",
     "start_time": "2021-05-14T07:39:34.354407Z"
    }
   },
   "outputs": [
    {
     "data": {
      "text/html": [
       "<div>\n",
       "<style scoped>\n",
       "    .dataframe tbody tr th:only-of-type {\n",
       "        vertical-align: middle;\n",
       "    }\n",
       "\n",
       "    .dataframe tbody tr th {\n",
       "        vertical-align: top;\n",
       "    }\n",
       "\n",
       "    .dataframe thead th {\n",
       "        text-align: right;\n",
       "    }\n",
       "</style>\n",
       "<table border=\"1\" class=\"dataframe\">\n",
       "  <thead>\n",
       "    <tr style=\"text-align: right;\">\n",
       "      <th>seq_idx</th>\n",
       "      <th>0</th>\n",
       "      <th>1</th>\n",
       "      <th>2</th>\n",
       "      <th>3</th>\n",
       "      <th>4</th>\n",
       "      <th>5</th>\n",
       "      <th>6</th>\n",
       "      <th>7</th>\n",
       "      <th>8</th>\n",
       "      <th>9</th>\n",
       "      <th>...</th>\n",
       "      <th>1168</th>\n",
       "      <th>1169</th>\n",
       "      <th>1170</th>\n",
       "      <th>1171</th>\n",
       "      <th>1172</th>\n",
       "      <th>1173</th>\n",
       "      <th>1174</th>\n",
       "      <th>1175</th>\n",
       "      <th>1176</th>\n",
       "      <th>1177</th>\n",
       "    </tr>\n",
       "    <tr>\n",
       "      <th>id</th>\n",
       "      <th></th>\n",
       "      <th></th>\n",
       "      <th></th>\n",
       "      <th></th>\n",
       "      <th></th>\n",
       "      <th></th>\n",
       "      <th></th>\n",
       "      <th></th>\n",
       "      <th></th>\n",
       "      <th></th>\n",
       "      <th></th>\n",
       "      <th></th>\n",
       "      <th></th>\n",
       "      <th></th>\n",
       "      <th></th>\n",
       "      <th></th>\n",
       "      <th></th>\n",
       "      <th></th>\n",
       "      <th></th>\n",
       "      <th></th>\n",
       "      <th></th>\n",
       "    </tr>\n",
       "  </thead>\n",
       "  <tbody>\n",
       "    <tr>\n",
       "      <th>10_hlth</th>\n",
       "      <td>0.0</td>\n",
       "      <td>0.0</td>\n",
       "      <td>0.0</td>\n",
       "      <td>0.0</td>\n",
       "      <td>0.0</td>\n",
       "      <td>0.0</td>\n",
       "      <td>0.0</td>\n",
       "      <td>0.0</td>\n",
       "      <td>0.0</td>\n",
       "      <td>0.0</td>\n",
       "      <td>...</td>\n",
       "      <td>NaN</td>\n",
       "      <td>NaN</td>\n",
       "      <td>NaN</td>\n",
       "      <td>NaN</td>\n",
       "      <td>NaN</td>\n",
       "      <td>NaN</td>\n",
       "      <td>NaN</td>\n",
       "      <td>NaN</td>\n",
       "      <td>NaN</td>\n",
       "      <td>NaN</td>\n",
       "    </tr>\n",
       "    <tr>\n",
       "      <th>10_lvl_one</th>\n",
       "      <td>0.0</td>\n",
       "      <td>0.0</td>\n",
       "      <td>0.0</td>\n",
       "      <td>0.0</td>\n",
       "      <td>0.0</td>\n",
       "      <td>0.0</td>\n",
       "      <td>0.0</td>\n",
       "      <td>0.0</td>\n",
       "      <td>0.0</td>\n",
       "      <td>0.0</td>\n",
       "      <td>...</td>\n",
       "      <td>NaN</td>\n",
       "      <td>NaN</td>\n",
       "      <td>NaN</td>\n",
       "      <td>NaN</td>\n",
       "      <td>NaN</td>\n",
       "      <td>NaN</td>\n",
       "      <td>NaN</td>\n",
       "      <td>NaN</td>\n",
       "      <td>NaN</td>\n",
       "      <td>NaN</td>\n",
       "    </tr>\n",
       "    <tr>\n",
       "      <th>10_lvl_two</th>\n",
       "      <td>0.0</td>\n",
       "      <td>0.0</td>\n",
       "      <td>0.0</td>\n",
       "      <td>0.0</td>\n",
       "      <td>0.0</td>\n",
       "      <td>0.0</td>\n",
       "      <td>0.0</td>\n",
       "      <td>0.0</td>\n",
       "      <td>0.0</td>\n",
       "      <td>0.0</td>\n",
       "      <td>...</td>\n",
       "      <td>NaN</td>\n",
       "      <td>NaN</td>\n",
       "      <td>NaN</td>\n",
       "      <td>NaN</td>\n",
       "      <td>NaN</td>\n",
       "      <td>NaN</td>\n",
       "      <td>NaN</td>\n",
       "      <td>NaN</td>\n",
       "      <td>NaN</td>\n",
       "      <td>NaN</td>\n",
       "    </tr>\n",
       "    <tr>\n",
       "      <th>11_hlth</th>\n",
       "      <td>0.0</td>\n",
       "      <td>0.0</td>\n",
       "      <td>0.0</td>\n",
       "      <td>0.0</td>\n",
       "      <td>0.0</td>\n",
       "      <td>1.0</td>\n",
       "      <td>1.0</td>\n",
       "      <td>1.0</td>\n",
       "      <td>1.0</td>\n",
       "      <td>1.0</td>\n",
       "      <td>...</td>\n",
       "      <td>NaN</td>\n",
       "      <td>NaN</td>\n",
       "      <td>NaN</td>\n",
       "      <td>NaN</td>\n",
       "      <td>NaN</td>\n",
       "      <td>NaN</td>\n",
       "      <td>NaN</td>\n",
       "      <td>NaN</td>\n",
       "      <td>NaN</td>\n",
       "      <td>NaN</td>\n",
       "    </tr>\n",
       "    <tr>\n",
       "      <th>11_lvl_one</th>\n",
       "      <td>0.0</td>\n",
       "      <td>0.0</td>\n",
       "      <td>0.0</td>\n",
       "      <td>0.0</td>\n",
       "      <td>0.0</td>\n",
       "      <td>0.0</td>\n",
       "      <td>0.0</td>\n",
       "      <td>0.0</td>\n",
       "      <td>0.0</td>\n",
       "      <td>0.0</td>\n",
       "      <td>...</td>\n",
       "      <td>NaN</td>\n",
       "      <td>NaN</td>\n",
       "      <td>NaN</td>\n",
       "      <td>NaN</td>\n",
       "      <td>NaN</td>\n",
       "      <td>NaN</td>\n",
       "      <td>NaN</td>\n",
       "      <td>NaN</td>\n",
       "      <td>NaN</td>\n",
       "      <td>NaN</td>\n",
       "    </tr>\n",
       "    <tr>\n",
       "      <th>...</th>\n",
       "      <td>...</td>\n",
       "      <td>...</td>\n",
       "      <td>...</td>\n",
       "      <td>...</td>\n",
       "      <td>...</td>\n",
       "      <td>...</td>\n",
       "      <td>...</td>\n",
       "      <td>...</td>\n",
       "      <td>...</td>\n",
       "      <td>...</td>\n",
       "      <td>...</td>\n",
       "      <td>...</td>\n",
       "      <td>...</td>\n",
       "      <td>...</td>\n",
       "      <td>...</td>\n",
       "      <td>...</td>\n",
       "      <td>...</td>\n",
       "      <td>...</td>\n",
       "      <td>...</td>\n",
       "      <td>...</td>\n",
       "      <td>...</td>\n",
       "    </tr>\n",
       "    <tr>\n",
       "      <th>8_lvl_one</th>\n",
       "      <td>0.0</td>\n",
       "      <td>0.0</td>\n",
       "      <td>0.0</td>\n",
       "      <td>0.0</td>\n",
       "      <td>0.0</td>\n",
       "      <td>0.0</td>\n",
       "      <td>0.0</td>\n",
       "      <td>0.0</td>\n",
       "      <td>0.0</td>\n",
       "      <td>0.0</td>\n",
       "      <td>...</td>\n",
       "      <td>NaN</td>\n",
       "      <td>NaN</td>\n",
       "      <td>NaN</td>\n",
       "      <td>NaN</td>\n",
       "      <td>NaN</td>\n",
       "      <td>NaN</td>\n",
       "      <td>NaN</td>\n",
       "      <td>NaN</td>\n",
       "      <td>NaN</td>\n",
       "      <td>NaN</td>\n",
       "    </tr>\n",
       "    <tr>\n",
       "      <th>8_lvl_two</th>\n",
       "      <td>0.0</td>\n",
       "      <td>0.0</td>\n",
       "      <td>0.0</td>\n",
       "      <td>0.0</td>\n",
       "      <td>0.0</td>\n",
       "      <td>0.0</td>\n",
       "      <td>0.0</td>\n",
       "      <td>0.0</td>\n",
       "      <td>0.0</td>\n",
       "      <td>0.0</td>\n",
       "      <td>...</td>\n",
       "      <td>NaN</td>\n",
       "      <td>NaN</td>\n",
       "      <td>NaN</td>\n",
       "      <td>NaN</td>\n",
       "      <td>NaN</td>\n",
       "      <td>NaN</td>\n",
       "      <td>NaN</td>\n",
       "      <td>NaN</td>\n",
       "      <td>NaN</td>\n",
       "      <td>NaN</td>\n",
       "    </tr>\n",
       "    <tr>\n",
       "      <th>9_hlth</th>\n",
       "      <td>0.0</td>\n",
       "      <td>0.0</td>\n",
       "      <td>0.0</td>\n",
       "      <td>0.0</td>\n",
       "      <td>0.0</td>\n",
       "      <td>0.0</td>\n",
       "      <td>0.0</td>\n",
       "      <td>0.0</td>\n",
       "      <td>0.0</td>\n",
       "      <td>0.0</td>\n",
       "      <td>...</td>\n",
       "      <td>NaN</td>\n",
       "      <td>NaN</td>\n",
       "      <td>NaN</td>\n",
       "      <td>NaN</td>\n",
       "      <td>NaN</td>\n",
       "      <td>NaN</td>\n",
       "      <td>NaN</td>\n",
       "      <td>NaN</td>\n",
       "      <td>NaN</td>\n",
       "      <td>NaN</td>\n",
       "    </tr>\n",
       "    <tr>\n",
       "      <th>9_lvl_one</th>\n",
       "      <td>0.0</td>\n",
       "      <td>0.0</td>\n",
       "      <td>0.0</td>\n",
       "      <td>0.0</td>\n",
       "      <td>0.0</td>\n",
       "      <td>0.0</td>\n",
       "      <td>1.0</td>\n",
       "      <td>1.0</td>\n",
       "      <td>1.0</td>\n",
       "      <td>1.0</td>\n",
       "      <td>...</td>\n",
       "      <td>NaN</td>\n",
       "      <td>NaN</td>\n",
       "      <td>NaN</td>\n",
       "      <td>NaN</td>\n",
       "      <td>NaN</td>\n",
       "      <td>NaN</td>\n",
       "      <td>NaN</td>\n",
       "      <td>NaN</td>\n",
       "      <td>NaN</td>\n",
       "      <td>NaN</td>\n",
       "    </tr>\n",
       "    <tr>\n",
       "      <th>9_lvl_two</th>\n",
       "      <td>0.0</td>\n",
       "      <td>0.0</td>\n",
       "      <td>0.0</td>\n",
       "      <td>0.0</td>\n",
       "      <td>0.0</td>\n",
       "      <td>0.0</td>\n",
       "      <td>0.0</td>\n",
       "      <td>0.0</td>\n",
       "      <td>0.0</td>\n",
       "      <td>0.0</td>\n",
       "      <td>...</td>\n",
       "      <td>NaN</td>\n",
       "      <td>NaN</td>\n",
       "      <td>NaN</td>\n",
       "      <td>NaN</td>\n",
       "      <td>NaN</td>\n",
       "      <td>NaN</td>\n",
       "      <td>NaN</td>\n",
       "      <td>NaN</td>\n",
       "      <td>NaN</td>\n",
       "      <td>NaN</td>\n",
       "    </tr>\n",
       "  </tbody>\n",
       "</table>\n",
       "<p>75 rows × 1178 columns</p>\n",
       "</div>"
      ],
      "text/plain": [
       "seq_idx     0     1     2     3     4     5     6     7     8     9     ...  \\\n",
       "id                                                                      ...   \n",
       "10_hlth      0.0   0.0   0.0   0.0   0.0   0.0   0.0   0.0   0.0   0.0  ...   \n",
       "10_lvl_one   0.0   0.0   0.0   0.0   0.0   0.0   0.0   0.0   0.0   0.0  ...   \n",
       "10_lvl_two   0.0   0.0   0.0   0.0   0.0   0.0   0.0   0.0   0.0   0.0  ...   \n",
       "11_hlth      0.0   0.0   0.0   0.0   0.0   1.0   1.0   1.0   1.0   1.0  ...   \n",
       "11_lvl_one   0.0   0.0   0.0   0.0   0.0   0.0   0.0   0.0   0.0   0.0  ...   \n",
       "...          ...   ...   ...   ...   ...   ...   ...   ...   ...   ...  ...   \n",
       "8_lvl_one    0.0   0.0   0.0   0.0   0.0   0.0   0.0   0.0   0.0   0.0  ...   \n",
       "8_lvl_two    0.0   0.0   0.0   0.0   0.0   0.0   0.0   0.0   0.0   0.0  ...   \n",
       "9_hlth       0.0   0.0   0.0   0.0   0.0   0.0   0.0   0.0   0.0   0.0  ...   \n",
       "9_lvl_one    0.0   0.0   0.0   0.0   0.0   0.0   1.0   1.0   1.0   1.0  ...   \n",
       "9_lvl_two    0.0   0.0   0.0   0.0   0.0   0.0   0.0   0.0   0.0   0.0  ...   \n",
       "\n",
       "seq_idx     1168  1169  1170  1171  1172  1173  1174  1175  1176  1177  \n",
       "id                                                                      \n",
       "10_hlth      NaN   NaN   NaN   NaN   NaN   NaN   NaN   NaN   NaN   NaN  \n",
       "10_lvl_one   NaN   NaN   NaN   NaN   NaN   NaN   NaN   NaN   NaN   NaN  \n",
       "10_lvl_two   NaN   NaN   NaN   NaN   NaN   NaN   NaN   NaN   NaN   NaN  \n",
       "11_hlth      NaN   NaN   NaN   NaN   NaN   NaN   NaN   NaN   NaN   NaN  \n",
       "11_lvl_one   NaN   NaN   NaN   NaN   NaN   NaN   NaN   NaN   NaN   NaN  \n",
       "...          ...   ...   ...   ...   ...   ...   ...   ...   ...   ...  \n",
       "8_lvl_one    NaN   NaN   NaN   NaN   NaN   NaN   NaN   NaN   NaN   NaN  \n",
       "8_lvl_two    NaN   NaN   NaN   NaN   NaN   NaN   NaN   NaN   NaN   NaN  \n",
       "9_hlth       NaN   NaN   NaN   NaN   NaN   NaN   NaN   NaN   NaN   NaN  \n",
       "9_lvl_one    NaN   NaN   NaN   NaN   NaN   NaN   NaN   NaN   NaN   NaN  \n",
       "9_lvl_two    NaN   NaN   NaN   NaN   NaN   NaN   NaN   NaN   NaN   NaN  \n",
       "\n",
       "[75 rows x 1178 columns]"
      ]
     },
     "execution_count": 11,
     "metadata": {},
     "output_type": "execute_result"
    }
   ],
   "source": [
    "seq_holo_data.Zeni_transformed"
   ]
  },
  {
   "cell_type": "markdown",
   "metadata": {},
   "source": [
    "## 3D to 1D projection"
   ]
  },
  {
   "cell_type": "code",
   "execution_count": 12,
   "metadata": {
    "ExecuteTime": {
     "end_time": "2021-05-14T07:39:35.493204Z",
     "start_time": "2021-05-14T07:39:35.478204Z"
    }
   },
   "outputs": [],
   "source": [
    "train_df = seq_holo_data.loc[[idx for idx in seq_holo_data.index if not idx.startswith('10_')],:]\n",
    "test_df = seq_holo_data.loc[[idx for idx in seq_holo_data.index if idx.startswith('10_')],:]"
   ]
  },
  {
   "cell_type": "code",
   "execution_count": 13,
   "metadata": {
    "ExecuteTime": {
     "end_time": "2021-05-14T07:39:36.843195Z",
     "start_time": "2021-05-14T07:39:36.771189Z"
    }
   },
   "outputs": [
    {
     "data": {
      "text/html": [
       "<div>\n",
       "<style scoped>\n",
       "    .dataframe tbody tr th:only-of-type {\n",
       "        vertical-align: middle;\n",
       "    }\n",
       "\n",
       "    .dataframe tbody tr th {\n",
       "        vertical-align: top;\n",
       "    }\n",
       "\n",
       "    .dataframe thead tr th {\n",
       "        text-align: left;\n",
       "    }\n",
       "\n",
       "    .dataframe thead tr:last-of-type th {\n",
       "        text-align: right;\n",
       "    }\n",
       "</style>\n",
       "<table border=\"1\" class=\"dataframe\">\n",
       "  <thead>\n",
       "    <tr>\n",
       "      <th></th>\n",
       "      <th colspan=\"10\" halign=\"left\">xHolo</th>\n",
       "      <th>...</th>\n",
       "      <th colspan=\"10\" halign=\"left\">Zeni_transformed</th>\n",
       "    </tr>\n",
       "    <tr>\n",
       "      <th>seq_idx</th>\n",
       "      <th>0</th>\n",
       "      <th>1</th>\n",
       "      <th>2</th>\n",
       "      <th>3</th>\n",
       "      <th>4</th>\n",
       "      <th>5</th>\n",
       "      <th>6</th>\n",
       "      <th>7</th>\n",
       "      <th>8</th>\n",
       "      <th>9</th>\n",
       "      <th>...</th>\n",
       "      <th>1168</th>\n",
       "      <th>1169</th>\n",
       "      <th>1170</th>\n",
       "      <th>1171</th>\n",
       "      <th>1172</th>\n",
       "      <th>1173</th>\n",
       "      <th>1174</th>\n",
       "      <th>1175</th>\n",
       "      <th>1176</th>\n",
       "      <th>1177</th>\n",
       "    </tr>\n",
       "    <tr>\n",
       "      <th>id</th>\n",
       "      <th></th>\n",
       "      <th></th>\n",
       "      <th></th>\n",
       "      <th></th>\n",
       "      <th></th>\n",
       "      <th></th>\n",
       "      <th></th>\n",
       "      <th></th>\n",
       "      <th></th>\n",
       "      <th></th>\n",
       "      <th></th>\n",
       "      <th></th>\n",
       "      <th></th>\n",
       "      <th></th>\n",
       "      <th></th>\n",
       "      <th></th>\n",
       "      <th></th>\n",
       "      <th></th>\n",
       "      <th></th>\n",
       "      <th></th>\n",
       "      <th></th>\n",
       "    </tr>\n",
       "  </thead>\n",
       "  <tbody>\n",
       "    <tr>\n",
       "      <th>11_hlth</th>\n",
       "      <td>0.314562</td>\n",
       "      <td>0.313492</td>\n",
       "      <td>0.312400</td>\n",
       "      <td>0.311276</td>\n",
       "      <td>0.310112</td>\n",
       "      <td>0.308897</td>\n",
       "      <td>0.307623</td>\n",
       "      <td>0.306282</td>\n",
       "      <td>0.304868</td>\n",
       "      <td>0.303377</td>\n",
       "      <td>...</td>\n",
       "      <td>NaN</td>\n",
       "      <td>NaN</td>\n",
       "      <td>NaN</td>\n",
       "      <td>NaN</td>\n",
       "      <td>NaN</td>\n",
       "      <td>NaN</td>\n",
       "      <td>NaN</td>\n",
       "      <td>NaN</td>\n",
       "      <td>NaN</td>\n",
       "      <td>NaN</td>\n",
       "    </tr>\n",
       "    <tr>\n",
       "      <th>11_lvl_one</th>\n",
       "      <td>0.329497</td>\n",
       "      <td>0.328270</td>\n",
       "      <td>0.327006</td>\n",
       "      <td>0.325701</td>\n",
       "      <td>0.324351</td>\n",
       "      <td>0.322951</td>\n",
       "      <td>0.321492</td>\n",
       "      <td>0.319969</td>\n",
       "      <td>0.318376</td>\n",
       "      <td>0.316705</td>\n",
       "      <td>...</td>\n",
       "      <td>NaN</td>\n",
       "      <td>NaN</td>\n",
       "      <td>NaN</td>\n",
       "      <td>NaN</td>\n",
       "      <td>NaN</td>\n",
       "      <td>NaN</td>\n",
       "      <td>NaN</td>\n",
       "      <td>NaN</td>\n",
       "      <td>NaN</td>\n",
       "      <td>NaN</td>\n",
       "    </tr>\n",
       "    <tr>\n",
       "      <th>11_lvl_two</th>\n",
       "      <td>0.342550</td>\n",
       "      <td>0.341885</td>\n",
       "      <td>0.341187</td>\n",
       "      <td>0.340467</td>\n",
       "      <td>0.339734</td>\n",
       "      <td>0.338994</td>\n",
       "      <td>0.338255</td>\n",
       "      <td>0.337520</td>\n",
       "      <td>0.336792</td>\n",
       "      <td>0.336074</td>\n",
       "      <td>...</td>\n",
       "      <td>NaN</td>\n",
       "      <td>NaN</td>\n",
       "      <td>NaN</td>\n",
       "      <td>NaN</td>\n",
       "      <td>NaN</td>\n",
       "      <td>NaN</td>\n",
       "      <td>NaN</td>\n",
       "      <td>NaN</td>\n",
       "      <td>NaN</td>\n",
       "      <td>NaN</td>\n",
       "    </tr>\n",
       "    <tr>\n",
       "      <th>12_hlth</th>\n",
       "      <td>0.191283</td>\n",
       "      <td>0.191382</td>\n",
       "      <td>0.191559</td>\n",
       "      <td>0.191814</td>\n",
       "      <td>0.192148</td>\n",
       "      <td>0.192562</td>\n",
       "      <td>0.193056</td>\n",
       "      <td>0.193632</td>\n",
       "      <td>0.194291</td>\n",
       "      <td>0.195033</td>\n",
       "      <td>...</td>\n",
       "      <td>NaN</td>\n",
       "      <td>NaN</td>\n",
       "      <td>NaN</td>\n",
       "      <td>NaN</td>\n",
       "      <td>NaN</td>\n",
       "      <td>NaN</td>\n",
       "      <td>NaN</td>\n",
       "      <td>NaN</td>\n",
       "      <td>NaN</td>\n",
       "      <td>NaN</td>\n",
       "    </tr>\n",
       "    <tr>\n",
       "      <th>12_lvl_one</th>\n",
       "      <td>0.293994</td>\n",
       "      <td>0.291083</td>\n",
       "      <td>0.288221</td>\n",
       "      <td>0.285421</td>\n",
       "      <td>0.282698</td>\n",
       "      <td>0.280063</td>\n",
       "      <td>0.277525</td>\n",
       "      <td>0.275094</td>\n",
       "      <td>0.272774</td>\n",
       "      <td>0.270571</td>\n",
       "      <td>...</td>\n",
       "      <td>NaN</td>\n",
       "      <td>NaN</td>\n",
       "      <td>NaN</td>\n",
       "      <td>NaN</td>\n",
       "      <td>NaN</td>\n",
       "      <td>NaN</td>\n",
       "      <td>NaN</td>\n",
       "      <td>NaN</td>\n",
       "      <td>NaN</td>\n",
       "      <td>NaN</td>\n",
       "    </tr>\n",
       "    <tr>\n",
       "      <th>...</th>\n",
       "      <td>...</td>\n",
       "      <td>...</td>\n",
       "      <td>...</td>\n",
       "      <td>...</td>\n",
       "      <td>...</td>\n",
       "      <td>...</td>\n",
       "      <td>...</td>\n",
       "      <td>...</td>\n",
       "      <td>...</td>\n",
       "      <td>...</td>\n",
       "      <td>...</td>\n",
       "      <td>...</td>\n",
       "      <td>...</td>\n",
       "      <td>...</td>\n",
       "      <td>...</td>\n",
       "      <td>...</td>\n",
       "      <td>...</td>\n",
       "      <td>...</td>\n",
       "      <td>...</td>\n",
       "      <td>...</td>\n",
       "      <td>...</td>\n",
       "    </tr>\n",
       "    <tr>\n",
       "      <th>8_lvl_one</th>\n",
       "      <td>0.269693</td>\n",
       "      <td>0.271648</td>\n",
       "      <td>0.273580</td>\n",
       "      <td>0.275480</td>\n",
       "      <td>0.277342</td>\n",
       "      <td>0.279162</td>\n",
       "      <td>0.280933</td>\n",
       "      <td>0.282651</td>\n",
       "      <td>0.284315</td>\n",
       "      <td>0.285919</td>\n",
       "      <td>...</td>\n",
       "      <td>NaN</td>\n",
       "      <td>NaN</td>\n",
       "      <td>NaN</td>\n",
       "      <td>NaN</td>\n",
       "      <td>NaN</td>\n",
       "      <td>NaN</td>\n",
       "      <td>NaN</td>\n",
       "      <td>NaN</td>\n",
       "      <td>NaN</td>\n",
       "      <td>NaN</td>\n",
       "    </tr>\n",
       "    <tr>\n",
       "      <th>8_lvl_two</th>\n",
       "      <td>0.372910</td>\n",
       "      <td>0.373018</td>\n",
       "      <td>0.373125</td>\n",
       "      <td>0.373224</td>\n",
       "      <td>0.373310</td>\n",
       "      <td>0.373376</td>\n",
       "      <td>0.373410</td>\n",
       "      <td>0.373400</td>\n",
       "      <td>0.373330</td>\n",
       "      <td>0.373189</td>\n",
       "      <td>...</td>\n",
       "      <td>NaN</td>\n",
       "      <td>NaN</td>\n",
       "      <td>NaN</td>\n",
       "      <td>NaN</td>\n",
       "      <td>NaN</td>\n",
       "      <td>NaN</td>\n",
       "      <td>NaN</td>\n",
       "      <td>NaN</td>\n",
       "      <td>NaN</td>\n",
       "      <td>NaN</td>\n",
       "    </tr>\n",
       "    <tr>\n",
       "      <th>9_hlth</th>\n",
       "      <td>0.330707</td>\n",
       "      <td>0.330411</td>\n",
       "      <td>0.330061</td>\n",
       "      <td>0.329656</td>\n",
       "      <td>0.329196</td>\n",
       "      <td>0.328677</td>\n",
       "      <td>0.328100</td>\n",
       "      <td>0.327462</td>\n",
       "      <td>0.326762</td>\n",
       "      <td>0.325997</td>\n",
       "      <td>...</td>\n",
       "      <td>NaN</td>\n",
       "      <td>NaN</td>\n",
       "      <td>NaN</td>\n",
       "      <td>NaN</td>\n",
       "      <td>NaN</td>\n",
       "      <td>NaN</td>\n",
       "      <td>NaN</td>\n",
       "      <td>NaN</td>\n",
       "      <td>NaN</td>\n",
       "      <td>NaN</td>\n",
       "    </tr>\n",
       "    <tr>\n",
       "      <th>9_lvl_one</th>\n",
       "      <td>0.378556</td>\n",
       "      <td>0.377586</td>\n",
       "      <td>0.376567</td>\n",
       "      <td>0.375500</td>\n",
       "      <td>0.374390</td>\n",
       "      <td>0.373239</td>\n",
       "      <td>0.372052</td>\n",
       "      <td>0.370834</td>\n",
       "      <td>0.369589</td>\n",
       "      <td>0.368324</td>\n",
       "      <td>...</td>\n",
       "      <td>NaN</td>\n",
       "      <td>NaN</td>\n",
       "      <td>NaN</td>\n",
       "      <td>NaN</td>\n",
       "      <td>NaN</td>\n",
       "      <td>NaN</td>\n",
       "      <td>NaN</td>\n",
       "      <td>NaN</td>\n",
       "      <td>NaN</td>\n",
       "      <td>NaN</td>\n",
       "    </tr>\n",
       "    <tr>\n",
       "      <th>9_lvl_two</th>\n",
       "      <td>0.379194</td>\n",
       "      <td>0.379202</td>\n",
       "      <td>0.379151</td>\n",
       "      <td>0.379046</td>\n",
       "      <td>0.378890</td>\n",
       "      <td>0.378687</td>\n",
       "      <td>0.378439</td>\n",
       "      <td>0.378151</td>\n",
       "      <td>0.377824</td>\n",
       "      <td>0.377459</td>\n",
       "      <td>...</td>\n",
       "      <td>NaN</td>\n",
       "      <td>NaN</td>\n",
       "      <td>NaN</td>\n",
       "      <td>NaN</td>\n",
       "      <td>NaN</td>\n",
       "      <td>NaN</td>\n",
       "      <td>NaN</td>\n",
       "      <td>NaN</td>\n",
       "      <td>NaN</td>\n",
       "      <td>NaN</td>\n",
       "    </tr>\n",
       "  </tbody>\n",
       "</table>\n",
       "<p>72 rows × 4712 columns</p>\n",
       "</div>"
      ],
      "text/plain": [
       "               xHolo                                                    \\\n",
       "seq_idx         0         1         2         3         4         5      \n",
       "id                                                                       \n",
       "11_hlth     0.314562  0.313492  0.312400  0.311276  0.310112  0.308897   \n",
       "11_lvl_one  0.329497  0.328270  0.327006  0.325701  0.324351  0.322951   \n",
       "11_lvl_two  0.342550  0.341885  0.341187  0.340467  0.339734  0.338994   \n",
       "12_hlth     0.191283  0.191382  0.191559  0.191814  0.192148  0.192562   \n",
       "12_lvl_one  0.293994  0.291083  0.288221  0.285421  0.282698  0.280063   \n",
       "...              ...       ...       ...       ...       ...       ...   \n",
       "8_lvl_one   0.269693  0.271648  0.273580  0.275480  0.277342  0.279162   \n",
       "8_lvl_two   0.372910  0.373018  0.373125  0.373224  0.373310  0.373376   \n",
       "9_hlth      0.330707  0.330411  0.330061  0.329656  0.329196  0.328677   \n",
       "9_lvl_one   0.378556  0.377586  0.376567  0.375500  0.374390  0.373239   \n",
       "9_lvl_two   0.379194  0.379202  0.379151  0.379046  0.378890  0.378687   \n",
       "\n",
       "                                                    ... Zeni_transformed       \\\n",
       "seq_idx         6         7         8         9     ...             1168 1169   \n",
       "id                                                  ...                         \n",
       "11_hlth     0.307623  0.306282  0.304868  0.303377  ...              NaN  NaN   \n",
       "11_lvl_one  0.321492  0.319969  0.318376  0.316705  ...              NaN  NaN   \n",
       "11_lvl_two  0.338255  0.337520  0.336792  0.336074  ...              NaN  NaN   \n",
       "12_hlth     0.193056  0.193632  0.194291  0.195033  ...              NaN  NaN   \n",
       "12_lvl_one  0.277525  0.275094  0.272774  0.270571  ...              NaN  NaN   \n",
       "...              ...       ...       ...       ...  ...              ...  ...   \n",
       "8_lvl_one   0.280933  0.282651  0.284315  0.285919  ...              NaN  NaN   \n",
       "8_lvl_two   0.373410  0.373400  0.373330  0.373189  ...              NaN  NaN   \n",
       "9_hlth      0.328100  0.327462  0.326762  0.325997  ...              NaN  NaN   \n",
       "9_lvl_one   0.372052  0.370834  0.369589  0.368324  ...              NaN  NaN   \n",
       "9_lvl_two   0.378439  0.378151  0.377824  0.377459  ...              NaN  NaN   \n",
       "\n",
       "                                                    \n",
       "seq_idx    1170 1171 1172 1173 1174 1175 1176 1177  \n",
       "id                                                  \n",
       "11_hlth     NaN  NaN  NaN  NaN  NaN  NaN  NaN  NaN  \n",
       "11_lvl_one  NaN  NaN  NaN  NaN  NaN  NaN  NaN  NaN  \n",
       "11_lvl_two  NaN  NaN  NaN  NaN  NaN  NaN  NaN  NaN  \n",
       "12_hlth     NaN  NaN  NaN  NaN  NaN  NaN  NaN  NaN  \n",
       "12_lvl_one  NaN  NaN  NaN  NaN  NaN  NaN  NaN  NaN  \n",
       "...         ...  ...  ...  ...  ...  ...  ...  ...  \n",
       "8_lvl_one   NaN  NaN  NaN  NaN  NaN  NaN  NaN  NaN  \n",
       "8_lvl_two   NaN  NaN  NaN  NaN  NaN  NaN  NaN  NaN  \n",
       "9_hlth      NaN  NaN  NaN  NaN  NaN  NaN  NaN  NaN  \n",
       "9_lvl_one   NaN  NaN  NaN  NaN  NaN  NaN  NaN  NaN  \n",
       "9_lvl_two   NaN  NaN  NaN  NaN  NaN  NaN  NaN  NaN  \n",
       "\n",
       "[72 rows x 4712 columns]"
      ]
     },
     "execution_count": 13,
     "metadata": {},
     "output_type": "execute_result"
    }
   ],
   "source": [
    "train_df"
   ]
  },
  {
   "cell_type": "code",
   "execution_count": 14,
   "metadata": {
    "ExecuteTime": {
     "end_time": "2021-05-14T07:39:40.062473Z",
     "start_time": "2021-05-14T07:39:40.036476Z"
    }
   },
   "outputs": [],
   "source": [
    "X_train_df = train_df[['xHolo', 'yHolo', 'zHolo']]\n",
    "y_train_df = train_df['Zeni_transformed']\n",
    "\n",
    "X_test_df = test_df[['xHolo', 'yHolo', 'zHolo']]\n",
    "y_test_df = test_df['Zeni_transformed']"
   ]
  },
  {
   "cell_type": "code",
   "execution_count": 15,
   "metadata": {
    "ExecuteTime": {
     "end_time": "2021-05-14T07:39:41.539103Z",
     "start_time": "2021-05-14T07:39:41.530105Z"
    }
   },
   "outputs": [],
   "source": [
    "def smv(mat):\n",
    "    return np.sqrt(np.sum([mat.xHolo**2, mat.yHolo**2, mat.zHolo**2], axis=0))"
   ]
  },
  {
   "cell_type": "code",
   "execution_count": 16,
   "metadata": {
    "ExecuteTime": {
     "end_time": "2021-05-14T07:39:46.914269Z",
     "start_time": "2021-05-14T07:39:43.106239Z"
    }
   },
   "outputs": [],
   "source": [
    "smv_X_train_df = pd.DataFrame(\n",
    "    np.concatenate(\n",
    "        X_train_df.groupby(level = 1, axis = 1).apply(smv).values\n",
    "    ).reshape(1178, -1)\n",
    ").T\n",
    "\n",
    "smv_X_test_df = pd.DataFrame(\n",
    "    np.concatenate(\n",
    "        X_test_df.groupby(level = 1, axis = 1).apply(smv).values\n",
    "    ).reshape(1178, -1)\n",
    ").T"
   ]
  },
  {
   "cell_type": "code",
   "execution_count": 17,
   "metadata": {
    "ExecuteTime": {
     "end_time": "2021-05-14T07:40:54.575691Z",
     "start_time": "2021-05-14T07:40:54.566690Z"
    }
   },
   "outputs": [],
   "source": [
    "smv_X_train_df.fillna(0, inplace=True)\n",
    "smv_X_test_df.fillna(0, inplace=True)"
   ]
  },
  {
   "cell_type": "code",
   "execution_count": 18,
   "metadata": {
    "ExecuteTime": {
     "end_time": "2021-05-14T07:40:55.333409Z",
     "start_time": "2021-05-14T07:40:55.272375Z"
    }
   },
   "outputs": [
    {
     "data": {
      "text/html": [
       "<div>\n",
       "<style scoped>\n",
       "    .dataframe tbody tr th:only-of-type {\n",
       "        vertical-align: middle;\n",
       "    }\n",
       "\n",
       "    .dataframe tbody tr th {\n",
       "        vertical-align: top;\n",
       "    }\n",
       "\n",
       "    .dataframe thead th {\n",
       "        text-align: right;\n",
       "    }\n",
       "</style>\n",
       "<table border=\"1\" class=\"dataframe\">\n",
       "  <thead>\n",
       "    <tr style=\"text-align: right;\">\n",
       "      <th></th>\n",
       "      <th>0</th>\n",
       "      <th>1</th>\n",
       "      <th>2</th>\n",
       "      <th>3</th>\n",
       "      <th>4</th>\n",
       "      <th>5</th>\n",
       "      <th>6</th>\n",
       "      <th>7</th>\n",
       "      <th>8</th>\n",
       "      <th>9</th>\n",
       "      <th>...</th>\n",
       "      <th>1168</th>\n",
       "      <th>1169</th>\n",
       "      <th>1170</th>\n",
       "      <th>1171</th>\n",
       "      <th>1172</th>\n",
       "      <th>1173</th>\n",
       "      <th>1174</th>\n",
       "      <th>1175</th>\n",
       "      <th>1176</th>\n",
       "      <th>1177</th>\n",
       "    </tr>\n",
       "  </thead>\n",
       "  <tbody>\n",
       "    <tr>\n",
       "      <th>0</th>\n",
       "      <td>2.544218</td>\n",
       "      <td>2.531987</td>\n",
       "      <td>2.519756</td>\n",
       "      <td>2.507566</td>\n",
       "      <td>2.495453</td>\n",
       "      <td>2.483449</td>\n",
       "      <td>2.471578</td>\n",
       "      <td>2.459860</td>\n",
       "      <td>2.448306</td>\n",
       "      <td>2.436924</td>\n",
       "      <td>...</td>\n",
       "      <td>0.0</td>\n",
       "      <td>0.0</td>\n",
       "      <td>0.0</td>\n",
       "      <td>0.0</td>\n",
       "      <td>0.0</td>\n",
       "      <td>0.0</td>\n",
       "      <td>0.0</td>\n",
       "      <td>0.0</td>\n",
       "      <td>0.0</td>\n",
       "      <td>0.0</td>\n",
       "    </tr>\n",
       "    <tr>\n",
       "      <th>1</th>\n",
       "      <td>2.848561</td>\n",
       "      <td>2.838088</td>\n",
       "      <td>2.827404</td>\n",
       "      <td>2.816512</td>\n",
       "      <td>2.805417</td>\n",
       "      <td>2.794127</td>\n",
       "      <td>2.782656</td>\n",
       "      <td>2.771015</td>\n",
       "      <td>2.759221</td>\n",
       "      <td>2.747290</td>\n",
       "      <td>...</td>\n",
       "      <td>0.0</td>\n",
       "      <td>0.0</td>\n",
       "      <td>0.0</td>\n",
       "      <td>0.0</td>\n",
       "      <td>0.0</td>\n",
       "      <td>0.0</td>\n",
       "      <td>0.0</td>\n",
       "      <td>0.0</td>\n",
       "      <td>0.0</td>\n",
       "      <td>0.0</td>\n",
       "    </tr>\n",
       "    <tr>\n",
       "      <th>2</th>\n",
       "      <td>1.785822</td>\n",
       "      <td>1.781346</td>\n",
       "      <td>1.776775</td>\n",
       "      <td>1.772120</td>\n",
       "      <td>1.767396</td>\n",
       "      <td>1.762616</td>\n",
       "      <td>1.757796</td>\n",
       "      <td>1.752951</td>\n",
       "      <td>1.748095</td>\n",
       "      <td>1.743242</td>\n",
       "      <td>...</td>\n",
       "      <td>0.0</td>\n",
       "      <td>0.0</td>\n",
       "      <td>0.0</td>\n",
       "      <td>0.0</td>\n",
       "      <td>0.0</td>\n",
       "      <td>0.0</td>\n",
       "      <td>0.0</td>\n",
       "      <td>0.0</td>\n",
       "      <td>0.0</td>\n",
       "      <td>0.0</td>\n",
       "    </tr>\n",
       "    <tr>\n",
       "      <th>3</th>\n",
       "      <td>1.878500</td>\n",
       "      <td>1.873117</td>\n",
       "      <td>1.867675</td>\n",
       "      <td>1.862170</td>\n",
       "      <td>1.856602</td>\n",
       "      <td>1.850970</td>\n",
       "      <td>1.845275</td>\n",
       "      <td>1.839520</td>\n",
       "      <td>1.833711</td>\n",
       "      <td>1.827854</td>\n",
       "      <td>...</td>\n",
       "      <td>0.0</td>\n",
       "      <td>0.0</td>\n",
       "      <td>0.0</td>\n",
       "      <td>0.0</td>\n",
       "      <td>0.0</td>\n",
       "      <td>0.0</td>\n",
       "      <td>0.0</td>\n",
       "      <td>0.0</td>\n",
       "      <td>0.0</td>\n",
       "      <td>0.0</td>\n",
       "    </tr>\n",
       "    <tr>\n",
       "      <th>4</th>\n",
       "      <td>1.589088</td>\n",
       "      <td>1.587663</td>\n",
       "      <td>1.586341</td>\n",
       "      <td>1.585117</td>\n",
       "      <td>1.583988</td>\n",
       "      <td>1.582948</td>\n",
       "      <td>1.581989</td>\n",
       "      <td>1.581102</td>\n",
       "      <td>1.580274</td>\n",
       "      <td>1.579494</td>\n",
       "      <td>...</td>\n",
       "      <td>0.0</td>\n",
       "      <td>0.0</td>\n",
       "      <td>0.0</td>\n",
       "      <td>0.0</td>\n",
       "      <td>0.0</td>\n",
       "      <td>0.0</td>\n",
       "      <td>0.0</td>\n",
       "      <td>0.0</td>\n",
       "      <td>0.0</td>\n",
       "      <td>0.0</td>\n",
       "    </tr>\n",
       "    <tr>\n",
       "      <th>...</th>\n",
       "      <td>...</td>\n",
       "      <td>...</td>\n",
       "      <td>...</td>\n",
       "      <td>...</td>\n",
       "      <td>...</td>\n",
       "      <td>...</td>\n",
       "      <td>...</td>\n",
       "      <td>...</td>\n",
       "      <td>...</td>\n",
       "      <td>...</td>\n",
       "      <td>...</td>\n",
       "      <td>...</td>\n",
       "      <td>...</td>\n",
       "      <td>...</td>\n",
       "      <td>...</td>\n",
       "      <td>...</td>\n",
       "      <td>...</td>\n",
       "      <td>...</td>\n",
       "      <td>...</td>\n",
       "      <td>...</td>\n",
       "      <td>...</td>\n",
       "    </tr>\n",
       "    <tr>\n",
       "      <th>67</th>\n",
       "      <td>1.639459</td>\n",
       "      <td>1.640836</td>\n",
       "      <td>1.642412</td>\n",
       "      <td>1.644161</td>\n",
       "      <td>1.646056</td>\n",
       "      <td>1.648070</td>\n",
       "      <td>1.650181</td>\n",
       "      <td>1.652366</td>\n",
       "      <td>1.654607</td>\n",
       "      <td>1.656884</td>\n",
       "      <td>...</td>\n",
       "      <td>0.0</td>\n",
       "      <td>0.0</td>\n",
       "      <td>0.0</td>\n",
       "      <td>0.0</td>\n",
       "      <td>0.0</td>\n",
       "      <td>0.0</td>\n",
       "      <td>0.0</td>\n",
       "      <td>0.0</td>\n",
       "      <td>0.0</td>\n",
       "      <td>0.0</td>\n",
       "    </tr>\n",
       "    <tr>\n",
       "      <th>68</th>\n",
       "      <td>1.552967</td>\n",
       "      <td>1.550679</td>\n",
       "      <td>1.548178</td>\n",
       "      <td>1.545450</td>\n",
       "      <td>1.542502</td>\n",
       "      <td>1.539332</td>\n",
       "      <td>1.535953</td>\n",
       "      <td>1.532403</td>\n",
       "      <td>1.528725</td>\n",
       "      <td>1.524953</td>\n",
       "      <td>...</td>\n",
       "      <td>0.0</td>\n",
       "      <td>0.0</td>\n",
       "      <td>0.0</td>\n",
       "      <td>0.0</td>\n",
       "      <td>0.0</td>\n",
       "      <td>0.0</td>\n",
       "      <td>0.0</td>\n",
       "      <td>0.0</td>\n",
       "      <td>0.0</td>\n",
       "      <td>0.0</td>\n",
       "    </tr>\n",
       "    <tr>\n",
       "      <th>69</th>\n",
       "      <td>1.643743</td>\n",
       "      <td>1.640474</td>\n",
       "      <td>1.637113</td>\n",
       "      <td>1.633666</td>\n",
       "      <td>1.630139</td>\n",
       "      <td>1.626537</td>\n",
       "      <td>1.622872</td>\n",
       "      <td>1.619153</td>\n",
       "      <td>1.615391</td>\n",
       "      <td>1.611603</td>\n",
       "      <td>...</td>\n",
       "      <td>0.0</td>\n",
       "      <td>0.0</td>\n",
       "      <td>0.0</td>\n",
       "      <td>0.0</td>\n",
       "      <td>0.0</td>\n",
       "      <td>0.0</td>\n",
       "      <td>0.0</td>\n",
       "      <td>0.0</td>\n",
       "      <td>0.0</td>\n",
       "      <td>0.0</td>\n",
       "    </tr>\n",
       "    <tr>\n",
       "      <th>70</th>\n",
       "      <td>2.964757</td>\n",
       "      <td>2.955813</td>\n",
       "      <td>2.946850</td>\n",
       "      <td>2.937876</td>\n",
       "      <td>2.928895</td>\n",
       "      <td>2.919916</td>\n",
       "      <td>2.910947</td>\n",
       "      <td>2.901993</td>\n",
       "      <td>2.893064</td>\n",
       "      <td>2.884165</td>\n",
       "      <td>...</td>\n",
       "      <td>0.0</td>\n",
       "      <td>0.0</td>\n",
       "      <td>0.0</td>\n",
       "      <td>0.0</td>\n",
       "      <td>0.0</td>\n",
       "      <td>0.0</td>\n",
       "      <td>0.0</td>\n",
       "      <td>0.0</td>\n",
       "      <td>0.0</td>\n",
       "      <td>0.0</td>\n",
       "    </tr>\n",
       "    <tr>\n",
       "      <th>71</th>\n",
       "      <td>1.394445</td>\n",
       "      <td>1.395200</td>\n",
       "      <td>1.396040</td>\n",
       "      <td>1.396963</td>\n",
       "      <td>1.397964</td>\n",
       "      <td>1.399034</td>\n",
       "      <td>1.400164</td>\n",
       "      <td>1.401342</td>\n",
       "      <td>1.402554</td>\n",
       "      <td>1.403787</td>\n",
       "      <td>...</td>\n",
       "      <td>0.0</td>\n",
       "      <td>0.0</td>\n",
       "      <td>0.0</td>\n",
       "      <td>0.0</td>\n",
       "      <td>0.0</td>\n",
       "      <td>0.0</td>\n",
       "      <td>0.0</td>\n",
       "      <td>0.0</td>\n",
       "      <td>0.0</td>\n",
       "      <td>0.0</td>\n",
       "    </tr>\n",
       "  </tbody>\n",
       "</table>\n",
       "<p>72 rows × 1178 columns</p>\n",
       "</div>"
      ],
      "text/plain": [
       "        0         1         2         3         4         5         6     \\\n",
       "0   2.544218  2.531987  2.519756  2.507566  2.495453  2.483449  2.471578   \n",
       "1   2.848561  2.838088  2.827404  2.816512  2.805417  2.794127  2.782656   \n",
       "2   1.785822  1.781346  1.776775  1.772120  1.767396  1.762616  1.757796   \n",
       "3   1.878500  1.873117  1.867675  1.862170  1.856602  1.850970  1.845275   \n",
       "4   1.589088  1.587663  1.586341  1.585117  1.583988  1.582948  1.581989   \n",
       "..       ...       ...       ...       ...       ...       ...       ...   \n",
       "67  1.639459  1.640836  1.642412  1.644161  1.646056  1.648070  1.650181   \n",
       "68  1.552967  1.550679  1.548178  1.545450  1.542502  1.539332  1.535953   \n",
       "69  1.643743  1.640474  1.637113  1.633666  1.630139  1.626537  1.622872   \n",
       "70  2.964757  2.955813  2.946850  2.937876  2.928895  2.919916  2.910947   \n",
       "71  1.394445  1.395200  1.396040  1.396963  1.397964  1.399034  1.400164   \n",
       "\n",
       "        7         8         9     ...  1168  1169  1170  1171  1172  1173  \\\n",
       "0   2.459860  2.448306  2.436924  ...   0.0   0.0   0.0   0.0   0.0   0.0   \n",
       "1   2.771015  2.759221  2.747290  ...   0.0   0.0   0.0   0.0   0.0   0.0   \n",
       "2   1.752951  1.748095  1.743242  ...   0.0   0.0   0.0   0.0   0.0   0.0   \n",
       "3   1.839520  1.833711  1.827854  ...   0.0   0.0   0.0   0.0   0.0   0.0   \n",
       "4   1.581102  1.580274  1.579494  ...   0.0   0.0   0.0   0.0   0.0   0.0   \n",
       "..       ...       ...       ...  ...   ...   ...   ...   ...   ...   ...   \n",
       "67  1.652366  1.654607  1.656884  ...   0.0   0.0   0.0   0.0   0.0   0.0   \n",
       "68  1.532403  1.528725  1.524953  ...   0.0   0.0   0.0   0.0   0.0   0.0   \n",
       "69  1.619153  1.615391  1.611603  ...   0.0   0.0   0.0   0.0   0.0   0.0   \n",
       "70  2.901993  2.893064  2.884165  ...   0.0   0.0   0.0   0.0   0.0   0.0   \n",
       "71  1.401342  1.402554  1.403787  ...   0.0   0.0   0.0   0.0   0.0   0.0   \n",
       "\n",
       "    1174  1175  1176  1177  \n",
       "0    0.0   0.0   0.0   0.0  \n",
       "1    0.0   0.0   0.0   0.0  \n",
       "2    0.0   0.0   0.0   0.0  \n",
       "3    0.0   0.0   0.0   0.0  \n",
       "4    0.0   0.0   0.0   0.0  \n",
       "..   ...   ...   ...   ...  \n",
       "67   0.0   0.0   0.0   0.0  \n",
       "68   0.0   0.0   0.0   0.0  \n",
       "69   0.0   0.0   0.0   0.0  \n",
       "70   0.0   0.0   0.0   0.0  \n",
       "71   0.0   0.0   0.0   0.0  \n",
       "\n",
       "[72 rows x 1178 columns]"
      ]
     },
     "execution_count": 18,
     "metadata": {},
     "output_type": "execute_result"
    }
   ],
   "source": [
    "smv_X_train_df"
   ]
  },
  {
   "cell_type": "code",
   "execution_count": 19,
   "metadata": {
    "ExecuteTime": {
     "end_time": "2021-05-14T07:40:58.735098Z",
     "start_time": "2021-05-14T07:40:58.708095Z"
    }
   },
   "outputs": [
    {
     "name": "stderr",
     "output_type": "stream",
     "text": [
      "C:\\Users\\youne\\anaconda3\\lib\\site-packages\\pandas\\core\\frame.py:4462: SettingWithCopyWarning: \n",
      "A value is trying to be set on a copy of a slice from a DataFrame\n",
      "\n",
      "See the caveats in the documentation: https://pandas.pydata.org/pandas-docs/stable/user_guide/indexing.html#returning-a-view-versus-a-copy\n",
      "  return super().fillna(\n"
     ]
    }
   ],
   "source": [
    "y_train_df.fillna(0, inplace=True)\n",
    "y_test_df.fillna(0, inplace=True)"
   ]
  },
  {
   "cell_type": "code",
   "execution_count": 20,
   "metadata": {
    "ExecuteTime": {
     "end_time": "2021-05-14T07:40:59.879366Z",
     "start_time": "2021-05-14T07:40:59.858371Z"
    }
   },
   "outputs": [],
   "source": [
    "class DNNModel(tf.keras.Model):\n",
    "    \"\"\"\n",
    "    A class to create the arcitecture of the DNN model\n",
    "\n",
    "    ...\n",
    "\n",
    "    Attributes\n",
    "    ----------\n",
    "    inputs : array\n",
    "       the array of inputs that the model would train on\n",
    "    \"\"\"\n",
    "\n",
    "    def __init__(self):\n",
    "        \"\"\"\n",
    "        Initialize the layers of the model\n",
    "        \"\"\"\n",
    "        super(DNNModel, self).__init__()\n",
    "        \n",
    "        self.dnn1 = tf.keras.layers.Dense(256, input_shape=(1177,), activation='relu')\n",
    "        self.dnn2 = tf.keras.layers.Dense(256, activation='relu')\n",
    "        self.fc1 = tf.keras.layers.Dense(1178, activation='sigmoid')\n",
    "    \n",
    "    def call(self, inputs):\n",
    "        \"\"\"Forwad propagates the inputs into the model\n",
    "\n",
    "        Parameters\n",
    "        ----------\n",
    "        inputs : array\n",
    "           the array of inputs that the model would train on\n",
    "\n",
    "        Returns\n",
    "        -------\n",
    "        x : tensor\n",
    "            the output of the model\n",
    "        \"\"\"\n",
    "        x = self.dnn1(inputs)\n",
    "        x = self.dnn2(x)\n",
    "        x = self.fc1(x)\n",
    "        return x"
   ]
  },
  {
   "cell_type": "code",
   "execution_count": 23,
   "metadata": {
    "ExecuteTime": {
     "end_time": "2021-05-14T07:41:41.012733Z",
     "start_time": "2021-05-14T07:41:39.840393Z"
    }
   },
   "outputs": [
    {
     "name": "stdout",
     "output_type": "stream",
     "text": [
      "Epoch 1/15\n",
      "1/1 [==============================] - 1s 679ms/step - loss: 0.7127 - accuracy: 0.0000e+00\n",
      "Epoch 2/15\n",
      "1/1 [==============================] - 0s 14ms/step - loss: 0.6648 - accuracy: 0.0000e+00\n",
      "Epoch 3/15\n",
      "1/1 [==============================] - 0s 20ms/step - loss: 0.6279 - accuracy: 0.0000e+00\n",
      "Epoch 4/15\n",
      "1/1 [==============================] - 0s 11ms/step - loss: 0.5786 - accuracy: 0.0278\n",
      "Epoch 5/15\n",
      "1/1 [==============================] - 0s 24ms/step - loss: 0.5198 - accuracy: 0.0278\n",
      "Epoch 6/15\n",
      "1/1 [==============================] - 0s 14ms/step - loss: 0.4602 - accuracy: 0.0417\n",
      "Epoch 7/15\n",
      "1/1 [==============================] - 0s 22ms/step - loss: 0.4084 - accuracy: 0.0278\n",
      "Epoch 8/15\n",
      "1/1 [==============================] - 0s 15ms/step - loss: 0.3683 - accuracy: 0.0139\n",
      "Epoch 9/15\n",
      "1/1 [==============================] - 0s 15ms/step - loss: 0.3386 - accuracy: 0.0139\n",
      "Epoch 10/15\n",
      "1/1 [==============================] - 0s 15ms/step - loss: 0.3153 - accuracy: 0.0278\n",
      "Epoch 11/15\n",
      "1/1 [==============================] - 0s 36ms/step - loss: 0.2958 - accuracy: 0.0139\n",
      "Epoch 12/15\n",
      "1/1 [==============================] - ETA: 0s - loss: 0.2806 - accuracy: 0.01 - 0s 16ms/step - loss: 0.2806 - accuracy: 0.0139\n",
      "Epoch 13/15\n",
      "1/1 [==============================] - 0s 22ms/step - loss: 0.2698 - accuracy: 0.0278\n",
      "Epoch 14/15\n",
      "1/1 [==============================] - 0s 45ms/step - loss: 0.2625 - accuracy: 0.0278\n",
      "Epoch 15/15\n",
      "1/1 [==============================] - 0s 15ms/step - loss: 0.2571 - accuracy: 0.0278\n"
     ]
    }
   ],
   "source": [
    "n_epochs = 15\n",
    "bs = 256\n",
    "dnn_model = DNNModel()\n",
    "\n",
    "dnn_model.compile(loss='binary_crossentropy', optimizer='adam', metrics=['accuracy'])\n",
    "\n",
    "history = dnn_model.fit(\n",
    "    smv_X_train_df.values, y_train_df.values,\n",
    "    epochs=n_epochs,\n",
    "    batch_size=bs\n",
    ")"
   ]
  },
  {
   "cell_type": "code",
   "execution_count": 24,
   "metadata": {
    "ExecuteTime": {
     "end_time": "2021-05-14T07:41:44.512593Z",
     "start_time": "2021-05-14T07:41:44.226494Z"
    }
   },
   "outputs": [
    {
     "data": {
      "image/png": "[encoded data removed]",
      "text/plain": [
       "<Figure size 432x288 with 1 Axes>"
      ]
     },
     "metadata": {
      "needs_background": "light"
     },
     "output_type": "display_data"
    }
   ],
   "source": [
    "plt.plot(history.history['accuracy'])\n",
    "plt.plot(history.history['loss'])\n",
    "plt.legend(['acc', 'loss'], loc='upper left')\n",
    "plt.show()"
   ]
  },
  {
   "cell_type": "code",
   "execution_count": 25,
   "metadata": {
    "ExecuteTime": {
     "end_time": "2021-05-14T07:41:48.819670Z",
     "start_time": "2021-05-14T07:41:48.653667Z"
    }
   },
   "outputs": [],
   "source": [
    "y_pred = np.where(dnn_model.predict(smv_X_test_df.values)>=0.75, 1, 0).reshape(3, 1178)"
   ]
  },
  {
   "cell_type": "code",
   "execution_count": 26,
   "metadata": {
    "ExecuteTime": {
     "end_time": "2021-05-14T07:42:05.220169Z",
     "start_time": "2021-05-14T07:42:05.191776Z"
    }
   },
   "outputs": [
    {
     "name": "stdout",
     "output_type": "stream",
     "text": [
      "Accuracy score:  0.8607809847198642\n",
      "F1 score:  0.15463917525773196\n",
      "              precision    recall  f1-score   support\n",
      "\n",
      "         0.0       0.86      1.00      0.92      2999\n",
      "         1.0       0.96      0.08      0.15       535\n",
      "\n",
      "    accuracy                           0.86      3534\n",
      "   macro avg       0.91      0.54      0.54      3534\n",
      "weighted avg       0.87      0.86      0.81      3534\n",
      "\n"
     ]
    }
   ],
   "source": [
    "y_tst_score = np.concatenate(y_test_df.values)\n",
    "y_pred_score = np.concatenate(y_pred)\n",
    "print(\"Accuracy score: \", accuracy_score(y_tst_score, y_pred_score))\n",
    "print(\"F1 score: \", f1_score(y_tst_score, y_pred_score))\n",
    "print(classification_report(y_tst_score, y_pred_score))"
   ]
  },
  {
   "cell_type": "code",
   "execution_count": 155,
   "metadata": {
    "ExecuteTime": {
     "end_time": "2021-04-30T05:55:19.927033Z",
     "start_time": "2021-04-30T05:55:18.040145Z"
    },
    "scrolled": false
   },
   "outputs": [
    {
     "name": "stdout",
     "output_type": "stream",
     "text": [
      "\n",
      "######################################################################\n",
      "#                            Person n°: 0                            #\n",
      "######################################################################\n",
      "    \n"
     ]
    },
    {
     "data": {
      "image/png": "[encoded data removed]",
      "text/plain": [
       "<Figure size 1440x288 with 1 Axes>"
      ]
     },
     "metadata": {
      "needs_background": "light"
     },
     "output_type": "display_data"
    },
    {
     "data": {
      "image/png": "[encoded data removed]",
      "text/plain": [
       "<Figure size 1440x288 with 1 Axes>"
      ]
     },
     "metadata": {
      "needs_background": "light"
     },
     "output_type": "display_data"
    },
    {
     "data": {
      "image/png": "[encoded data removed]",
      "text/plain": [
       "<Figure size 1440x288 with 1 Axes>"
      ]
     },
     "metadata": {
      "needs_background": "light"
     },
     "output_type": "display_data"
    },
    {
     "name": "stdout",
     "output_type": "stream",
     "text": [
      "\n",
      "######################################################################\n",
      "#                            Person n°: 1                            #\n",
      "######################################################################\n",
      "    \n"
     ]
    },
    {
     "data": {
      "image/png": "[encoded data removed]",
      "text/plain": [
       "<Figure size 1440x288 with 1 Axes>"
      ]
     },
     "metadata": {
      "needs_background": "light"
     },
     "output_type": "display_data"
    },
    {
     "data": {
      "image/png": "[encoded data removed]",
      "text/plain": [
       "<Figure size 1440x288 with 1 Axes>"
      ]
     },
     "metadata": {
      "needs_background": "light"
     },
     "output_type": "display_data"
    },
    {
     "data": {
      "image/png": "[encoded data removed]",
      "text/plain": [
       "<Figure size 1440x288 with 1 Axes>"
      ]
     },
     "metadata": {
      "needs_background": "light"
     },
     "output_type": "display_data"
    },
    {
     "name": "stdout",
     "output_type": "stream",
     "text": [
      "\n",
      "######################################################################\n",
      "#                            Person n°: 2                            #\n",
      "######################################################################\n",
      "    \n"
     ]
    },
    {
     "data": {
      "image/png": "[encoded data removed]",
      "text/plain": [
       "<Figure size 1440x288 with 1 Axes>"
      ]
     },
     "metadata": {
      "needs_background": "light"
     },
     "output_type": "display_data"
    },
    {
     "data": {
      "image/png": "[encoded data removed]",
      "text/plain": [
       "<Figure size 1440x288 with 1 Axes>"
      ]
     },
     "metadata": {
      "needs_background": "light"
     },
     "output_type": "display_data"
    },
    {
     "data": {
      "image/png": "[encoded data removed]",
      "text/plain": [
       "<Figure size 1440x288 with 1 Axes>"
      ]
     },
     "metadata": {
      "needs_background": "light"
     },
     "output_type": "display_data"
    }
   ],
   "source": [
    "for idx in range(y_test_df.values.shape[0]):\n",
    "    print(\"\"\"\n",
    "######################################################################\n",
    "#                            Person n°: {}                            #\n",
    "######################################################################\n",
    "    \"\"\".format(idx))\n",
    "    \n",
    "    plt.figure(figsize=(20,4))\n",
    "    plt.plot(y_test_df.values[idx], label=\"real\")\n",
    "    plt.plot(y_pred[idx], label=\"predictions\")\n",
    "    plt.legend()\n",
    "    plt.show()\n",
    "    \n",
    "    plt.figure(figsize=(20,4))\n",
    "    plt.plot(y_test_df.values[idx])\n",
    "    plt.show()\n",
    "    \n",
    "    plt.figure(figsize=(20,4))\n",
    "    plt.plot(y_pred[idx])\n",
    "    plt.show()"
   ]
  },
  {
   "cell_type": "code",
   "execution_count": null,
   "metadata": {},
   "outputs": [],
   "source": []
  },
  {
   "cell_type": "code",
   "execution_count": null,
   "metadata": {},
   "outputs": [],
   "source": []
  },
  {
   "cell_type": "code",
   "execution_count": 20,
   "metadata": {
    "ExecuteTime": {
     "end_time": "2021-04-30T04:55:15.488696Z",
     "start_time": "2021-04-30T04:55:15.364681Z"
    }
   },
   "outputs": [],
   "source": [
    "counts = y_train_df.apply(pd.Series.value_counts, axis=1).sum(axis=0)"
   ]
  },
  {
   "cell_type": "code",
   "execution_count": 21,
   "metadata": {
    "ExecuteTime": {
     "end_time": "2021-04-30T04:55:15.519677Z",
     "start_time": "2021-04-30T04:55:15.497678Z"
    }
   },
   "outputs": [],
   "source": [
    "one_count = counts[1] / (counts[0] + counts[1])\n",
    "zero_count = counts[0] / (counts[0] + counts[1])"
   ]
  },
  {
   "cell_type": "code",
   "execution_count": 22,
   "metadata": {
    "ExecuteTime": {
     "end_time": "2021-04-30T04:55:15.535678Z",
     "start_time": "2021-04-30T04:55:15.526679Z"
    }
   },
   "outputs": [
    {
     "data": {
      "text/plain": [
       "0.8445222599509526"
      ]
     },
     "execution_count": 22,
     "metadata": {},
     "output_type": "execute_result"
    }
   ],
   "source": [
    "zero_count"
   ]
  },
  {
   "cell_type": "code",
   "execution_count": 23,
   "metadata": {
    "ExecuteTime": {
     "end_time": "2021-04-30T04:55:15.551676Z",
     "start_time": "2021-04-30T04:55:15.539680Z"
    }
   },
   "outputs": [
    {
     "name": "stdout",
     "output_type": "stream",
     "text": [
      "(72, 1178) (3, 1178)\n",
      "(72, 1178) (3, 1178)\n"
     ]
    }
   ],
   "source": [
    "print(smv_X_train_df.shape, smv_X_test_df.shape)\n",
    "print(y_train_df.shape, y_test_df.shape)"
   ]
  },
  {
   "cell_type": "code",
   "execution_count": 24,
   "metadata": {
    "ExecuteTime": {
     "end_time": "2021-04-30T04:55:15.583675Z",
     "start_time": "2021-04-30T04:55:15.555679Z"
    }
   },
   "outputs": [
    {
     "data": {
      "text/plain": [
       "count     72.000000\n",
       "mean     183.152778\n",
       "std      111.512099\n",
       "min       27.000000\n",
       "25%      112.250000\n",
       "50%      169.500000\n",
       "75%      210.750000\n",
       "max      601.000000\n",
       "dtype: float64"
      ]
     },
     "execution_count": 24,
     "metadata": {},
     "output_type": "execute_result"
    }
   ],
   "source": [
    "y_train_df.sum(axis=1).describe()"
   ]
  },
  {
   "cell_type": "code",
   "execution_count": 25,
   "metadata": {
    "ExecuteTime": {
     "end_time": "2021-04-30T04:55:15.598694Z",
     "start_time": "2021-04-30T04:55:15.587678Z"
    }
   },
   "outputs": [],
   "source": [
    "smv_X_train_df_r = smv_X_train_df.values.reshape(smv_X_train_df.shape[0], smv_X_train_df.shape[1], 1)\n",
    "smv_X_test_df_r = smv_X_test_df.values.reshape(smv_X_test_df.shape[0], smv_X_test_df.shape[1], 1)"
   ]
  },
  {
   "cell_type": "code",
   "execution_count": 26,
   "metadata": {
    "ExecuteTime": {
     "end_time": "2021-04-30T04:55:15.613695Z",
     "start_time": "2021-04-30T04:55:15.602685Z"
    }
   },
   "outputs": [],
   "source": [
    "class BLSTMModel(tf.keras.Model):\n",
    "    \"\"\"\n",
    "    A class to create the arcitecture of the DNN model\n",
    "\n",
    "    ...\n",
    "\n",
    "    Attributes\n",
    "    ----------\n",
    "    inputs : array\n",
    "       the array of inputs that the model would train on\n",
    "    \"\"\"\n",
    "\n",
    "    def __init__(self):\n",
    "        \"\"\"\n",
    "        Initialize the layers of the model\n",
    "        \"\"\"\n",
    "        super(BLSTMModel, self).__init__()\n",
    "        \n",
    "        self.lstm1 = tf.keras.layers.Bidirectional(\n",
    "            tf.keras.layers.LSTM(64, input_shape=(1177, 1), return_sequences=True)\n",
    "        )\n",
    "        self.lstm2 = tf.keras.layers.Bidirectional(\n",
    "            tf.keras.layers.LSTM(64, return_sequences=True)\n",
    "        )\n",
    "        self.fc1 = tf.keras.layers.TimeDistributed(tf.keras.layers.Dense(1, activation='sigmoid'))\n",
    "    \n",
    "    def call(self, inputs):\n",
    "        \"\"\"Forwad propagates the inputs into the model\n",
    "\n",
    "        Parameters\n",
    "        ----------\n",
    "        inputs : array\n",
    "           the array of inputs that the model would train on\n",
    "\n",
    "        Returns\n",
    "        -------\n",
    "        x : tensor\n",
    "            the output of the model\n",
    "        \"\"\"\n",
    "        x = self.lstm1(inputs)\n",
    "        x = self.lstm2(x)\n",
    "        x = self.fc1(x)\n",
    "        return x"
   ]
  },
  {
   "cell_type": "code",
   "execution_count": 27,
   "metadata": {
    "ExecuteTime": {
     "end_time": "2021-04-30T04:55:16.121681Z",
     "start_time": "2021-04-30T04:55:15.616679Z"
    }
   },
   "outputs": [],
   "source": [
    "METRICS = [\n",
    "      tf.keras.metrics.TruePositives(name='tp'),\n",
    "      tf.keras.metrics.FalsePositives(name='fp'),\n",
    "      tf.keras.metrics.TrueNegatives(name='tn'),\n",
    "      tf.keras.metrics.FalseNegatives(name='fn'), \n",
    "      tf.keras.metrics.BinaryAccuracy(name='accuracy'),\n",
    "      tf.keras.metrics.Precision(name='precision'),\n",
    "      tf.keras.metrics.Recall(name='recall'),\n",
    "      tf.keras.metrics.AUC(name='auc'),\n",
    "      tf.keras.metrics.AUC(name='prc', curve='PR'), # precision-recall curve\n",
    "]\n"
   ]
  },
  {
   "cell_type": "code",
   "execution_count": 28,
   "metadata": {
    "ExecuteTime": {
     "end_time": "2021-04-30T04:57:57.858245Z",
     "start_time": "2021-04-30T04:55:16.132680Z"
    },
    "scrolled": true
   },
   "outputs": [
    {
     "name": "stdout",
     "output_type": "stream",
     "text": [
      "Epoch 1/5\n",
      "1/1 [==============================] - 41s 41s/step - loss: 0.6936 - tp: 13175.0000 - fp: 17446.0000 - tn: 54183.0000 - fn: 12.0000 - accuracy: 0.7942 - precision: 0.4303 - recall: 0.9991 - auc: 0.9012 - prc: 0.4794\n",
      "Epoch 2/5\n",
      "1/1 [==============================] - 29s 29s/step - loss: 0.6903 - tp: 0.0000e+00 - fp: 0.0000e+00 - tn: 71629.0000 - fn: 13187.0000 - accuracy: 0.8445 - precision: 0.0000e+00 - recall: 0.0000e+00 - auc: 0.0882 - prc: 0.0870\n",
      "Epoch 3/5\n",
      "1/1 [==============================] - 31s 31s/step - loss: 0.6748 - tp: 0.0000e+00 - fp: 0.0000e+00 - tn: 71629.0000 - fn: 13187.0000 - accuracy: 0.8445 - precision: 0.0000e+00 - recall: 0.0000e+00 - auc: 0.0855 - prc: 0.0868\n",
      "Epoch 4/5\n",
      "1/1 [==============================] - 31s 31s/step - loss: 0.6639 - tp: 13096.0000 - fp: 13311.0000 - tn: 58318.0000 - fn: 91.0000 - accuracy: 0.8420 - precision: 0.4959 - recall: 0.9931 - auc: 0.9068 - prc: 0.4931\n",
      "Epoch 5/5\n",
      "1/1 [==============================] - 29s 29s/step - loss: 0.6527 - tp: 13167.0000 - fp: 13484.0000 - tn: 58145.0000 - fn: 20.0000 - accuracy: 0.8408 - precision: 0.4941 - recall: 0.9985 - auc: 0.9078 - prc: 0.5003\n"
     ]
    }
   ],
   "source": [
    "n_epochs = 5\n",
    "bs = 2048\n",
    "blstm_model = BLSTMModel()\n",
    "\n",
    "blstm_model.compile(loss='binary_crossentropy', optimizer='adam', metrics=METRICS)\n",
    "\n",
    "history = blstm_model.fit(\n",
    "    smv_X_train_df_r, y_train_df.values,\n",
    "    epochs=n_epochs,\n",
    "    batch_size=bs\n",
    ")"
   ]
  },
  {
   "cell_type": "code",
   "execution_count": 29,
   "metadata": {
    "ExecuteTime": {
     "end_time": "2021-04-30T04:58:29.374921Z",
     "start_time": "2021-04-30T04:58:29.053920Z"
    }
   },
   "outputs": [
    {
     "data": {
      "image/png": "[encoded data removed]",
      "text/plain": [
       "<Figure size 432x288 with 1 Axes>"
      ]
     },
     "metadata": {
      "needs_background": "light"
     },
     "output_type": "display_data"
    }
   ],
   "source": [
    "plt.plot(history.history['accuracy'])\n",
    "plt.plot(history.history['loss'])\n",
    "plt.legend(['acc', 'loss'], loc='upper left')\n",
    "plt.show()"
   ]
  },
  {
   "cell_type": "code",
   "execution_count": 30,
   "metadata": {
    "ExecuteTime": {
     "end_time": "2021-04-30T04:58:33.458456Z",
     "start_time": "2021-04-30T04:58:31.415452Z"
    }
   },
   "outputs": [],
   "source": [
    "y_pred = np.where(blstm_model.predict(smv_X_test_df_r)>=0.5, 1, 0).reshape(3, 1178)"
   ]
  },
  {
   "cell_type": "code",
   "execution_count": 31,
   "metadata": {
    "ExecuteTime": {
     "end_time": "2021-04-30T04:58:34.064725Z",
     "start_time": "2021-04-30T04:58:34.031728Z"
    }
   },
   "outputs": [
    {
     "name": "stdout",
     "output_type": "stream",
     "text": [
      "Accuracy score:  0.8237125070741369\n",
      "              precision    recall  f1-score   support\n",
      "\n",
      "         0.0       1.00      0.79      0.88      2999\n",
      "         1.0       0.46      1.00      0.63       535\n",
      "\n",
      "    accuracy                           0.82      3534\n",
      "   macro avg       0.73      0.89      0.76      3534\n",
      "weighted avg       0.92      0.82      0.85      3534\n",
      "\n"
     ]
    }
   ],
   "source": [
    "y_tst_score = np.concatenate(y_test_df.values)\n",
    "y_pred_score = np.concatenate(y_pred)\n",
    "print(\"Accuracy score: \", accuracy_score(y_tst_score, y_pred_score))\n",
    "print(classification_report(y_tst_score, y_pred_score))"
   ]
  },
  {
   "cell_type": "code",
   "execution_count": 32,
   "metadata": {
    "ExecuteTime": {
     "end_time": "2021-04-30T04:58:40.522813Z",
     "start_time": "2021-04-30T04:58:40.462815Z"
    }
   },
   "outputs": [
    {
     "name": "stdout",
     "output_type": "stream",
     "text": [
      "              precision    recall  f1-score   support\n",
      "\n",
      "           0       0.00      0.00      0.00         0\n",
      "           1       0.00      0.00      0.00         0\n",
      "           2       0.00      0.00      0.00         0\n",
      "           3       0.00      0.00      0.00         0\n",
      "           4       0.00      0.00      0.00         0\n",
      "           5       0.00      0.00      0.00         0\n",
      "           6       0.00      0.00      0.00         0\n",
      "           7       0.00      0.00      0.00         0\n",
      "           8       0.00      0.00      0.00         0\n",
      "           9       0.00      0.00      0.00         0\n",
      "          10       0.00      0.00      0.00         0\n",
      "          11       0.00      0.00      0.00         0\n",
      "          12       0.00      0.00      0.00         0\n",
      "          13       0.00      0.00      0.00         0\n",
      "          14       0.00      0.00      0.00         0\n",
      "          15       0.00      0.00      0.00         0\n",
      "          16       0.00      0.00      0.00         0\n",
      "          17       0.00      0.00      0.00         0\n",
      "          18       0.00      0.00      0.00         0\n",
      "          19       0.00      0.00      0.00         0\n",
      "          20       0.00      0.00      0.00         0\n",
      "          21       0.00      0.00      0.00         0\n",
      "          22       0.00      0.00      0.00         0\n",
      "          23       0.00      0.00      0.00         0\n",
      "          24       0.33      1.00      0.50         1\n",
      "          25       0.33      1.00      0.50         1\n",
      "          26       0.33      1.00      0.50         1\n",
      "          27       0.33      1.00      0.50         1\n",
      "          28       0.33      1.00      0.50         1\n",
      "          29       0.33      1.00      0.50         1\n",
      "          30       0.33      1.00      0.50         1\n",
      "          31       0.33      1.00      0.50         1\n",
      "          32       0.33      1.00      0.50         1\n",
      "          33       0.33      1.00      0.50         1\n",
      "          34       0.33      1.00      0.50         1\n",
      "          35       0.33      1.00      0.50         1\n",
      "          36       0.33      1.00      0.50         1\n",
      "          37       0.33      1.00      0.50         1\n",
      "          38       0.33      1.00      0.50         1\n",
      "          39       0.33      1.00      0.50         1\n",
      "          40       0.33      1.00      0.50         1\n",
      "          41       0.33      1.00      0.50         1\n",
      "          42       0.67      1.00      0.80         2\n",
      "          43       0.67      1.00      0.80         2\n",
      "          44       0.67      1.00      0.80         2\n",
      "          45       1.00      1.00      1.00         3\n",
      "          46       1.00      1.00      1.00         3\n",
      "          47       1.00      1.00      1.00         3\n",
      "          48       1.00      1.00      1.00         3\n",
      "          49       1.00      1.00      1.00         3\n",
      "          50       1.00      1.00      1.00         3\n",
      "          51       1.00      1.00      1.00         3\n",
      "          52       1.00      1.00      1.00         3\n",
      "          53       1.00      1.00      1.00         3\n",
      "          54       1.00      1.00      1.00         3\n",
      "          55       1.00      1.00      1.00         3\n",
      "          56       1.00      1.00      1.00         3\n",
      "          57       1.00      1.00      1.00         3\n",
      "          58       1.00      1.00      1.00         3\n",
      "          59       1.00      1.00      1.00         3\n",
      "          60       1.00      1.00      1.00         3\n",
      "          61       1.00      1.00      1.00         3\n",
      "          62       1.00      1.00      1.00         3\n",
      "          63       1.00      1.00      1.00         3\n",
      "          64       1.00      1.00      1.00         3\n",
      "          65       1.00      1.00      1.00         3\n",
      "          66       1.00      1.00      1.00         3\n",
      "          67       1.00      1.00      1.00         3\n",
      "          68       1.00      1.00      1.00         3\n",
      "          69       1.00      1.00      1.00         3\n",
      "          70       1.00      1.00      1.00         3\n",
      "          71       1.00      1.00      1.00         3\n",
      "          72       1.00      1.00      1.00         3\n",
      "          73       1.00      1.00      1.00         3\n",
      "          74       1.00      1.00      1.00         3\n",
      "          75       1.00      1.00      1.00         3\n",
      "          76       1.00      1.00      1.00         3\n",
      "          77       0.67      1.00      0.80         2\n",
      "          78       0.67      1.00      0.80         2\n",
      "          79       0.67      1.00      0.80         2\n",
      "          80       0.67      1.00      0.80         2\n",
      "          81       0.67      1.00      0.80         2\n",
      "          82       0.67      1.00      0.80         2\n",
      "          83       0.33      1.00      0.50         1\n",
      "          84       0.33      1.00      0.50         1\n",
      "          85       0.33      1.00      0.50         1\n",
      "          86       0.33      1.00      0.50         1\n",
      "          87       0.33      1.00      0.50         1\n",
      "          88       0.33      1.00      0.50         1\n",
      "          89       0.33      1.00      0.50         1\n",
      "          90       0.33      1.00      0.50         1\n",
      "          91       0.33      1.00      0.50         1\n",
      "          92       0.33      1.00      0.50         1\n",
      "          93       0.33      1.00      0.50         1\n",
      "          94       0.33      1.00      0.50         1\n",
      "          95       0.33      1.00      0.50         1\n",
      "          96       0.33      1.00      0.50         1\n",
      "          97       0.33      1.00      0.50         1\n",
      "          98       0.33      1.00      0.50         1\n",
      "          99       0.33      1.00      0.50         1\n",
      "         100       0.33      1.00      0.50         1\n",
      "         101       0.33      1.00      0.50         1\n",
      "         102       0.33      1.00      0.50         1\n",
      "         103       0.33      1.00      0.50         1\n",
      "         104       0.33      1.00      0.50         1\n",
      "         105       0.33      1.00      0.50         1\n",
      "         106       0.33      1.00      0.50         1\n",
      "         107       0.33      1.00      0.50         1\n",
      "         108       0.33      1.00      0.50         1\n",
      "         109       0.33      1.00      0.50         1\n",
      "         110       0.33      1.00      0.50         1\n",
      "         111       0.33      1.00      0.50         1\n",
      "         112       0.33      1.00      0.50         1\n",
      "         113       0.33      1.00      0.50         1\n",
      "         114       0.33      1.00      0.50         1\n",
      "         115       0.33      1.00      0.50         1\n",
      "         116       0.33      1.00      0.50         1\n",
      "         117       0.00      0.00      0.00         0\n",
      "         118       0.00      0.00      0.00         0\n",
      "         119       0.00      0.00      0.00         0\n",
      "         120       0.00      0.00      0.00         0\n",
      "         121       0.00      0.00      0.00         0\n",
      "         122       0.00      0.00      0.00         0\n",
      "         123       0.00      0.00      0.00         0\n",
      "         124       0.00      0.00      0.00         0\n",
      "         125       0.00      0.00      0.00         0\n",
      "         126       0.00      0.00      0.00         0\n",
      "         127       0.33      1.00      0.50         1\n",
      "         128       0.33      1.00      0.50         1\n",
      "         129       0.33      1.00      0.50         1\n",
      "         130       0.00      0.00      0.00         1\n",
      "         131       0.00      0.00      0.00         1\n",
      "         132       0.00      0.00      0.00         0\n",
      "         133       0.00      0.00      0.00         0\n",
      "         134       0.00      0.00      0.00         0\n",
      "         135       0.00      0.00      0.00         0\n",
      "         136       0.00      0.00      0.00         0\n",
      "         137       0.50      1.00      0.67         1\n",
      "         138       0.50      1.00      0.67         1\n",
      "         139       0.50      1.00      0.67         1\n",
      "         140       0.50      1.00      0.67         1\n",
      "         141       0.50      1.00      0.67         1\n",
      "         142       0.50      1.00      0.67         1\n",
      "         143       0.50      1.00      0.67         1\n",
      "         144       0.50      1.00      0.67         1\n",
      "         145       0.50      1.00      0.67         1\n",
      "         146       0.50      1.00      0.67         1\n",
      "         147       0.50      1.00      0.67         1\n",
      "         148       0.50      1.00      0.67         1\n",
      "         149       0.50      1.00      0.67         1\n",
      "         150       0.50      1.00      0.67         1\n",
      "         151       0.50      1.00      0.67         1\n",
      "         152       0.50      1.00      0.67         1\n",
      "         153       0.50      1.00      0.67         1\n",
      "         154       0.50      1.00      0.67         1\n",
      "         155       0.50      1.00      0.67         1\n",
      "         156       0.50      1.00      0.67         1\n",
      "         157       0.50      1.00      0.67         1\n",
      "         158       0.50      1.00      0.67         1\n",
      "         159       0.50      1.00      0.67         1\n",
      "         160       0.50      1.00      0.67         1\n",
      "         161       0.50      1.00      0.67         1\n",
      "         162       0.50      1.00      0.67         1\n",
      "         163       0.50      1.00      0.67         1\n",
      "         164       0.50      1.00      0.67         1\n",
      "         165       0.50      1.00      0.67         1\n",
      "         166       0.50      1.00      0.67         1\n",
      "         167       0.50      1.00      0.67         1\n",
      "         168       0.50      1.00      0.67         1\n",
      "         169       0.50      1.00      0.67         1\n",
      "         170       0.50      1.00      0.67         1\n",
      "         171       0.50      1.00      0.67         1\n",
      "         172       0.50      1.00      0.67         1\n",
      "         173       0.50      1.00      0.67         1\n",
      "         174       0.50      1.00      0.67         1\n",
      "         175       0.50      1.00      0.67         1\n",
      "         176       0.50      1.00      0.67         1\n",
      "         177       0.50      1.00      0.67         1\n",
      "         178       0.50      1.00      0.67         1\n",
      "         179       0.50      1.00      0.67         1\n",
      "         180       0.50      1.00      0.67         1\n",
      "         181       0.50      1.00      0.67         1\n",
      "         182       0.50      1.00      0.67         1\n",
      "         183       0.50      1.00      0.67         1\n",
      "         184       0.50      1.00      0.67         1\n",
      "         185       0.50      1.00      0.67         1\n",
      "         186       0.50      1.00      0.67         1\n",
      "         187       0.50      1.00      0.67         1\n",
      "         188       0.50      1.00      0.67         1\n",
      "         189       0.50      1.00      0.67         1\n",
      "         190       0.50      1.00      0.67         1\n",
      "         191       0.50      1.00      0.67         1\n",
      "         192       0.00      0.00      0.00         0\n",
      "         193       0.00      0.00      0.00         0\n",
      "         194       0.00      0.00      0.00         0\n",
      "         195       0.00      0.00      0.00         0\n",
      "         196       0.50      1.00      0.67         1\n",
      "         197       0.50      1.00      0.67         1\n",
      "         198       0.50      1.00      0.67         1\n",
      "         199       0.50      1.00      0.67         1\n",
      "         200       0.50      1.00      0.67         1\n",
      "         201       0.50      1.00      0.67         1\n",
      "         202       0.50      1.00      0.67         1\n",
      "         203       0.50      1.00      0.67         1\n",
      "         204       0.50      1.00      0.67         1\n",
      "         205       0.50      1.00      0.67         1\n",
      "         206       0.50      1.00      0.67         1\n",
      "         207       0.50      1.00      0.67         1\n",
      "         208       0.50      1.00      0.67         1\n",
      "         209       0.50      1.00      0.67         1\n",
      "         210       0.50      1.00      0.67         1\n",
      "         211       0.50      1.00      0.67         1\n",
      "         212       0.50      1.00      0.67         1\n",
      "         213       0.50      1.00      0.67         1\n",
      "         214       0.50      1.00      0.67         1\n",
      "         215       0.50      1.00      0.67         1\n",
      "         216       0.50      1.00      0.67         1\n",
      "         217       0.50      1.00      0.67         1\n",
      "         218       0.50      1.00      0.67         1\n",
      "         219       0.50      1.00      0.67         1\n",
      "         220       0.50      1.00      0.67         1\n",
      "         221       0.50      1.00      0.67         1\n",
      "         222       0.50      1.00      0.67         1\n",
      "         223       0.50      1.00      0.67         1\n",
      "         224       0.50      1.00      0.67         1\n",
      "         225       0.50      1.00      0.67         1\n",
      "         226       0.50      1.00      0.67         1\n",
      "         227       0.50      1.00      0.67         1\n",
      "         228       0.50      1.00      0.67         1\n",
      "         229       0.50      1.00      0.67         1\n",
      "         230       0.50      1.00      0.67         1\n",
      "         231       0.50      1.00      0.67         1\n",
      "         232       0.50      1.00      0.67         1\n",
      "         233       0.50      1.00      0.67         1\n",
      "         234       0.50      1.00      0.67         1\n",
      "         235       0.50      1.00      0.67         1\n",
      "         236       0.50      1.00      0.67         1\n",
      "         237       0.50      1.00      0.67         1\n",
      "         238       0.50      1.00      0.67         1\n",
      "         239       0.50      1.00      0.67         1\n",
      "         240       0.50      1.00      0.67         1\n",
      "         241       0.50      1.00      0.67         1\n",
      "         242       0.50      1.00      0.67         1\n",
      "         243       0.50      1.00      0.67         1\n",
      "         244       0.50      1.00      0.67         1\n",
      "         245       0.50      1.00      0.67         1\n",
      "         246       0.50      1.00      0.67         1\n",
      "         247       0.50      1.00      0.67         1\n",
      "         248       0.50      1.00      0.67         1\n",
      "         249       0.50      1.00      0.67         1\n",
      "         250       1.00      1.00      1.00         2\n",
      "         251       1.00      1.00      1.00         2\n",
      "         252       1.00      1.00      1.00         2\n",
      "         253       1.00      1.00      1.00         2\n",
      "         254       1.00      1.00      1.00         2\n",
      "         255       1.00      1.00      1.00         2\n",
      "         256       1.00      1.00      1.00         2\n",
      "         257       1.00      1.00      1.00         2\n",
      "         258       1.00      1.00      1.00         2\n",
      "         259       1.00      1.00      1.00         2\n",
      "         260       1.00      1.00      1.00         2\n",
      "         261       1.00      1.00      1.00         2\n",
      "         262       0.50      1.00      0.67         1\n",
      "         263       0.50      1.00      0.67         1\n",
      "         264       0.50      1.00      0.67         1\n",
      "         265       0.50      1.00      0.67         1\n",
      "         266       0.50      1.00      0.67         1\n",
      "         267       0.50      1.00      0.67         1\n",
      "         268       0.50      1.00      0.67         1\n",
      "         269       0.50      1.00      0.67         1\n",
      "         270       0.50      1.00      0.67         1\n",
      "         271       0.50      1.00      0.67         1\n",
      "         272       0.50      1.00      0.67         1\n",
      "         273       0.50      1.00      0.67         1\n",
      "         274       0.50      1.00      0.67         1\n",
      "         275       0.50      1.00      0.67         1\n",
      "         276       0.50      1.00      0.67         1\n",
      "         277       0.50      1.00      0.67         1\n",
      "         278       0.50      1.00      0.67         1\n",
      "         279       0.50      1.00      0.67         1\n",
      "         280       0.50      1.00      0.67         1\n",
      "         281       0.50      1.00      0.67         1\n",
      "         282       0.50      1.00      0.67         1\n",
      "         283       0.50      1.00      0.67         1\n",
      "         284       0.50      1.00      0.67         1\n",
      "         285       0.50      1.00      0.67         1\n",
      "         286       0.50      1.00      0.67         1\n",
      "         287       0.50      1.00      0.67         1\n",
      "         288       0.50      1.00      0.67         1\n",
      "         289       0.50      1.00      0.67         1\n",
      "         290       0.50      1.00      0.67         1\n",
      "         291       0.50      1.00      0.67         1\n",
      "         292       0.50      1.00      0.67         1\n",
      "         293       0.50      1.00      0.67         1\n",
      "         294       0.50      1.00      0.67         1\n",
      "         295       0.50      1.00      0.67         1\n",
      "         296       0.50      1.00      0.67         1\n",
      "         297       0.50      1.00      0.67         1\n",
      "         298       0.50      1.00      0.67         1\n",
      "         299       0.50      1.00      0.67         1\n",
      "         300       0.50      1.00      0.67         1\n",
      "         301       0.50      1.00      0.67         1\n",
      "         302       0.50      1.00      0.67         1\n",
      "         303       0.50      1.00      0.67         1\n",
      "         304       0.50      1.00      0.67         1\n",
      "         305       0.50      1.00      0.67         1\n",
      "         306       0.00      0.00      0.00         0\n",
      "         307       0.00      0.00      0.00         0\n",
      "         308       0.00      0.00      0.00         0\n",
      "         309       0.00      0.00      0.00         0\n",
      "         310       0.00      0.00      0.00         0\n",
      "         311       0.00      0.00      0.00         0\n",
      "         312       0.00      0.00      0.00         0\n",
      "         313       0.00      0.00      0.00         0\n",
      "         314       0.00      0.00      0.00         0\n",
      "         315       0.00      0.00      0.00         0\n",
      "         316       0.00      0.00      0.00         0\n",
      "         317       0.00      0.00      0.00         0\n",
      "         318       0.00      0.00      0.00         0\n",
      "         319       0.00      0.00      0.00         0\n",
      "         320       0.00      0.00      0.00         0\n",
      "         321       0.00      0.00      0.00         0\n",
      "         322       0.00      0.00      0.00         0\n",
      "         323       0.00      0.00      0.00         0\n",
      "         324       0.00      0.00      0.00         0\n",
      "         325       0.00      0.00      0.00         0\n",
      "         326       0.00      0.00      0.00         0\n",
      "         327       0.00      0.00      0.00         0\n",
      "         328       0.00      0.00      0.00         0\n",
      "         329       0.00      0.00      0.00         0\n",
      "         330       0.00      0.00      0.00         0\n",
      "         331       0.00      0.00      0.00         0\n",
      "         332       0.00      0.00      0.00         0\n",
      "         333       0.00      0.00      0.00         0\n",
      "         334       0.00      0.00      0.00         0\n",
      "         335       0.00      0.00      0.00         0\n",
      "         336       0.50      1.00      0.67         1\n",
      "         337       0.50      1.00      0.67         1\n",
      "         338       0.50      1.00      0.67         1\n",
      "         339       0.50      1.00      0.67         1\n",
      "         340       0.50      1.00      0.67         1\n",
      "         341       0.50      1.00      0.67         1\n",
      "         342       0.50      1.00      0.67         1\n",
      "         343       0.50      1.00      0.67         1\n",
      "         344       0.50      1.00      0.67         1\n",
      "         345       0.50      1.00      0.67         1\n",
      "         346       0.50      1.00      0.67         1\n",
      "         347       0.50      1.00      0.67         1\n",
      "         348       0.50      1.00      0.67         1\n",
      "         349       0.50      1.00      0.67         1\n",
      "         350       0.50      1.00      0.67         1\n",
      "         351       0.50      1.00      0.67         1\n",
      "         352       0.50      1.00      0.67         1\n",
      "         353       0.50      1.00      0.67         1\n",
      "         354       0.50      1.00      0.67         1\n",
      "         355       0.50      1.00      0.67         1\n",
      "         356       0.50      1.00      0.67         1\n",
      "         357       0.50      1.00      0.67         1\n",
      "         358       0.50      1.00      0.67         1\n",
      "         359       0.50      1.00      0.67         1\n",
      "         360       0.50      1.00      0.67         1\n",
      "         361       0.50      1.00      0.67         1\n",
      "         362       0.50      1.00      0.67         1\n",
      "         363       1.00      1.00      1.00         2\n",
      "         364       1.00      1.00      1.00         2\n",
      "         365       1.00      1.00      1.00         2\n",
      "         366       1.00      1.00      1.00         2\n",
      "         367       1.00      1.00      1.00         2\n",
      "         368       1.00      1.00      1.00         2\n",
      "         369       1.00      1.00      1.00         2\n",
      "         370       1.00      1.00      1.00         2\n",
      "         371       1.00      1.00      1.00         2\n",
      "         372       1.00      1.00      1.00         2\n",
      "         373       1.00      1.00      1.00         2\n",
      "         374       1.00      1.00      1.00         2\n",
      "         375       1.00      1.00      1.00         2\n",
      "         376       1.00      1.00      1.00         2\n",
      "         377       1.00      1.00      1.00         2\n",
      "         378       1.00      1.00      1.00         2\n",
      "         379       1.00      1.00      1.00         2\n",
      "         380       1.00      1.00      1.00         2\n",
      "         381       1.00      1.00      1.00         2\n",
      "         382       1.00      1.00      1.00         2\n",
      "         383       1.00      1.00      1.00         2\n",
      "         384       1.00      1.00      1.00         2\n",
      "         385       1.00      1.00      1.00         2\n",
      "         386       1.00      1.00      1.00         2\n",
      "         387       1.00      1.00      1.00         2\n",
      "         388       1.00      1.00      1.00         2\n",
      "         389       1.00      1.00      1.00         2\n",
      "         390       1.00      1.00      1.00         2\n",
      "         391       1.00      1.00      1.00         2\n",
      "         392       1.00      1.00      1.00         2\n",
      "         393       1.00      1.00      1.00         2\n",
      "         394       1.00      1.00      1.00         2\n",
      "         395       1.00      1.00      1.00         2\n",
      "         396       1.00      1.00      1.00         2\n",
      "         397       1.00      1.00      1.00         2\n",
      "         398       1.00      1.00      1.00         2\n",
      "         399       1.00      1.00      1.00         2\n",
      "         400       1.00      1.00      1.00         2\n",
      "         401       1.00      1.00      1.00         2\n",
      "         402       1.00      1.00      1.00         2\n",
      "         403       1.00      1.00      1.00         2\n",
      "         404       1.00      1.00      1.00         2\n",
      "         405       0.50      1.00      0.67         1\n",
      "         406       0.50      1.00      0.67         1\n",
      "         407       0.50      1.00      0.67         1\n",
      "         408       0.50      1.00      0.67         1\n",
      "         409       0.50      1.00      0.67         1\n",
      "         410       0.50      1.00      0.67         1\n",
      "         411       0.50      1.00      0.67         1\n",
      "         412       0.50      1.00      0.67         1\n",
      "         413       0.50      1.00      0.67         1\n",
      "         414       0.50      1.00      0.67         1\n",
      "         415       0.50      1.00      0.67         1\n",
      "         416       0.00      0.00      0.00         0\n",
      "         417       0.00      0.00      0.00         0\n",
      "         418       0.00      0.00      0.00         0\n",
      "         419       0.00      0.00      0.00         0\n",
      "         420       0.00      0.00      0.00         0\n",
      "         421       0.00      0.00      0.00         0\n",
      "         422       0.00      0.00      0.00         0\n",
      "         423       0.00      0.00      0.00         0\n",
      "         424       0.00      0.00      0.00         0\n",
      "         425       0.00      0.00      0.00         0\n",
      "         426       0.00      0.00      0.00         0\n",
      "         427       0.00      0.00      0.00         0\n",
      "         428       0.00      0.00      0.00         0\n",
      "         429       0.00      0.00      0.00         0\n",
      "         430       0.00      0.00      0.00         0\n",
      "         431       0.00      0.00      0.00         0\n",
      "         432       0.00      0.00      0.00         0\n",
      "         433       0.00      0.00      0.00         0\n",
      "         434       0.00      0.00      0.00         0\n",
      "         435       0.00      0.00      0.00         0\n",
      "         436       0.00      0.00      0.00         0\n",
      "         437       0.00      0.00      0.00         0\n",
      "         438       0.00      0.00      0.00         0\n",
      "         439       0.00      0.00      0.00         0\n",
      "         440       0.00      0.00      0.00         0\n",
      "         441       0.00      0.00      0.00         0\n",
      "         442       0.00      0.00      0.00         0\n",
      "         443       0.00      0.00      0.00         0\n",
      "         444       0.00      0.00      0.00         0\n",
      "         445       0.00      0.00      0.00         0\n",
      "         446       0.00      0.00      0.00         0\n",
      "         447       0.00      0.00      0.00         0\n",
      "         448       0.00      0.00      0.00         0\n",
      "         449       0.00      0.00      0.00         0\n",
      "         450       0.00      0.00      0.00         0\n",
      "         451       0.00      0.00      0.00         0\n",
      "         452       0.00      0.00      0.00         0\n",
      "         453       0.00      0.00      0.00         0\n",
      "         454       0.00      0.00      0.00         0\n",
      "         455       0.00      0.00      0.00         0\n",
      "         456       0.00      0.00      0.00         0\n",
      "         457       0.00      0.00      0.00         0\n",
      "         458       0.00      0.00      0.00         0\n",
      "         459       0.00      0.00      0.00         0\n",
      "         460       0.00      0.00      0.00         0\n",
      "         461       0.00      0.00      0.00         0\n",
      "         462       0.00      0.00      0.00         0\n",
      "         463       0.00      0.00      0.00         0\n",
      "         464       0.00      0.00      0.00         0\n",
      "         465       0.00      0.00      0.00         0\n",
      "         466       0.00      0.00      0.00         0\n",
      "         467       0.00      0.00      0.00         0\n",
      "         468       0.00      0.00      0.00         0\n",
      "         469       0.00      0.00      0.00         0\n",
      "         470       0.00      0.00      0.00         0\n",
      "         471       0.00      0.00      0.00         0\n",
      "         472       0.00      0.00      0.00         0\n",
      "         473       0.00      0.00      0.00         0\n",
      "         474       0.00      0.00      0.00         0\n",
      "         475       0.00      0.00      0.00         0\n",
      "         476       0.00      0.00      0.00         0\n",
      "         477       0.00      0.00      0.00         0\n",
      "         478       0.00      0.00      0.00         0\n",
      "         479       0.00      0.00      0.00         0\n",
      "         480       0.00      0.00      0.00         0\n",
      "         481       0.00      0.00      0.00         0\n",
      "         482       0.00      0.00      0.00         0\n",
      "         483       0.00      0.00      0.00         0\n",
      "         484       0.00      0.00      0.00         0\n",
      "         485       0.00      0.00      0.00         0\n",
      "         486       1.00      1.00      1.00         1\n",
      "         487       1.00      1.00      1.00         1\n",
      "         488       1.00      1.00      1.00         1\n",
      "         489       1.00      1.00      1.00         1\n",
      "         490       1.00      1.00      1.00         1\n",
      "         491       1.00      1.00      1.00         1\n",
      "         492       1.00      1.00      1.00         1\n",
      "         493       1.00      1.00      1.00         1\n",
      "         494       1.00      1.00      1.00         1\n",
      "         495       1.00      1.00      1.00         1\n",
      "         496       1.00      1.00      1.00         1\n",
      "         497       1.00      1.00      1.00         1\n",
      "         498       1.00      1.00      1.00         1\n",
      "         499       1.00      1.00      1.00         1\n",
      "         500       1.00      1.00      1.00         1\n",
      "         501       1.00      1.00      1.00         1\n",
      "         502       1.00      1.00      1.00         1\n",
      "         503       1.00      1.00      1.00         1\n",
      "         504       1.00      1.00      1.00         1\n",
      "         505       1.00      1.00      1.00         1\n",
      "         506       1.00      1.00      1.00         1\n",
      "         507       1.00      1.00      1.00         1\n",
      "         508       1.00      1.00      1.00         1\n",
      "         509       1.00      1.00      1.00         1\n",
      "         510       1.00      1.00      1.00         1\n",
      "         511       1.00      1.00      1.00         1\n",
      "         512       1.00      1.00      1.00         1\n",
      "         513       1.00      1.00      1.00         1\n",
      "         514       1.00      1.00      1.00         1\n",
      "         515       1.00      1.00      1.00         1\n",
      "         516       1.00      1.00      1.00         1\n",
      "         517       1.00      1.00      1.00         1\n",
      "         518       1.00      1.00      1.00         1\n",
      "         519       1.00      1.00      1.00         1\n",
      "         520       1.00      1.00      1.00         1\n",
      "         521       1.00      1.00      1.00         1\n",
      "         522       1.00      1.00      1.00         1\n",
      "         523       1.00      1.00      1.00         1\n",
      "         524       1.00      1.00      1.00         1\n",
      "         525       1.00      1.00      1.00         1\n",
      "         526       1.00      1.00      1.00         1\n",
      "         527       1.00      1.00      1.00         1\n",
      "         528       1.00      1.00      1.00         1\n",
      "         529       1.00      1.00      1.00         1\n",
      "         530       1.00      1.00      1.00         1\n",
      "         531       1.00      1.00      1.00         1\n",
      "         532       1.00      1.00      1.00         1\n",
      "         533       1.00      1.00      1.00         1\n",
      "         534       1.00      1.00      1.00         1\n",
      "         535       1.00      1.00      1.00         1\n",
      "         536       1.00      1.00      1.00         1\n",
      "         537       1.00      1.00      1.00         1\n",
      "         538       1.00      1.00      1.00         1\n",
      "         539       1.00      1.00      1.00         1\n",
      "         540       1.00      1.00      1.00         1\n",
      "         541       1.00      1.00      1.00         1\n",
      "         542       1.00      1.00      1.00         1\n",
      "         543       1.00      1.00      1.00         1\n",
      "         544       1.00      1.00      1.00         1\n",
      "         545       1.00      1.00      1.00         1\n",
      "         546       1.00      1.00      1.00         1\n",
      "         547       1.00      1.00      1.00         1\n",
      "         548       1.00      1.00      1.00         1\n",
      "         549       1.00      1.00      1.00         1\n",
      "         550       1.00      1.00      1.00         1\n",
      "         551       0.00      0.00      0.00         0\n",
      "         552       0.00      0.00      0.00         0\n",
      "         553       0.00      0.00      0.00         0\n",
      "         554       0.00      0.00      0.00         0\n",
      "         555       0.00      0.00      0.00         0\n",
      "         556       0.00      0.00      0.00         0\n",
      "         557       0.00      0.00      0.00         0\n",
      "         558       0.00      0.00      0.00         0\n",
      "         559       0.00      0.00      0.00         0\n",
      "         560       0.00      0.00      0.00         0\n",
      "         561       0.00      0.00      0.00         0\n",
      "         562       0.00      0.00      0.00         0\n",
      "         563       0.00      0.00      0.00         0\n",
      "         564       0.00      0.00      0.00         0\n",
      "         565       0.00      0.00      0.00         0\n",
      "         566       0.00      0.00      0.00         0\n",
      "         567       0.00      0.00      0.00         0\n",
      "         568       0.00      0.00      0.00         0\n",
      "         569       0.00      0.00      0.00         0\n",
      "         570       0.00      0.00      0.00         0\n",
      "         571       0.00      0.00      0.00         0\n",
      "         572       0.00      0.00      0.00         0\n",
      "         573       0.00      0.00      0.00         0\n",
      "         574       0.00      0.00      0.00         0\n",
      "         575       0.00      0.00      0.00         0\n",
      "         576       0.00      0.00      0.00         0\n",
      "         577       0.00      0.00      0.00         0\n",
      "         578       0.00      0.00      0.00         0\n",
      "         579       0.00      0.00      0.00         0\n",
      "         580       0.00      0.00      0.00         0\n",
      "         581       0.00      0.00      0.00         0\n",
      "         582       0.00      0.00      0.00         0\n",
      "         583       0.00      0.00      0.00         0\n",
      "         584       0.00      0.00      0.00         0\n",
      "         585       0.00      0.00      0.00         0\n",
      "         586       0.00      0.00      0.00         0\n",
      "         587       0.00      0.00      0.00         0\n",
      "         588       0.00      0.00      0.00         0\n",
      "         589       0.00      0.00      0.00         0\n",
      "         590       0.00      0.00      0.00         0\n",
      "         591       0.00      0.00      0.00         0\n",
      "         592       0.00      0.00      0.00         0\n",
      "         593       0.00      0.00      0.00         0\n",
      "         594       0.00      0.00      0.00         0\n",
      "         595       0.00      0.00      0.00         0\n",
      "         596       0.00      0.00      0.00         0\n",
      "         597       0.00      0.00      0.00         0\n",
      "         598       0.00      0.00      0.00         0\n",
      "         599       0.00      0.00      0.00         0\n",
      "         600       0.00      0.00      0.00         0\n",
      "         601       0.00      0.00      0.00         0\n",
      "         602       0.00      0.00      0.00         0\n",
      "         603       0.00      0.00      0.00         0\n",
      "         604       0.00      0.00      0.00         0\n",
      "         605       0.00      0.00      0.00         0\n",
      "         606       0.00      0.00      0.00         0\n",
      "         607       0.00      0.00      0.00         0\n",
      "         608       0.00      0.00      0.00         0\n",
      "         609       0.00      0.00      0.00         0\n",
      "         610       0.00      0.00      0.00         0\n",
      "         611       0.00      0.00      0.00         0\n",
      "         612       0.00      0.00      0.00         0\n",
      "         613       0.00      0.00      0.00         0\n",
      "         614       0.00      0.00      0.00         0\n",
      "         615       0.00      0.00      0.00         0\n",
      "         616       0.00      0.00      0.00         0\n",
      "         617       0.00      0.00      0.00         0\n",
      "         618       0.00      0.00      0.00         0\n",
      "         619       0.00      0.00      0.00         0\n",
      "         620       0.00      0.00      0.00         0\n",
      "         621       0.00      0.00      0.00         0\n",
      "         622       0.00      0.00      0.00         0\n",
      "         623       0.00      0.00      0.00         0\n",
      "         624       0.00      0.00      0.00         0\n",
      "         625       0.00      0.00      0.00         0\n",
      "         626       0.00      0.00      0.00         0\n",
      "         627       0.00      0.00      0.00         0\n",
      "         628       0.00      0.00      0.00         0\n",
      "         629       0.00      0.00      0.00         0\n",
      "         630       0.00      0.00      0.00         0\n",
      "         631       0.00      0.00      0.00         0\n",
      "         632       0.00      0.00      0.00         0\n",
      "         633       0.00      0.00      0.00         0\n",
      "         634       0.00      0.00      0.00         0\n",
      "         635       0.00      0.00      0.00         0\n",
      "         636       0.00      0.00      0.00         0\n",
      "         637       0.00      0.00      0.00         0\n",
      "         638       0.00      0.00      0.00         0\n",
      "         639       0.00      0.00      0.00         0\n",
      "         640       0.00      0.00      0.00         0\n",
      "         641       0.00      0.00      0.00         0\n",
      "         642       0.00      0.00      0.00         0\n",
      "         643       0.00      0.00      0.00         0\n",
      "         644       0.00      0.00      0.00         0\n",
      "         645       0.00      0.00      0.00         0\n",
      "         646       0.00      0.00      0.00         0\n",
      "         647       0.00      0.00      0.00         0\n",
      "         648       0.00      0.00      0.00         0\n",
      "         649       0.00      0.00      0.00         0\n",
      "         650       0.00      0.00      0.00         0\n",
      "         651       0.00      0.00      0.00         0\n",
      "         652       0.00      0.00      0.00         0\n",
      "         653       0.00      0.00      0.00         0\n",
      "         654       0.00      0.00      0.00         0\n",
      "         655       0.00      0.00      0.00         0\n",
      "         656       0.00      0.00      0.00         0\n",
      "         657       0.00      0.00      0.00         0\n",
      "         658       0.00      0.00      0.00         0\n",
      "         659       0.00      0.00      0.00         0\n",
      "         660       0.00      0.00      0.00         0\n",
      "         661       0.00      0.00      0.00         0\n",
      "         662       0.00      0.00      0.00         0\n",
      "         663       0.00      0.00      0.00         0\n",
      "         664       0.00      0.00      0.00         0\n",
      "         665       0.00      0.00      0.00         0\n",
      "         666       0.00      0.00      0.00         0\n",
      "         667       0.00      0.00      0.00         0\n",
      "         668       0.00      0.00      0.00         0\n",
      "         669       0.00      0.00      0.00         0\n",
      "         670       0.00      0.00      0.00         0\n",
      "         671       0.00      0.00      0.00         0\n",
      "         672       0.00      0.00      0.00         0\n",
      "         673       0.00      0.00      0.00         0\n",
      "         674       0.00      0.00      0.00         0\n",
      "         675       0.00      0.00      0.00         0\n",
      "         676       0.00      0.00      0.00         0\n",
      "         677       0.00      0.00      0.00         0\n",
      "         678       0.00      0.00      0.00         0\n",
      "         679       0.00      0.00      0.00         0\n",
      "         680       0.00      0.00      0.00         0\n",
      "         681       0.00      0.00      0.00         0\n",
      "         682       0.00      0.00      0.00         0\n",
      "         683       0.00      0.00      0.00         0\n",
      "         684       0.00      0.00      0.00         0\n",
      "         685       0.00      0.00      0.00         0\n",
      "         686       0.00      0.00      0.00         0\n",
      "         687       0.00      0.00      0.00         0\n",
      "         688       0.00      0.00      0.00         0\n",
      "         689       0.00      0.00      0.00         0\n",
      "         690       0.00      0.00      0.00         0\n",
      "         691       0.00      0.00      0.00         0\n",
      "         692       0.00      0.00      0.00         0\n",
      "         693       0.00      0.00      0.00         0\n",
      "         694       0.00      0.00      0.00         0\n",
      "         695       0.00      0.00      0.00         0\n",
      "         696       0.00      0.00      0.00         0\n",
      "         697       0.00      0.00      0.00         0\n",
      "         698       0.00      0.00      0.00         0\n",
      "         699       0.00      0.00      0.00         0\n",
      "         700       0.00      0.00      0.00         0\n",
      "         701       0.00      0.00      0.00         0\n",
      "         702       0.00      0.00      0.00         0\n",
      "         703       0.00      0.00      0.00         0\n",
      "         704       0.00      0.00      0.00         0\n",
      "         705       0.00      0.00      0.00         0\n",
      "         706       0.00      0.00      0.00         0\n",
      "         707       0.00      0.00      0.00         0\n",
      "         708       0.00      0.00      0.00         0\n",
      "         709       0.00      0.00      0.00         0\n",
      "         710       0.00      0.00      0.00         0\n",
      "         711       0.00      0.00      0.00         0\n",
      "         712       0.00      0.00      0.00         0\n",
      "         713       0.00      0.00      0.00         0\n",
      "         714       0.00      0.00      0.00         0\n",
      "         715       0.00      0.00      0.00         0\n",
      "         716       0.00      0.00      0.00         0\n",
      "         717       0.00      0.00      0.00         0\n",
      "         718       0.00      0.00      0.00         0\n",
      "         719       0.00      0.00      0.00         0\n",
      "         720       0.00      0.00      0.00         0\n",
      "         721       0.00      0.00      0.00         0\n",
      "         722       0.00      0.00      0.00         0\n",
      "         723       0.00      0.00      0.00         0\n",
      "         724       0.00      0.00      0.00         0\n",
      "         725       0.00      0.00      0.00         0\n",
      "         726       0.00      0.00      0.00         0\n",
      "         727       0.00      0.00      0.00         0\n",
      "         728       0.00      0.00      0.00         0\n",
      "         729       0.00      0.00      0.00         0\n",
      "         730       0.00      0.00      0.00         0\n",
      "         731       0.00      0.00      0.00         0\n",
      "         732       0.00      0.00      0.00         0\n",
      "         733       0.00      0.00      0.00         0\n",
      "         734       0.00      0.00      0.00         0\n",
      "         735       0.00      0.00      0.00         0\n",
      "         736       0.00      0.00      0.00         0\n",
      "         737       0.00      0.00      0.00         0\n",
      "         738       0.00      0.00      0.00         0\n",
      "         739       0.00      0.00      0.00         0\n",
      "         740       0.00      0.00      0.00         0\n",
      "         741       0.00      0.00      0.00         0\n",
      "         742       0.00      0.00      0.00         0\n",
      "         743       0.00      0.00      0.00         0\n",
      "         744       0.00      0.00      0.00         0\n",
      "         745       0.00      0.00      0.00         0\n",
      "         746       0.00      0.00      0.00         0\n",
      "         747       0.00      0.00      0.00         0\n",
      "         748       0.00      0.00      0.00         0\n",
      "         749       0.00      0.00      0.00         0\n",
      "         750       0.00      0.00      0.00         0\n",
      "         751       0.00      0.00      0.00         0\n",
      "         752       0.00      0.00      0.00         0\n",
      "         753       0.00      0.00      0.00         0\n",
      "         754       0.00      0.00      0.00         0\n",
      "         755       0.00      0.00      0.00         0\n",
      "         756       0.00      0.00      0.00         0\n",
      "         757       0.00      0.00      0.00         0\n",
      "         758       0.00      0.00      0.00         0\n",
      "         759       0.00      0.00      0.00         0\n",
      "         760       0.00      0.00      0.00         0\n",
      "         761       0.00      0.00      0.00         0\n",
      "         762       0.00      0.00      0.00         0\n",
      "         763       0.00      0.00      0.00         0\n",
      "         764       0.00      0.00      0.00         0\n",
      "         765       0.00      0.00      0.00         0\n",
      "         766       0.00      0.00      0.00         0\n",
      "         767       0.00      0.00      0.00         0\n",
      "         768       0.00      0.00      0.00         0\n",
      "         769       0.00      0.00      0.00         0\n",
      "         770       0.00      0.00      0.00         0\n",
      "         771       0.00      0.00      0.00         0\n",
      "         772       0.00      0.00      0.00         0\n",
      "         773       0.00      0.00      0.00         0\n",
      "         774       0.00      0.00      0.00         0\n",
      "         775       0.00      0.00      0.00         0\n",
      "         776       0.00      0.00      0.00         0\n",
      "         777       0.00      0.00      0.00         0\n",
      "         778       0.00      0.00      0.00         0\n",
      "         779       0.00      0.00      0.00         0\n",
      "         780       0.00      0.00      0.00         0\n",
      "         781       0.00      0.00      0.00         0\n",
      "         782       0.00      0.00      0.00         0\n",
      "         783       0.00      0.00      0.00         0\n",
      "         784       0.00      0.00      0.00         0\n",
      "         785       0.00      0.00      0.00         0\n",
      "         786       0.00      0.00      0.00         0\n",
      "         787       0.00      0.00      0.00         0\n",
      "         788       0.00      0.00      0.00         0\n",
      "         789       0.00      0.00      0.00         0\n",
      "         790       0.00      0.00      0.00         0\n",
      "         791       0.00      0.00      0.00         0\n",
      "         792       0.00      0.00      0.00         0\n",
      "         793       0.00      0.00      0.00         0\n",
      "         794       0.00      0.00      0.00         0\n",
      "         795       0.00      0.00      0.00         0\n",
      "         796       0.00      0.00      0.00         0\n",
      "         797       0.00      0.00      0.00         0\n",
      "         798       0.00      0.00      0.00         0\n",
      "         799       0.00      0.00      0.00         0\n",
      "         800       0.00      0.00      0.00         0\n",
      "         801       0.00      0.00      0.00         0\n",
      "         802       0.00      0.00      0.00         0\n",
      "         803       0.00      0.00      0.00         0\n",
      "         804       0.00      0.00      0.00         0\n",
      "         805       0.00      0.00      0.00         0\n",
      "         806       0.00      0.00      0.00         0\n",
      "         807       0.00      0.00      0.00         0\n",
      "         808       0.00      0.00      0.00         0\n",
      "         809       0.00      0.00      0.00         0\n",
      "         810       0.00      0.00      0.00         0\n",
      "         811       0.00      0.00      0.00         0\n",
      "         812       0.00      0.00      0.00         0\n",
      "         813       0.00      0.00      0.00         0\n",
      "         814       0.00      0.00      0.00         0\n",
      "         815       0.00      0.00      0.00         0\n",
      "         816       0.00      0.00      0.00         0\n",
      "         817       0.00      0.00      0.00         0\n",
      "         818       0.00      0.00      0.00         0\n",
      "         819       0.00      0.00      0.00         0\n",
      "         820       0.00      0.00      0.00         0\n",
      "         821       0.00      0.00      0.00         0\n",
      "         822       0.00      0.00      0.00         0\n",
      "         823       0.00      0.00      0.00         0\n",
      "         824       0.00      0.00      0.00         0\n",
      "         825       0.00      0.00      0.00         0\n",
      "         826       0.00      0.00      0.00         0\n",
      "         827       0.00      0.00      0.00         0\n",
      "         828       0.00      0.00      0.00         0\n",
      "         829       0.00      0.00      0.00         0\n",
      "         830       0.00      0.00      0.00         0\n",
      "         831       0.00      0.00      0.00         0\n",
      "         832       0.00      0.00      0.00         0\n",
      "         833       0.00      0.00      0.00         0\n",
      "         834       0.00      0.00      0.00         0\n",
      "         835       0.00      0.00      0.00         0\n",
      "         836       0.00      0.00      0.00         0\n",
      "         837       0.00      0.00      0.00         0\n",
      "         838       0.00      0.00      0.00         0\n",
      "         839       0.00      0.00      0.00         0\n",
      "         840       0.00      0.00      0.00         0\n",
      "         841       0.00      0.00      0.00         0\n",
      "         842       0.00      0.00      0.00         0\n",
      "         843       0.00      0.00      0.00         0\n",
      "         844       0.00      0.00      0.00         0\n",
      "         845       0.00      0.00      0.00         0\n",
      "         846       0.00      0.00      0.00         0\n",
      "         847       0.00      0.00      0.00         0\n",
      "         848       0.00      0.00      0.00         0\n",
      "         849       0.00      0.00      0.00         0\n",
      "         850       0.00      0.00      0.00         0\n",
      "         851       0.00      0.00      0.00         0\n",
      "         852       0.00      0.00      0.00         0\n",
      "         853       0.00      0.00      0.00         0\n",
      "         854       0.00      0.00      0.00         0\n",
      "         855       0.00      0.00      0.00         0\n",
      "         856       0.00      0.00      0.00         0\n",
      "         857       0.00      0.00      0.00         0\n",
      "         858       0.00      0.00      0.00         0\n",
      "         859       0.00      0.00      0.00         0\n",
      "         860       0.00      0.00      0.00         0\n",
      "         861       0.00      0.00      0.00         0\n",
      "         862       0.00      0.00      0.00         0\n",
      "         863       0.00      0.00      0.00         0\n",
      "         864       0.00      0.00      0.00         0\n",
      "         865       0.00      0.00      0.00         0\n",
      "         866       0.00      0.00      0.00         0\n",
      "         867       0.00      0.00      0.00         0\n",
      "         868       0.00      0.00      0.00         0\n",
      "         869       0.00      0.00      0.00         0\n",
      "         870       0.00      0.00      0.00         0\n",
      "         871       0.00      0.00      0.00         0\n",
      "         872       0.00      0.00      0.00         0\n",
      "         873       0.00      0.00      0.00         0\n",
      "         874       0.00      0.00      0.00         0\n",
      "         875       0.00      0.00      0.00         0\n",
      "         876       0.00      0.00      0.00         0\n",
      "         877       0.00      0.00      0.00         0\n",
      "         878       0.00      0.00      0.00         0\n",
      "         879       0.00      0.00      0.00         0\n",
      "         880       0.00      0.00      0.00         0\n",
      "         881       0.00      0.00      0.00         0\n",
      "         882       0.00      0.00      0.00         0\n",
      "         883       0.00      0.00      0.00         0\n",
      "         884       0.00      0.00      0.00         0\n",
      "         885       0.00      0.00      0.00         0\n",
      "         886       0.00      0.00      0.00         0\n",
      "         887       0.00      0.00      0.00         0\n",
      "         888       0.00      0.00      0.00         0\n",
      "         889       0.00      0.00      0.00         0\n",
      "         890       0.00      0.00      0.00         0\n",
      "         891       0.00      0.00      0.00         0\n",
      "         892       0.00      0.00      0.00         0\n",
      "         893       0.00      0.00      0.00         0\n",
      "         894       0.00      0.00      0.00         0\n",
      "         895       0.00      0.00      0.00         0\n",
      "         896       0.00      0.00      0.00         0\n",
      "         897       0.00      0.00      0.00         0\n",
      "         898       0.00      0.00      0.00         0\n",
      "         899       0.00      0.00      0.00         0\n",
      "         900       0.00      0.00      0.00         0\n",
      "         901       0.00      0.00      0.00         0\n",
      "         902       0.00      0.00      0.00         0\n",
      "         903       0.00      0.00      0.00         0\n",
      "         904       0.00      0.00      0.00         0\n",
      "         905       0.00      0.00      0.00         0\n",
      "         906       0.00      0.00      0.00         0\n",
      "         907       0.00      0.00      0.00         0\n",
      "         908       0.00      0.00      0.00         0\n",
      "         909       0.00      0.00      0.00         0\n",
      "         910       0.00      0.00      0.00         0\n",
      "         911       0.00      0.00      0.00         0\n",
      "         912       0.00      0.00      0.00         0\n",
      "         913       0.00      0.00      0.00         0\n",
      "         914       0.00      0.00      0.00         0\n",
      "         915       0.00      0.00      0.00         0\n",
      "         916       0.00      0.00      0.00         0\n",
      "         917       0.00      0.00      0.00         0\n",
      "         918       0.00      0.00      0.00         0\n",
      "         919       0.00      0.00      0.00         0\n",
      "         920       0.00      0.00      0.00         0\n",
      "         921       0.00      0.00      0.00         0\n",
      "         922       0.00      0.00      0.00         0\n",
      "         923       0.00      0.00      0.00         0\n",
      "         924       0.00      0.00      0.00         0\n",
      "         925       0.00      0.00      0.00         0\n",
      "         926       0.00      0.00      0.00         0\n",
      "         927       0.00      0.00      0.00         0\n",
      "         928       0.00      0.00      0.00         0\n",
      "         929       0.00      0.00      0.00         0\n",
      "         930       0.00      0.00      0.00         0\n",
      "         931       0.00      0.00      0.00         0\n",
      "         932       0.00      0.00      0.00         0\n",
      "         933       0.00      0.00      0.00         0\n",
      "         934       0.00      0.00      0.00         0\n",
      "         935       0.00      0.00      0.00         0\n",
      "         936       0.00      0.00      0.00         0\n",
      "         937       0.00      0.00      0.00         0\n",
      "         938       0.00      0.00      0.00         0\n",
      "         939       0.00      0.00      0.00         0\n",
      "         940       0.00      0.00      0.00         0\n",
      "         941       0.00      0.00      0.00         0\n",
      "         942       0.00      0.00      0.00         0\n",
      "         943       0.00      0.00      0.00         0\n",
      "         944       0.00      0.00      0.00         0\n",
      "         945       0.00      0.00      0.00         0\n",
      "         946       0.00      0.00      0.00         0\n",
      "         947       0.00      0.00      0.00         0\n",
      "         948       0.00      0.00      0.00         0\n",
      "         949       0.00      0.00      0.00         0\n",
      "         950       0.00      0.00      0.00         0\n",
      "         951       0.00      0.00      0.00         0\n",
      "         952       0.00      0.00      0.00         0\n",
      "         953       0.00      0.00      0.00         0\n",
      "         954       0.00      0.00      0.00         0\n",
      "         955       0.00      0.00      0.00         0\n",
      "         956       0.00      0.00      0.00         0\n",
      "         957       0.00      0.00      0.00         0\n",
      "         958       0.00      0.00      0.00         0\n",
      "         959       0.00      0.00      0.00         0\n",
      "         960       0.00      0.00      0.00         0\n",
      "         961       0.00      0.00      0.00         0\n",
      "         962       0.00      0.00      0.00         0\n",
      "         963       0.00      0.00      0.00         0\n",
      "         964       0.00      0.00      0.00         0\n",
      "         965       0.00      0.00      0.00         0\n",
      "         966       0.00      0.00      0.00         0\n",
      "         967       0.00      0.00      0.00         0\n",
      "         968       0.00      0.00      0.00         0\n",
      "         969       0.00      0.00      0.00         0\n",
      "         970       0.00      0.00      0.00         0\n",
      "         971       0.00      0.00      0.00         0\n",
      "         972       0.00      0.00      0.00         0\n",
      "         973       0.00      0.00      0.00         0\n",
      "         974       0.00      0.00      0.00         0\n",
      "         975       0.00      0.00      0.00         0\n",
      "         976       0.00      0.00      0.00         0\n",
      "         977       0.00      0.00      0.00         0\n",
      "         978       0.00      0.00      0.00         0\n",
      "         979       0.00      0.00      0.00         0\n",
      "         980       0.00      0.00      0.00         0\n",
      "         981       0.00      0.00      0.00         0\n",
      "         982       0.00      0.00      0.00         0\n",
      "         983       0.00      0.00      0.00         0\n",
      "         984       0.00      0.00      0.00         0\n",
      "         985       0.00      0.00      0.00         0\n",
      "         986       0.00      0.00      0.00         0\n",
      "         987       0.00      0.00      0.00         0\n",
      "         988       0.00      0.00      0.00         0\n",
      "         989       0.00      0.00      0.00         0\n",
      "         990       0.00      0.00      0.00         0\n",
      "         991       0.00      0.00      0.00         0\n",
      "         992       0.00      0.00      0.00         0\n",
      "         993       0.00      0.00      0.00         0\n",
      "         994       0.00      0.00      0.00         0\n",
      "         995       0.00      0.00      0.00         0\n",
      "         996       0.00      0.00      0.00         0\n",
      "         997       0.00      0.00      0.00         0\n",
      "         998       0.00      0.00      0.00         0\n",
      "         999       0.00      0.00      0.00         0\n",
      "        1000       0.00      0.00      0.00         0\n",
      "        1001       0.00      0.00      0.00         0\n",
      "        1002       0.00      0.00      0.00         0\n",
      "        1003       0.00      0.00      0.00         0\n",
      "        1004       0.00      0.00      0.00         0\n",
      "        1005       0.00      0.00      0.00         0\n",
      "        1006       0.00      0.00      0.00         0\n",
      "        1007       0.00      0.00      0.00         0\n",
      "        1008       0.00      0.00      0.00         0\n",
      "        1009       0.00      0.00      0.00         0\n",
      "        1010       0.00      0.00      0.00         0\n",
      "        1011       0.00      0.00      0.00         0\n",
      "        1012       0.00      0.00      0.00         0\n",
      "        1013       0.00      0.00      0.00         0\n",
      "        1014       0.00      0.00      0.00         0\n",
      "        1015       0.00      0.00      0.00         0\n",
      "        1016       0.00      0.00      0.00         0\n",
      "        1017       0.00      0.00      0.00         0\n",
      "        1018       0.00      0.00      0.00         0\n",
      "        1019       0.00      0.00      0.00         0\n",
      "        1020       0.00      0.00      0.00         0\n",
      "        1021       0.00      0.00      0.00         0\n",
      "        1022       0.00      0.00      0.00         0\n",
      "        1023       0.00      0.00      0.00         0\n",
      "        1024       0.00      0.00      0.00         0\n",
      "        1025       0.00      0.00      0.00         0\n",
      "        1026       0.00      0.00      0.00         0\n",
      "        1027       0.00      0.00      0.00         0\n",
      "        1028       0.00      0.00      0.00         0\n",
      "        1029       0.00      0.00      0.00         0\n",
      "        1030       0.00      0.00      0.00         0\n",
      "        1031       0.00      0.00      0.00         0\n",
      "        1032       0.00      0.00      0.00         0\n",
      "        1033       0.00      0.00      0.00         0\n",
      "        1034       0.00      0.00      0.00         0\n",
      "        1035       0.00      0.00      0.00         0\n",
      "        1036       0.00      0.00      0.00         0\n",
      "        1037       0.00      0.00      0.00         0\n",
      "        1038       0.00      0.00      0.00         0\n",
      "        1039       0.00      0.00      0.00         0\n",
      "        1040       0.00      0.00      0.00         0\n",
      "        1041       0.00      0.00      0.00         0\n",
      "        1042       0.00      0.00      0.00         0\n",
      "        1043       0.00      0.00      0.00         0\n",
      "        1044       0.00      0.00      0.00         0\n",
      "        1045       0.00      0.00      0.00         0\n",
      "        1046       0.00      0.00      0.00         0\n",
      "        1047       0.00      0.00      0.00         0\n",
      "        1048       0.00      0.00      0.00         0\n",
      "        1049       0.00      0.00      0.00         0\n",
      "        1050       0.00      0.00      0.00         0\n",
      "        1051       0.00      0.00      0.00         0\n",
      "        1052       0.00      0.00      0.00         0\n",
      "        1053       0.00      0.00      0.00         0\n",
      "        1054       0.00      0.00      0.00         0\n",
      "        1055       0.00      0.00      0.00         0\n",
      "        1056       0.00      0.00      0.00         0\n",
      "        1057       0.00      0.00      0.00         0\n",
      "        1058       0.00      0.00      0.00         0\n",
      "        1059       0.00      0.00      0.00         0\n",
      "        1060       0.00      0.00      0.00         0\n",
      "        1061       0.00      0.00      0.00         0\n",
      "        1062       0.00      0.00      0.00         0\n",
      "        1063       0.00      0.00      0.00         0\n",
      "        1064       0.00      0.00      0.00         0\n",
      "        1065       0.00      0.00      0.00         0\n",
      "        1066       0.00      0.00      0.00         0\n",
      "        1067       0.00      0.00      0.00         0\n",
      "        1068       0.00      0.00      0.00         0\n",
      "        1069       0.00      0.00      0.00         0\n",
      "        1070       0.00      0.00      0.00         0\n",
      "        1071       0.00      0.00      0.00         0\n",
      "        1072       0.00      0.00      0.00         0\n",
      "        1073       0.00      0.00      0.00         0\n",
      "        1074       0.00      0.00      0.00         0\n",
      "        1075       0.00      0.00      0.00         0\n",
      "        1076       0.00      0.00      0.00         0\n",
      "        1077       0.00      0.00      0.00         0\n",
      "        1078       0.00      0.00      0.00         0\n",
      "        1079       0.00      0.00      0.00         0\n",
      "        1080       0.00      0.00      0.00         0\n",
      "        1081       0.00      0.00      0.00         0\n",
      "        1082       0.00      0.00      0.00         0\n",
      "        1083       0.00      0.00      0.00         0\n",
      "        1084       0.00      0.00      0.00         0\n",
      "        1085       0.00      0.00      0.00         0\n",
      "        1086       0.00      0.00      0.00         0\n",
      "        1087       0.00      0.00      0.00         0\n",
      "        1088       0.00      0.00      0.00         0\n",
      "        1089       0.00      0.00      0.00         0\n",
      "        1090       0.00      0.00      0.00         0\n",
      "        1091       0.00      0.00      0.00         0\n",
      "        1092       0.00      0.00      0.00         0\n",
      "        1093       0.00      0.00      0.00         0\n",
      "        1094       0.00      0.00      0.00         0\n",
      "        1095       0.00      0.00      0.00         0\n",
      "        1096       0.00      0.00      0.00         0\n",
      "        1097       0.00      0.00      0.00         0\n",
      "        1098       0.00      0.00      0.00         0\n",
      "        1099       0.00      0.00      0.00         0\n",
      "        1100       0.00      0.00      0.00         0\n",
      "        1101       0.00      0.00      0.00         0\n",
      "        1102       0.00      0.00      0.00         0\n",
      "        1103       0.00      0.00      0.00         0\n",
      "        1104       0.00      0.00      0.00         0\n",
      "        1105       0.00      0.00      0.00         0\n",
      "        1106       0.00      0.00      0.00         0\n",
      "        1107       0.00      0.00      0.00         0\n",
      "        1108       0.00      0.00      0.00         0\n",
      "        1109       0.00      0.00      0.00         0\n",
      "        1110       0.00      0.00      0.00         0\n",
      "        1111       0.00      0.00      0.00         0\n",
      "        1112       0.00      0.00      0.00         0\n",
      "        1113       0.00      0.00      0.00         0\n",
      "        1114       0.00      0.00      0.00         0\n",
      "        1115       0.00      0.00      0.00         0\n",
      "        1116       0.00      0.00      0.00         0\n",
      "        1117       0.00      0.00      0.00         0\n",
      "        1118       0.00      0.00      0.00         0\n",
      "        1119       0.00      0.00      0.00         0\n",
      "        1120       0.00      0.00      0.00         0\n",
      "        1121       0.00      0.00      0.00         0\n",
      "        1122       0.00      0.00      0.00         0\n",
      "        1123       0.00      0.00      0.00         0\n",
      "        1124       0.00      0.00      0.00         0\n",
      "        1125       0.00      0.00      0.00         0\n",
      "        1126       0.00      0.00      0.00         0\n",
      "        1127       0.00      0.00      0.00         0\n",
      "        1128       0.00      0.00      0.00         0\n",
      "        1129       0.00      0.00      0.00         0\n",
      "        1130       0.00      0.00      0.00         0\n",
      "        1131       0.00      0.00      0.00         0\n",
      "        1132       0.00      0.00      0.00         0\n",
      "        1133       0.00      0.00      0.00         0\n",
      "        1134       0.00      0.00      0.00         0\n",
      "        1135       0.00      0.00      0.00         0\n",
      "        1136       0.00      0.00      0.00         0\n",
      "        1137       0.00      0.00      0.00         0\n",
      "        1138       0.00      0.00      0.00         0\n",
      "        1139       0.00      0.00      0.00         0\n",
      "        1140       0.00      0.00      0.00         0\n",
      "        1141       0.00      0.00      0.00         0\n",
      "        1142       0.00      0.00      0.00         0\n",
      "        1143       0.00      0.00      0.00         0\n",
      "        1144       0.00      0.00      0.00         0\n",
      "        1145       0.00      0.00      0.00         0\n",
      "        1146       0.00      0.00      0.00         0\n",
      "        1147       0.00      0.00      0.00         0\n",
      "        1148       0.00      0.00      0.00         0\n",
      "        1149       0.00      0.00      0.00         0\n",
      "        1150       0.00      0.00      0.00         0\n",
      "        1151       0.00      0.00      0.00         0\n",
      "        1152       0.00      0.00      0.00         0\n",
      "        1153       0.00      0.00      0.00         0\n",
      "        1154       0.00      0.00      0.00         0\n",
      "        1155       0.00      0.00      0.00         0\n",
      "        1156       0.00      0.00      0.00         0\n",
      "        1157       0.00      0.00      0.00         0\n",
      "        1158       0.00      0.00      0.00         0\n",
      "        1159       0.00      0.00      0.00         0\n",
      "        1160       0.00      0.00      0.00         0\n",
      "        1161       0.00      0.00      0.00         0\n",
      "        1162       0.00      0.00      0.00         0\n",
      "        1163       0.00      0.00      0.00         0\n",
      "        1164       0.00      0.00      0.00         0\n",
      "        1165       0.00      0.00      0.00         0\n",
      "        1166       0.00      0.00      0.00         0\n",
      "        1167       0.00      0.00      0.00         0\n",
      "        1168       0.00      0.00      0.00         0\n",
      "        1169       0.00      0.00      0.00         0\n",
      "        1170       0.00      0.00      0.00         0\n",
      "        1171       0.00      0.00      0.00         0\n",
      "        1172       0.00      0.00      0.00         0\n",
      "        1173       0.00      0.00      0.00         0\n",
      "        1174       0.00      0.00      0.00         0\n",
      "        1175       0.00      0.00      0.00         0\n",
      "        1176       0.00      0.00      0.00         0\n",
      "        1177       0.00      0.00      0.00         0\n",
      "\n",
      "   micro avg       0.46      1.00      0.63       535\n",
      "   macro avg       0.23      0.34      0.27       535\n",
      "weighted avg       0.74      1.00      0.82       535\n",
      " samples avg       0.43      0.99      0.60       535\n",
      "\n"
     ]
    },
    {
     "name": "stderr",
     "output_type": "stream",
     "text": [
      "C:\\Users\\youne\\anaconda3\\lib\\site-packages\\sklearn\\metrics\\_classification.py:1245: UndefinedMetricWarning: Precision and F-score are ill-defined and being set to 0.0 in labels with no predicted samples. Use `zero_division` parameter to control this behavior.\n",
      "  _warn_prf(average, modifier, msg_start, len(result))\n",
      "C:\\Users\\youne\\anaconda3\\lib\\site-packages\\sklearn\\metrics\\_classification.py:1245: UndefinedMetricWarning: Recall and F-score are ill-defined and being set to 0.0 in labels with no true samples. Use `zero_division` parameter to control this behavior.\n",
      "  _warn_prf(average, modifier, msg_start, len(result))\n"
     ]
    }
   ],
   "source": [
    "print(classification_report(y_test_df.values, y_pred))"
   ]
  },
  {
   "cell_type": "code",
   "execution_count": 33,
   "metadata": {
    "ExecuteTime": {
     "end_time": "2021-04-30T04:58:43.203948Z",
     "start_time": "2021-04-30T04:58:41.243863Z"
    },
    "scrolled": false
   },
   "outputs": [
    {
     "name": "stdout",
     "output_type": "stream",
     "text": [
      "\n",
      "######################################################################\n",
      "#                            Person n°: 0                            #\n",
      "######################################################################\n",
      "    \n"
     ]
    },
    {
     "data": {
      "image/png": "[encoded data removed]",
      "text/plain": [
       "<Figure size 1440x288 with 1 Axes>"
      ]
     },
     "metadata": {
      "needs_background": "light"
     },
     "output_type": "display_data"
    },
    {
     "data": {
      "image/png": "[encoded data removed]",
      "text/plain": [
       "<Figure size 1440x288 with 1 Axes>"
      ]
     },
     "metadata": {
      "needs_background": "light"
     },
     "output_type": "display_data"
    },
    {
     "data": {
      "image/png": "[encoded data removed]",
      "text/plain": [
       "<Figure size 1440x288 with 1 Axes>"
      ]
     },
     "metadata": {
      "needs_background": "light"
     },
     "output_type": "display_data"
    },
    {
     "name": "stdout",
     "output_type": "stream",
     "text": [
      "\n",
      "######################################################################\n",
      "#                            Person n°: 1                            #\n",
      "######################################################################\n",
      "    \n"
     ]
    },
    {
     "data": {
      "image/png": "[encoded data removed]",
      "text/plain": [
       "<Figure size 1440x288 with 1 Axes>"
      ]
     },
     "metadata": {
      "needs_background": "light"
     },
     "output_type": "display_data"
    },
    {
     "data": {
      "image/png": "[encoded data removed]",
      "text/plain": [
       "<Figure size 1440x288 with 1 Axes>"
      ]
     },
     "metadata": {
      "needs_background": "light"
     },
     "output_type": "display_data"
    },
    {
     "data": {
      "image/png": "[encoded data removed]",
      "text/plain": [
       "<Figure size 1440x288 with 1 Axes>"
      ]
     },
     "metadata": {
      "needs_background": "light"
     },
     "output_type": "display_data"
    },
    {
     "name": "stdout",
     "output_type": "stream",
     "text": [
      "\n",
      "######################################################################\n",
      "#                            Person n°: 2                            #\n",
      "######################################################################\n",
      "    \n"
     ]
    },
    {
     "data": {
      "image/png": "[encoded data removed]",
      "text/plain": [
       "<Figure size 1440x288 with 1 Axes>"
      ]
     },
     "metadata": {
      "needs_background": "light"
     },
     "output_type": "display_data"
    },
    {
     "data": {
      "image/png": "[encoded data removed]",
      "text/plain": [
       "<Figure size 1440x288 with 1 Axes>"
      ]
     },
     "metadata": {
      "needs_background": "light"
     },
     "output_type": "display_data"
    },
    {
     "data": {
      "image/png": "[encoded data removed]",
      "text/plain": [
       "<Figure size 1440x288 with 1 Axes>"
      ]
     },
     "metadata": {
      "needs_background": "light"
     },
     "output_type": "display_data"
    }
   ],
   "source": [
    "for idx in range(y_test_df.values.shape[0]):\n",
    "    print(\"\"\"\n",
    "######################################################################\n",
    "#                            Person n°: {}                            #\n",
    "######################################################################\n",
    "    \"\"\".format(idx))\n",
    "    \n",
    "    plt.figure(figsize=(20,4))\n",
    "    plt.plot(y_test_df.values[idx], label=\"real\")\n",
    "    plt.plot(y_pred[idx], label=\"predictions\")\n",
    "    plt.legend()\n",
    "    plt.show()\n",
    "    \n",
    "    plt.figure(figsize=(20,4))\n",
    "    plt.plot(y_test_df.values[idx])\n",
    "    plt.show()\n",
    "    \n",
    "    plt.figure(figsize=(20,4))\n",
    "    plt.plot(y_pred[idx])\n",
    "    plt.show()"
   ]
  },
  {
   "cell_type": "code",
   "execution_count": null,
   "metadata": {},
   "outputs": [],
   "source": []
  },
  {
   "cell_type": "code",
   "execution_count": null,
   "metadata": {},
   "outputs": [],
   "source": []
  },
  {
   "cell_type": "code",
   "execution_count": null,
   "metadata": {},
   "outputs": [],
   "source": []
  },
  {
   "cell_type": "code",
   "execution_count": null,
   "metadata": {},
   "outputs": [],
   "source": []
  },
  {
   "cell_type": "code",
   "execution_count": null,
   "metadata": {},
   "outputs": [],
   "source": []
  },
  {
   "cell_type": "code",
   "execution_count": null,
   "metadata": {},
   "outputs": [],
   "source": []
  },
  {
   "cell_type": "code",
   "execution_count": 42,
   "metadata": {
    "ExecuteTime": {
     "end_time": "2021-04-30T05:09:56.397022Z",
     "start_time": "2021-04-30T05:09:56.382024Z"
    }
   },
   "outputs": [],
   "source": [
    "train_df.fillna(0, inplace=True)\n",
    "test_df.fillna(0, inplace=True)"
   ]
  },
  {
   "cell_type": "code",
   "execution_count": 159,
   "metadata": {
    "ExecuteTime": {
     "end_time": "2021-04-30T06:02:39.353119Z",
     "start_time": "2021-04-30T06:02:39.328029Z"
    }
   },
   "outputs": [],
   "source": [
    "xholo_train = train_df['xHolo']\n",
    "yholo_train = train_df['yHolo']\n",
    "zholo_train = train_df['zHolo']\n",
    "\n",
    "xholo_test = test_df['xHolo']\n",
    "yholo_test = test_df['yHolo']\n",
    "zholo_test = test_df['zHolo']"
   ]
  },
  {
   "cell_type": "code",
   "execution_count": 160,
   "metadata": {
    "ExecuteTime": {
     "end_time": "2021-04-30T06:02:40.541669Z",
     "start_time": "2021-04-30T06:02:40.479674Z"
    }
   },
   "outputs": [
    {
     "data": {
      "text/html": [
       "<div>\n",
       "<style scoped>\n",
       "    .dataframe tbody tr th:only-of-type {\n",
       "        vertical-align: middle;\n",
       "    }\n",
       "\n",
       "    .dataframe tbody tr th {\n",
       "        vertical-align: top;\n",
       "    }\n",
       "\n",
       "    .dataframe thead th {\n",
       "        text-align: right;\n",
       "    }\n",
       "</style>\n",
       "<table border=\"1\" class=\"dataframe\">\n",
       "  <thead>\n",
       "    <tr style=\"text-align: right;\">\n",
       "      <th>seq_idx</th>\n",
       "      <th>0</th>\n",
       "      <th>1</th>\n",
       "      <th>2</th>\n",
       "      <th>3</th>\n",
       "      <th>4</th>\n",
       "      <th>5</th>\n",
       "      <th>6</th>\n",
       "      <th>7</th>\n",
       "      <th>8</th>\n",
       "      <th>9</th>\n",
       "      <th>...</th>\n",
       "      <th>1168</th>\n",
       "      <th>1169</th>\n",
       "      <th>1170</th>\n",
       "      <th>1171</th>\n",
       "      <th>1172</th>\n",
       "      <th>1173</th>\n",
       "      <th>1174</th>\n",
       "      <th>1175</th>\n",
       "      <th>1176</th>\n",
       "      <th>1177</th>\n",
       "    </tr>\n",
       "    <tr>\n",
       "      <th>id</th>\n",
       "      <th></th>\n",
       "      <th></th>\n",
       "      <th></th>\n",
       "      <th></th>\n",
       "      <th></th>\n",
       "      <th></th>\n",
       "      <th></th>\n",
       "      <th></th>\n",
       "      <th></th>\n",
       "      <th></th>\n",
       "      <th></th>\n",
       "      <th></th>\n",
       "      <th></th>\n",
       "      <th></th>\n",
       "      <th></th>\n",
       "      <th></th>\n",
       "      <th></th>\n",
       "      <th></th>\n",
       "      <th></th>\n",
       "      <th></th>\n",
       "      <th></th>\n",
       "    </tr>\n",
       "  </thead>\n",
       "  <tbody>\n",
       "    <tr>\n",
       "      <th>11_hlth</th>\n",
       "      <td>0.314562</td>\n",
       "      <td>0.313492</td>\n",
       "      <td>0.312400</td>\n",
       "      <td>0.311276</td>\n",
       "      <td>0.310112</td>\n",
       "      <td>0.308897</td>\n",
       "      <td>0.307623</td>\n",
       "      <td>0.306282</td>\n",
       "      <td>0.304868</td>\n",
       "      <td>0.303377</td>\n",
       "      <td>...</td>\n",
       "      <td>0.0</td>\n",
       "      <td>0.0</td>\n",
       "      <td>0.0</td>\n",
       "      <td>0.0</td>\n",
       "      <td>0.0</td>\n",
       "      <td>0.0</td>\n",
       "      <td>0.0</td>\n",
       "      <td>0.0</td>\n",
       "      <td>0.0</td>\n",
       "      <td>0.0</td>\n",
       "    </tr>\n",
       "    <tr>\n",
       "      <th>11_lvl_one</th>\n",
       "      <td>0.329497</td>\n",
       "      <td>0.328270</td>\n",
       "      <td>0.327006</td>\n",
       "      <td>0.325701</td>\n",
       "      <td>0.324351</td>\n",
       "      <td>0.322951</td>\n",
       "      <td>0.321492</td>\n",
       "      <td>0.319969</td>\n",
       "      <td>0.318376</td>\n",
       "      <td>0.316705</td>\n",
       "      <td>...</td>\n",
       "      <td>0.0</td>\n",
       "      <td>0.0</td>\n",
       "      <td>0.0</td>\n",
       "      <td>0.0</td>\n",
       "      <td>0.0</td>\n",
       "      <td>0.0</td>\n",
       "      <td>0.0</td>\n",
       "      <td>0.0</td>\n",
       "      <td>0.0</td>\n",
       "      <td>0.0</td>\n",
       "    </tr>\n",
       "    <tr>\n",
       "      <th>11_lvl_two</th>\n",
       "      <td>0.342550</td>\n",
       "      <td>0.341885</td>\n",
       "      <td>0.341187</td>\n",
       "      <td>0.340467</td>\n",
       "      <td>0.339734</td>\n",
       "      <td>0.338994</td>\n",
       "      <td>0.338255</td>\n",
       "      <td>0.337520</td>\n",
       "      <td>0.336792</td>\n",
       "      <td>0.336074</td>\n",
       "      <td>...</td>\n",
       "      <td>0.0</td>\n",
       "      <td>0.0</td>\n",
       "      <td>0.0</td>\n",
       "      <td>0.0</td>\n",
       "      <td>0.0</td>\n",
       "      <td>0.0</td>\n",
       "      <td>0.0</td>\n",
       "      <td>0.0</td>\n",
       "      <td>0.0</td>\n",
       "      <td>0.0</td>\n",
       "    </tr>\n",
       "    <tr>\n",
       "      <th>12_hlth</th>\n",
       "      <td>0.191283</td>\n",
       "      <td>0.191382</td>\n",
       "      <td>0.191559</td>\n",
       "      <td>0.191814</td>\n",
       "      <td>0.192148</td>\n",
       "      <td>0.192562</td>\n",
       "      <td>0.193056</td>\n",
       "      <td>0.193632</td>\n",
       "      <td>0.194291</td>\n",
       "      <td>0.195033</td>\n",
       "      <td>...</td>\n",
       "      <td>0.0</td>\n",
       "      <td>0.0</td>\n",
       "      <td>0.0</td>\n",
       "      <td>0.0</td>\n",
       "      <td>0.0</td>\n",
       "      <td>0.0</td>\n",
       "      <td>0.0</td>\n",
       "      <td>0.0</td>\n",
       "      <td>0.0</td>\n",
       "      <td>0.0</td>\n",
       "    </tr>\n",
       "    <tr>\n",
       "      <th>12_lvl_one</th>\n",
       "      <td>0.293994</td>\n",
       "      <td>0.291083</td>\n",
       "      <td>0.288221</td>\n",
       "      <td>0.285421</td>\n",
       "      <td>0.282698</td>\n",
       "      <td>0.280063</td>\n",
       "      <td>0.277525</td>\n",
       "      <td>0.275094</td>\n",
       "      <td>0.272774</td>\n",
       "      <td>0.270571</td>\n",
       "      <td>...</td>\n",
       "      <td>0.0</td>\n",
       "      <td>0.0</td>\n",
       "      <td>0.0</td>\n",
       "      <td>0.0</td>\n",
       "      <td>0.0</td>\n",
       "      <td>0.0</td>\n",
       "      <td>0.0</td>\n",
       "      <td>0.0</td>\n",
       "      <td>0.0</td>\n",
       "      <td>0.0</td>\n",
       "    </tr>\n",
       "    <tr>\n",
       "      <th>...</th>\n",
       "      <td>...</td>\n",
       "      <td>...</td>\n",
       "      <td>...</td>\n",
       "      <td>...</td>\n",
       "      <td>...</td>\n",
       "      <td>...</td>\n",
       "      <td>...</td>\n",
       "      <td>...</td>\n",
       "      <td>...</td>\n",
       "      <td>...</td>\n",
       "      <td>...</td>\n",
       "      <td>...</td>\n",
       "      <td>...</td>\n",
       "      <td>...</td>\n",
       "      <td>...</td>\n",
       "      <td>...</td>\n",
       "      <td>...</td>\n",
       "      <td>...</td>\n",
       "      <td>...</td>\n",
       "      <td>...</td>\n",
       "      <td>...</td>\n",
       "    </tr>\n",
       "    <tr>\n",
       "      <th>8_lvl_one</th>\n",
       "      <td>0.269693</td>\n",
       "      <td>0.271648</td>\n",
       "      <td>0.273580</td>\n",
       "      <td>0.275480</td>\n",
       "      <td>0.277342</td>\n",
       "      <td>0.279162</td>\n",
       "      <td>0.280933</td>\n",
       "      <td>0.282651</td>\n",
       "      <td>0.284315</td>\n",
       "      <td>0.285919</td>\n",
       "      <td>...</td>\n",
       "      <td>0.0</td>\n",
       "      <td>0.0</td>\n",
       "      <td>0.0</td>\n",
       "      <td>0.0</td>\n",
       "      <td>0.0</td>\n",
       "      <td>0.0</td>\n",
       "      <td>0.0</td>\n",
       "      <td>0.0</td>\n",
       "      <td>0.0</td>\n",
       "      <td>0.0</td>\n",
       "    </tr>\n",
       "    <tr>\n",
       "      <th>8_lvl_two</th>\n",
       "      <td>0.372910</td>\n",
       "      <td>0.373018</td>\n",
       "      <td>0.373125</td>\n",
       "      <td>0.373224</td>\n",
       "      <td>0.373310</td>\n",
       "      <td>0.373376</td>\n",
       "      <td>0.373410</td>\n",
       "      <td>0.373400</td>\n",
       "      <td>0.373330</td>\n",
       "      <td>0.373189</td>\n",
       "      <td>...</td>\n",
       "      <td>0.0</td>\n",
       "      <td>0.0</td>\n",
       "      <td>0.0</td>\n",
       "      <td>0.0</td>\n",
       "      <td>0.0</td>\n",
       "      <td>0.0</td>\n",
       "      <td>0.0</td>\n",
       "      <td>0.0</td>\n",
       "      <td>0.0</td>\n",
       "      <td>0.0</td>\n",
       "    </tr>\n",
       "    <tr>\n",
       "      <th>9_hlth</th>\n",
       "      <td>0.330707</td>\n",
       "      <td>0.330411</td>\n",
       "      <td>0.330061</td>\n",
       "      <td>0.329656</td>\n",
       "      <td>0.329196</td>\n",
       "      <td>0.328677</td>\n",
       "      <td>0.328100</td>\n",
       "      <td>0.327462</td>\n",
       "      <td>0.326762</td>\n",
       "      <td>0.325997</td>\n",
       "      <td>...</td>\n",
       "      <td>0.0</td>\n",
       "      <td>0.0</td>\n",
       "      <td>0.0</td>\n",
       "      <td>0.0</td>\n",
       "      <td>0.0</td>\n",
       "      <td>0.0</td>\n",
       "      <td>0.0</td>\n",
       "      <td>0.0</td>\n",
       "      <td>0.0</td>\n",
       "      <td>0.0</td>\n",
       "    </tr>\n",
       "    <tr>\n",
       "      <th>9_lvl_one</th>\n",
       "      <td>0.378556</td>\n",
       "      <td>0.377586</td>\n",
       "      <td>0.376567</td>\n",
       "      <td>0.375500</td>\n",
       "      <td>0.374390</td>\n",
       "      <td>0.373239</td>\n",
       "      <td>0.372052</td>\n",
       "      <td>0.370834</td>\n",
       "      <td>0.369589</td>\n",
       "      <td>0.368324</td>\n",
       "      <td>...</td>\n",
       "      <td>0.0</td>\n",
       "      <td>0.0</td>\n",
       "      <td>0.0</td>\n",
       "      <td>0.0</td>\n",
       "      <td>0.0</td>\n",
       "      <td>0.0</td>\n",
       "      <td>0.0</td>\n",
       "      <td>0.0</td>\n",
       "      <td>0.0</td>\n",
       "      <td>0.0</td>\n",
       "    </tr>\n",
       "    <tr>\n",
       "      <th>9_lvl_two</th>\n",
       "      <td>0.379194</td>\n",
       "      <td>0.379202</td>\n",
       "      <td>0.379151</td>\n",
       "      <td>0.379046</td>\n",
       "      <td>0.378890</td>\n",
       "      <td>0.378687</td>\n",
       "      <td>0.378439</td>\n",
       "      <td>0.378151</td>\n",
       "      <td>0.377824</td>\n",
       "      <td>0.377459</td>\n",
       "      <td>...</td>\n",
       "      <td>0.0</td>\n",
       "      <td>0.0</td>\n",
       "      <td>0.0</td>\n",
       "      <td>0.0</td>\n",
       "      <td>0.0</td>\n",
       "      <td>0.0</td>\n",
       "      <td>0.0</td>\n",
       "      <td>0.0</td>\n",
       "      <td>0.0</td>\n",
       "      <td>0.0</td>\n",
       "    </tr>\n",
       "  </tbody>\n",
       "</table>\n",
       "<p>72 rows × 1178 columns</p>\n",
       "</div>"
      ],
      "text/plain": [
       "seq_idx         0         1         2         3         4         5     \\\n",
       "id                                                                       \n",
       "11_hlth     0.314562  0.313492  0.312400  0.311276  0.310112  0.308897   \n",
       "11_lvl_one  0.329497  0.328270  0.327006  0.325701  0.324351  0.322951   \n",
       "11_lvl_two  0.342550  0.341885  0.341187  0.340467  0.339734  0.338994   \n",
       "12_hlth     0.191283  0.191382  0.191559  0.191814  0.192148  0.192562   \n",
       "12_lvl_one  0.293994  0.291083  0.288221  0.285421  0.282698  0.280063   \n",
       "...              ...       ...       ...       ...       ...       ...   \n",
       "8_lvl_one   0.269693  0.271648  0.273580  0.275480  0.277342  0.279162   \n",
       "8_lvl_two   0.372910  0.373018  0.373125  0.373224  0.373310  0.373376   \n",
       "9_hlth      0.330707  0.330411  0.330061  0.329656  0.329196  0.328677   \n",
       "9_lvl_one   0.378556  0.377586  0.376567  0.375500  0.374390  0.373239   \n",
       "9_lvl_two   0.379194  0.379202  0.379151  0.379046  0.378890  0.378687   \n",
       "\n",
       "seq_idx         6         7         8         9     ...  1168  1169  1170  \\\n",
       "id                                                  ...                     \n",
       "11_hlth     0.307623  0.306282  0.304868  0.303377  ...   0.0   0.0   0.0   \n",
       "11_lvl_one  0.321492  0.319969  0.318376  0.316705  ...   0.0   0.0   0.0   \n",
       "11_lvl_two  0.338255  0.337520  0.336792  0.336074  ...   0.0   0.0   0.0   \n",
       "12_hlth     0.193056  0.193632  0.194291  0.195033  ...   0.0   0.0   0.0   \n",
       "12_lvl_one  0.277525  0.275094  0.272774  0.270571  ...   0.0   0.0   0.0   \n",
       "...              ...       ...       ...       ...  ...   ...   ...   ...   \n",
       "8_lvl_one   0.280933  0.282651  0.284315  0.285919  ...   0.0   0.0   0.0   \n",
       "8_lvl_two   0.373410  0.373400  0.373330  0.373189  ...   0.0   0.0   0.0   \n",
       "9_hlth      0.328100  0.327462  0.326762  0.325997  ...   0.0   0.0   0.0   \n",
       "9_lvl_one   0.372052  0.370834  0.369589  0.368324  ...   0.0   0.0   0.0   \n",
       "9_lvl_two   0.378439  0.378151  0.377824  0.377459  ...   0.0   0.0   0.0   \n",
       "\n",
       "seq_idx     1171  1172  1173  1174  1175  1176  1177  \n",
       "id                                                    \n",
       "11_hlth      0.0   0.0   0.0   0.0   0.0   0.0   0.0  \n",
       "11_lvl_one   0.0   0.0   0.0   0.0   0.0   0.0   0.0  \n",
       "11_lvl_two   0.0   0.0   0.0   0.0   0.0   0.0   0.0  \n",
       "12_hlth      0.0   0.0   0.0   0.0   0.0   0.0   0.0  \n",
       "12_lvl_one   0.0   0.0   0.0   0.0   0.0   0.0   0.0  \n",
       "...          ...   ...   ...   ...   ...   ...   ...  \n",
       "8_lvl_one    0.0   0.0   0.0   0.0   0.0   0.0   0.0  \n",
       "8_lvl_two    0.0   0.0   0.0   0.0   0.0   0.0   0.0  \n",
       "9_hlth       0.0   0.0   0.0   0.0   0.0   0.0   0.0  \n",
       "9_lvl_one    0.0   0.0   0.0   0.0   0.0   0.0   0.0  \n",
       "9_lvl_two    0.0   0.0   0.0   0.0   0.0   0.0   0.0  \n",
       "\n",
       "[72 rows x 1178 columns]"
      ]
     },
     "execution_count": 160,
     "metadata": {},
     "output_type": "execute_result"
    }
   ],
   "source": [
    "xholo_train"
   ]
  },
  {
   "cell_type": "code",
   "execution_count": 161,
   "metadata": {
    "ExecuteTime": {
     "end_time": "2021-04-30T06:02:43.512703Z",
     "start_time": "2021-04-30T06:02:43.504705Z"
    }
   },
   "outputs": [],
   "source": [
    "xholo_train_r = xholo_train.values.reshape(xholo_train.shape[0], xholo_train.shape[1], 1)\n",
    "yholo_train_r = yholo_train.values.reshape(yholo_train.shape[0], yholo_train.shape[1], 1)\n",
    "zholo_train_r = zholo_train.values.reshape(zholo_train.shape[0], zholo_train.shape[1], 1)\n",
    "\n",
    "xholo_test_r = xholo_test.values.reshape(xholo_test.shape[0], xholo_test.shape[1], 1)\n",
    "yholo_test_r = yholo_test.values.reshape(yholo_test.shape[0], yholo_test.shape[1], 1)\n",
    "zholo_test_r = zholo_test.values.reshape(zholo_test.shape[0], zholo_test.shape[1], 1)"
   ]
  },
  {
   "cell_type": "code",
   "execution_count": 57,
   "metadata": {
    "ExecuteTime": {
     "end_time": "2021-04-30T05:19:28.877443Z",
     "start_time": "2021-04-30T05:19:28.871478Z"
    }
   },
   "outputs": [
    {
     "data": {
      "text/plain": [
       "(72, 1178, 1)"
      ]
     },
     "execution_count": 57,
     "metadata": {},
     "output_type": "execute_result"
    }
   ],
   "source": [
    "xholo_train.shape"
   ]
  },
  {
   "cell_type": "code",
   "execution_count": 69,
   "metadata": {
    "ExecuteTime": {
     "end_time": "2021-04-30T05:28:43.279950Z",
     "start_time": "2021-04-30T05:28:43.255960Z"
    }
   },
   "outputs": [],
   "source": [
    "class BLSTMMultiModel(tf.keras.Model):\n",
    "    \"\"\"\n",
    "    A class to create the arcitecture of the DNN model\n",
    "\n",
    "    ...\n",
    "\n",
    "    Attributes\n",
    "    ----------\n",
    "    inputs : array\n",
    "       the array of inputs that the model would train on\n",
    "    \"\"\"\n",
    "\n",
    "    def __init__(self):\n",
    "        \"\"\"\n",
    "        Initialize the layers of the model\n",
    "        \"\"\"\n",
    "        super(BLSTMMultiModel, self).__init__()\n",
    "        \n",
    "        self.lstm1_1 = tf.keras.layers.Bidirectional(\n",
    "            tf.keras.layers.LSTM(32, input_shape=(1177, 1), return_sequences=True)\n",
    "        )\n",
    "        self.lstm2_1 = tf.keras.layers.Bidirectional(\n",
    "            tf.keras.layers.LSTM(32, return_sequences=True)\n",
    "        )\n",
    "        \n",
    "        self.lstm1_2 = tf.keras.layers.Bidirectional(\n",
    "            tf.keras.layers.LSTM(32, input_shape=(1177, 1), return_sequences=True)\n",
    "        )\n",
    "        self.lstm2_2 = tf.keras.layers.Bidirectional(\n",
    "            tf.keras.layers.LSTM(32, return_sequences=True)\n",
    "        )\n",
    "        \n",
    "        self.lstm1_3 = tf.keras.layers.Bidirectional(\n",
    "            tf.keras.layers.LSTM(32, input_shape=(1177, 1), return_sequences=True)\n",
    "        )\n",
    "        self.lstm2_3 = tf.keras.layers.Bidirectional(\n",
    "            tf.keras.layers.LSTM(32, return_sequences=True)\n",
    "        )\n",
    "        \n",
    "        self.fc1 = tf.keras.layers.TimeDistributed(tf.keras.layers.Dense(1, activation='sigmoid'))\n",
    "    \n",
    "    def call(self, inputs):\n",
    "        \"\"\"Forwad propagates the inputs into the model\n",
    "\n",
    "        Parameters\n",
    "        ----------\n",
    "        inputs : array\n",
    "           the array of inputs that the model would train on\n",
    "\n",
    "        Returns\n",
    "        -------\n",
    "        x : tensor\n",
    "            the output of the model\n",
    "        \"\"\"\n",
    "        input_x = inputs[0]\n",
    "        input_y = inputs[1]\n",
    "        input_z = inputs[2]\n",
    "        \n",
    "        x_1 = self.lstm1_1(input_x)\n",
    "        x_1 = self.lstm2_1(x_1)\n",
    "        \n",
    "        x_2 = self.lstm1_2(input_y)\n",
    "        x_2 = self.lstm2_2(x_2)\n",
    "        \n",
    "        x_3 = self.lstm1_3(input_z)\n",
    "        x_3 = self.lstm2_3(x_3)\n",
    "        \n",
    "        x = tf.keras.layers.Concatenate()([x_1, x_2, x_3])\n",
    "        \n",
    "        x = self.fc1(x)\n",
    "        return x"
   ]
  },
  {
   "cell_type": "code",
   "execution_count": 70,
   "metadata": {
    "ExecuteTime": {
     "end_time": "2021-04-30T05:31:11.042881Z",
     "start_time": "2021-04-30T05:28:48.701897Z"
    }
   },
   "outputs": [
    {
     "name": "stdout",
     "output_type": "stream",
     "text": [
      "Epoch 1/5\n",
      "3/3 [==============================] - 45s 5s/step - loss: 0.6888 - tp: 10563.2500 - fp: 10936.0000 - tn: 120278.2500 - fn: 13718.5000 - accuracy: 0.8415 - precision: 0.4917 - recall: 0.4266 - auc: 0.7090 - prc: 0.3408\n",
      "Epoch 2/5\n",
      "3/3 [==============================] - 18s 6s/step - loss: 0.6546 - tp: 665.0000 - fp: 632.0000 - tn: 58814.0000 - fn: 10569.0000 - accuracy: 0.8391 - precision: 0.5127 - recall: 0.0641 - auc: 0.7709 - prc: 0.4517\n",
      "Epoch 3/5\n",
      "3/3 [==============================] - 24s 8s/step - loss: 0.6038 - tp: 111.5000 - fp: 96.2500 - tn: 59493.5000 - fn: 10978.7500 - accuracy: 0.8422 - precision: 0.2687 - recall: 0.0085 - auc: 0.7799 - prc: 0.4486      \n",
      "Epoch 4/5\n",
      "3/3 [==============================] - 25s 7s/step - loss: 0.5264 - tp: 3274.5000 - fp: 3049.7500 - tn: 56269.5000 - fn: 8086.2500 - accuracy: 0.8394 - precision: 0.5197 - recall: 0.2856 - auc: 0.8541 - prc: 0.4818\n",
      "Epoch 5/5\n",
      "3/3 [==============================] - 30s 10s/step - loss: 0.4048 - tp: 3978.0000 - fp: 4003.7500 - tn: 55898.5000 - fn: 6799.7500 - accuracy: 0.8490 - precision: 0.4958 - recall: 0.3724 - auc: 0.8933 - prc: 0.4944\n"
     ]
    }
   ],
   "source": [
    "n_epochs = 5\n",
    "bs = 2048\n",
    "blstm_multi_model = BLSTMMultiModel()\n",
    "\n",
    "blstm_multi_model.compile(loss='binary_crossentropy', optimizer='adam', metrics=METRICS)\n",
    "\n",
    "history = blstm_multi_model.fit(\n",
    "    [xholo_train, yholo_train, zholo_train], y_train_df.values,\n",
    "    epochs=n_epochs,\n",
    "    #batch_size=bs\n",
    ")"
   ]
  },
  {
   "cell_type": "code",
   "execution_count": 71,
   "metadata": {
    "ExecuteTime": {
     "end_time": "2021-04-30T05:34:17.535689Z",
     "start_time": "2021-04-30T05:34:17.270689Z"
    }
   },
   "outputs": [
    {
     "data": {
      "image/png": "[encoded data removed]",
      "text/plain": [
       "<Figure size 432x288 with 1 Axes>"
      ]
     },
     "metadata": {
      "needs_background": "light"
     },
     "output_type": "display_data"
    }
   ],
   "source": [
    "plt.plot(history.history['accuracy'])\n",
    "plt.plot(history.history['loss'])\n",
    "plt.legend(['acc', 'loss'], loc='upper left')\n",
    "plt.show()"
   ]
  },
  {
   "cell_type": "code",
   "execution_count": 72,
   "metadata": {
    "ExecuteTime": {
     "end_time": "2021-04-30T05:34:25.760430Z",
     "start_time": "2021-04-30T05:34:19.756440Z"
    }
   },
   "outputs": [],
   "source": [
    "y_pred = np.where(blstm_multi_model.predict([xholo_test, yholo_test, zholo_test])>=0.5, 1, 0).reshape(3, 1178)"
   ]
  },
  {
   "cell_type": "code",
   "execution_count": 73,
   "metadata": {
    "ExecuteTime": {
     "end_time": "2021-04-30T05:34:27.309160Z",
     "start_time": "2021-04-30T05:34:27.273163Z"
    }
   },
   "outputs": [
    {
     "name": "stdout",
     "output_type": "stream",
     "text": [
      "Accuracy score:  0.8406904357668364\n",
      "              precision    recall  f1-score   support\n",
      "\n",
      "         0.0       0.88      0.95      0.91      2999\n",
      "         1.0       0.45      0.24      0.31       535\n",
      "\n",
      "    accuracy                           0.84      3534\n",
      "   macro avg       0.66      0.59      0.61      3534\n",
      "weighted avg       0.81      0.84      0.82      3534\n",
      "\n"
     ]
    }
   ],
   "source": [
    "y_tst_score = np.concatenate(y_test_df.values)\n",
    "y_pred_score = np.concatenate(y_pred)\n",
    "print(\"Accuracy score: \", accuracy_score(y_tst_score, y_pred_score))\n",
    "print(classification_report(y_tst_score, y_pred_score))"
   ]
  },
  {
   "cell_type": "code",
   "execution_count": 74,
   "metadata": {
    "ExecuteTime": {
     "end_time": "2021-04-30T05:34:31.810306Z",
     "start_time": "2021-04-30T05:34:30.014223Z"
    },
    "scrolled": false
   },
   "outputs": [
    {
     "name": "stdout",
     "output_type": "stream",
     "text": [
      "\n",
      "######################################################################\n",
      "#                            Person n°: 0                            #\n",
      "######################################################################\n",
      "    \n"
     ]
    },
    {
     "data": {
      "image/png": "[encoded data removed]",
      "text/plain": [
       "<Figure size 1440x288 with 1 Axes>"
      ]
     },
     "metadata": {
      "needs_background": "light"
     },
     "output_type": "display_data"
    },
    {
     "data": {
      "image/png": "[encoded data removed]",
      "text/plain": [
       "<Figure size 1440x288 with 1 Axes>"
      ]
     },
     "metadata": {
      "needs_background": "light"
     },
     "output_type": "display_data"
    },
    {
     "data": {
      "image/png": "[encoded data removed]",
      "text/plain": [
       "<Figure size 1440x288 with 1 Axes>"
      ]
     },
     "metadata": {
      "needs_background": "light"
     },
     "output_type": "display_data"
    },
    {
     "name": "stdout",
     "output_type": "stream",
     "text": [
      "\n",
      "######################################################################\n",
      "#                            Person n°: 1                            #\n",
      "######################################################################\n",
      "    \n"
     ]
    },
    {
     "data": {
      "image/png": "[encoded data removed]",
      "text/plain": [
       "<Figure size 1440x288 with 1 Axes>"
      ]
     },
     "metadata": {
      "needs_background": "light"
     },
     "output_type": "display_data"
    },
    {
     "data": {
      "image/png": "[encoded data removed]",
      "text/plain": [
       "<Figure size 1440x288 with 1 Axes>"
      ]
     },
     "metadata": {
      "needs_background": "light"
     },
     "output_type": "display_data"
    },
    {
     "data": {
      "image/png": "[encoded data removed]",
      "text/plain": [
       "<Figure size 1440x288 with 1 Axes>"
      ]
     },
     "metadata": {
      "needs_background": "light"
     },
     "output_type": "display_data"
    },
    {
     "name": "stdout",
     "output_type": "stream",
     "text": [
      "\n",
      "######################################################################\n",
      "#                            Person n°: 2                            #\n",
      "######################################################################\n",
      "    \n"
     ]
    },
    {
     "data": {
      "image/png": "[encoded data removed]",
      "text/plain": [
       "<Figure size 1440x288 with 1 Axes>"
      ]
     },
     "metadata": {
      "needs_background": "light"
     },
     "output_type": "display_data"
    },
    {
     "data": {
      "image/png": "[encoded data removed]",
      "text/plain": [
       "<Figure size 1440x288 with 1 Axes>"
      ]
     },
     "metadata": {
      "needs_background": "light"
     },
     "output_type": "display_data"
    },
    {
     "data": {
      "image/png": "[encoded data removed]",
      "text/plain": [
       "<Figure size 1440x288 with 1 Axes>"
      ]
     },
     "metadata": {
      "needs_background": "light"
     },
     "output_type": "display_data"
    }
   ],
   "source": [
    "for idx in range(y_test_df.values.shape[0]):\n",
    "    print(\"\"\"\n",
    "######################################################################\n",
    "#                            Person n°: {}                            #\n",
    "######################################################################\n",
    "    \"\"\".format(idx))\n",
    "    \n",
    "    plt.figure(figsize=(20,4))\n",
    "    plt.plot(y_test_df.values[idx], label=\"real\")\n",
    "    plt.plot(y_pred[idx], label=\"predictions\")\n",
    "    plt.legend()\n",
    "    plt.show()\n",
    "    \n",
    "    plt.figure(figsize=(20,4))\n",
    "    plt.plot(y_test_df.values[idx])\n",
    "    plt.show()\n",
    "    \n",
    "    plt.figure(figsize=(20,4))\n",
    "    plt.plot(y_pred[idx])\n",
    "    plt.show()"
   ]
  },
  {
   "cell_type": "code",
   "execution_count": null,
   "metadata": {},
   "outputs": [],
   "source": []
  },
  {
   "cell_type": "code",
   "execution_count": null,
   "metadata": {},
   "outputs": [],
   "source": []
  },
  {
   "cell_type": "code",
   "execution_count": null,
   "metadata": {},
   "outputs": [],
   "source": []
  },
  {
   "cell_type": "code",
   "execution_count": 182,
   "metadata": {
    "ExecuteTime": {
     "end_time": "2021-04-30T06:15:25.185943Z",
     "start_time": "2021-04-30T06:15:25.171953Z"
    }
   },
   "outputs": [],
   "source": [
    "class DNNMultiModel(tf.keras.Model):\n",
    "    \"\"\"\n",
    "    A class to create the arcitecture of the DNN model\n",
    "\n",
    "    ...\n",
    "\n",
    "    Attributes\n",
    "    ----------\n",
    "    inputs : array\n",
    "       the array of inputs that the model would train on\n",
    "    \"\"\"\n",
    "\n",
    "    def __init__(self):\n",
    "        \"\"\"\n",
    "        Initialize the layers of the model\n",
    "        \"\"\"\n",
    "        super(DNNMultiModel, self).__init__()\n",
    "        \n",
    "        self.dnn1_1 = tf.keras.layers.Dense(256, input_shape=(1177,), activation='relu')\n",
    "        self.dnn1_2 = tf.keras.layers.Dense(256, activation='relu')\n",
    "        \n",
    "        self.dnn2_1 = tf.keras.layers.Dense(256, input_shape=(1177,), activation='relu')\n",
    "        self.dnn2_2 = tf.keras.layers.Dense(256, activation='relu')\n",
    "        \n",
    "        self.dnn3_1 = tf.keras.layers.Dense(256, input_shape=(1177,), activation='relu')\n",
    "        self.dnn3_2 = tf.keras.layers.Dense(256, activation='relu')\n",
    "        \n",
    "        self.fc1 = tf.keras.layers.Dense(1178, activation='sigmoid')\n",
    "    \n",
    "    def call(self, inputs):\n",
    "        \"\"\"Forwad propagates the inputs into the model\n",
    "\n",
    "        Parameters\n",
    "        ----------\n",
    "        inputs : array\n",
    "           the array of inputs that the model would train on\n",
    "\n",
    "        Returns\n",
    "        -------\n",
    "        x : tensor\n",
    "            the output of the model\n",
    "        \"\"\"\n",
    "        input_x = inputs[0]\n",
    "        input_y = inputs[1]\n",
    "        input_z = inputs[2]\n",
    "        \n",
    "        x_1 = self.dnn1_1(input_x)\n",
    "        x_1 = self.dnn1_2(x_1)\n",
    "        \n",
    "        x_2 = self.dnn2_1(input_y)\n",
    "        x_2 = self.dnn2_2(x_2)\n",
    "        \n",
    "        x_3 = self.dnn3_1(input_z)\n",
    "        x_3 = self.dnn3_2(x_3)\n",
    "        \n",
    "        x = tf.keras.layers.Concatenate()([x_1, x_2, x_3])\n",
    "        x = self.fc1(x)\n",
    "        return x"
   ]
  },
  {
   "cell_type": "code",
   "execution_count": 183,
   "metadata": {
    "ExecuteTime": {
     "end_time": "2021-04-30T06:15:30.691980Z",
     "start_time": "2021-04-30T06:15:25.576080Z"
    }
   },
   "outputs": [
    {
     "name": "stdout",
     "output_type": "stream",
     "text": [
      "Epoch 1/5\n",
      "3/3 [==============================] - 4s 100ms/step - loss: 0.6879 - tp: 11636.2500 - fp: 29311.0000 - tn: 101903.2500 - fn: 12645.5000 - accuracy: 0.7315 - precision: 0.2863 - recall: 0.4802 - auc: 0.7438 - prc: 0.3641\n",
      "Epoch 2/5\n",
      "3/3 [==============================] - 0s 105ms/step - loss: 0.4965 - tp: 3905.5000 - fp: 4432.5000 - tn: 55013.5000 - fn: 7328.5000 - accuracy: 0.8300 - precision: 0.4654 - recall: 0.3470 - auc: 0.6980 - prc: 0.3921\n",
      "Epoch 3/5\n",
      "3/3 [==============================] - 0s 93ms/step - loss: 0.3565 - tp: 3456.2500 - fp: 1913.2500 - tn: 57676.5000 - fn: 7634.0000 - accuracy: 0.8640 - precision: 0.6444 - recall: 0.3100 - auc: 0.7950 - prc: 0.4912\n",
      "Epoch 4/5\n",
      "3/3 [==============================] - 0s 100ms/step - loss: 0.3187 - tp: 3915.2500 - fp: 2147.2500 - tn: 57172.0000 - fn: 7445.5000 - accuracy: 0.8613 - precision: 0.6482 - recall: 0.3404 - auc: 0.8725 - prc: 0.5764\n",
      "Epoch 5/5\n",
      "3/3 [==============================] - 0s 99ms/step - loss: 0.2535 - tp: 4661.7500 - fp: 2959.5000 - tn: 56942.7500 - fn: 6116.0000 - accuracy: 0.8740 - precision: 0.6132 - recall: 0.4345 - auc: 0.9094 - prc: 0.5995\n"
     ]
    }
   ],
   "source": [
    "n_epochs = 5\n",
    "bs = 2048\n",
    "dnn_multi_model = DNNMultiModel()\n",
    "\n",
    "dnn_multi_model.compile(loss='binary_crossentropy', optimizer='adam', metrics=METRICS)\n",
    "\n",
    "history = dnn_multi_model.fit(\n",
    "    [xholo_train.values, yholo_train.values, zholo_train.values], y_train_df.values,\n",
    "    epochs=n_epochs,\n",
    "    #batch_size=bs\n",
    ")"
   ]
  },
  {
   "cell_type": "code",
   "execution_count": 184,
   "metadata": {
    "ExecuteTime": {
     "end_time": "2021-04-30T06:15:49.146659Z",
     "start_time": "2021-04-30T06:15:48.896575Z"
    }
   },
   "outputs": [
    {
     "data": {
      "image/png": "[encoded data removed]",
      "text/plain": [
       "<Figure size 432x288 with 1 Axes>"
      ]
     },
     "metadata": {
      "needs_background": "light"
     },
     "output_type": "display_data"
    }
   ],
   "source": [
    "plt.plot(history.history['accuracy'])\n",
    "plt.plot(history.history['loss'])\n",
    "plt.legend(['acc', 'loss'], loc='upper left')\n",
    "plt.show()"
   ]
  },
  {
   "cell_type": "code",
   "execution_count": 194,
   "metadata": {
    "ExecuteTime": {
     "end_time": "2021-04-30T06:17:47.753410Z",
     "start_time": "2021-04-30T06:17:47.619404Z"
    }
   },
   "outputs": [],
   "source": [
    "y_pred = np.where(dnn_multi_model.predict([xholo_test, yholo_test, zholo_test])>=0.75, 1, 0).reshape(3, 1178)"
   ]
  },
  {
   "cell_type": "code",
   "execution_count": 195,
   "metadata": {
    "ExecuteTime": {
     "end_time": "2021-04-30T06:17:48.115345Z",
     "start_time": "2021-04-30T06:17:48.077318Z"
    }
   },
   "outputs": [
    {
     "name": "stdout",
     "output_type": "stream",
     "text": [
      "Accuracy score:  0.8585172608941709\n",
      "              precision    recall  f1-score   support\n",
      "\n",
      "         0.0       0.86      1.00      0.92      2999\n",
      "         1.0       0.78      0.09      0.16       535\n",
      "\n",
      "    accuracy                           0.86      3534\n",
      "   macro avg       0.82      0.54      0.54      3534\n",
      "weighted avg       0.85      0.86      0.81      3534\n",
      "\n"
     ]
    }
   ],
   "source": [
    "y_tst_score = np.concatenate(y_test_df.values)\n",
    "y_pred_score = np.concatenate(y_pred)\n",
    "print(\"Accuracy score: \", accuracy_score(y_tst_score, y_pred_score))\n",
    "print(classification_report(y_tst_score, y_pred_score))"
   ]
  },
  {
   "cell_type": "code",
   "execution_count": 196,
   "metadata": {
    "ExecuteTime": {
     "end_time": "2021-04-30T06:17:52.282162Z",
     "start_time": "2021-04-30T06:17:50.183229Z"
    },
    "scrolled": false
   },
   "outputs": [
    {
     "name": "stdout",
     "output_type": "stream",
     "text": [
      "\n",
      "######################################################################\n",
      "#                            Person n°: 0                            #\n",
      "######################################################################\n",
      "    \n"
     ]
    },
    {
     "data": {
      "image/png": "[encoded data removed]",
      "text/plain": [
       "<Figure size 1440x288 with 1 Axes>"
      ]
     },
     "metadata": {
      "needs_background": "light"
     },
     "output_type": "display_data"
    },
    {
     "data": {
      "image/png": "[encoded data removed]",
      "text/plain": [
       "<Figure size 1440x288 with 1 Axes>"
      ]
     },
     "metadata": {
      "needs_background": "light"
     },
     "output_type": "display_data"
    },
    {
     "data": {
      "image/png": "[encoded data removed]",
      "text/plain": [
       "<Figure size 1440x288 with 1 Axes>"
      ]
     },
     "metadata": {
      "needs_background": "light"
     },
     "output_type": "display_data"
    },
    {
     "name": "stdout",
     "output_type": "stream",
     "text": [
      "\n",
      "######################################################################\n",
      "#                            Person n°: 1                            #\n",
      "######################################################################\n",
      "    \n"
     ]
    },
    {
     "data": {
      "image/png": "[encoded data removed]",
      "text/plain": [
       "<Figure size 1440x288 with 1 Axes>"
      ]
     },
     "metadata": {
      "needs_background": "light"
     },
     "output_type": "display_data"
    },
    {
     "data": {
      "image/png": "[encoded data removed]",
      "text/plain": [
       "<Figure size 1440x288 with 1 Axes>"
      ]
     },
     "metadata": {
      "needs_background": "light"
     },
     "output_type": "display_data"
    },
    {
     "data": {
      "image/png": "[encoded data removed]",
      "text/plain": [
       "<Figure size 1440x288 with 1 Axes>"
      ]
     },
     "metadata": {
      "needs_background": "light"
     },
     "output_type": "display_data"
    },
    {
     "name": "stdout",
     "output_type": "stream",
     "text": [
      "\n",
      "######################################################################\n",
      "#                            Person n°: 2                            #\n",
      "######################################################################\n",
      "    \n"
     ]
    },
    {
     "data": {
      "image/png": "[encoded data removed]",
      "text/plain": [
       "<Figure size 1440x288 with 1 Axes>"
      ]
     },
     "metadata": {
      "needs_background": "light"
     },
     "output_type": "display_data"
    },
    {
     "data": {
      "image/png": "[encoded data removed]",
      "text/plain": [
       "<Figure size 1440x288 with 1 Axes>"
      ]
     },
     "metadata": {
      "needs_background": "light"
     },
     "output_type": "display_data"
    },
    {
     "data": {
      "image/png": "[encoded data removed]",
      "text/plain": [
       "<Figure size 1440x288 with 1 Axes>"
      ]
     },
     "metadata": {
      "needs_background": "light"
     },
     "output_type": "display_data"
    }
   ],
   "source": [
    "for idx in range(y_test_df.values.shape[0]):\n",
    "    print(\"\"\"\n",
    "######################################################################\n",
    "#                            Person n°: {}                            #\n",
    "######################################################################\n",
    "    \"\"\".format(idx))\n",
    "    \n",
    "    plt.figure(figsize=(20,4))\n",
    "    plt.plot(y_test_df.values[idx], label=\"real\")\n",
    "    plt.plot(y_pred[idx], label=\"predictions\")\n",
    "    plt.legend()\n",
    "    plt.show()\n",
    "    \n",
    "    plt.figure(figsize=(20,4))\n",
    "    plt.plot(y_test_df.values[idx])\n",
    "    plt.show()\n",
    "    \n",
    "    plt.figure(figsize=(20,4))\n",
    "    plt.plot(y_pred[idx])\n",
    "    plt.show()"
   ]
  },
  {
   "cell_type": "code",
   "execution_count": null,
   "metadata": {},
   "outputs": [],
   "source": []
  },
  {
   "cell_type": "code",
   "execution_count": null,
   "metadata": {},
   "outputs": [],
   "source": []
  }
 ],
 "metadata": {
  "kernelspec": {
   "display_name": "Python 3",
   "language": "python",
   "name": "python3"
  },
  "language_info": {
   "codemirror_mode": {
    "name": "ipython",
    "version": 3
   },
   "file_extension": ".py",
   "mimetype": "text/x-python",
   "name": "python",
   "nbconvert_exporter": "python",
   "pygments_lexer": "ipython3",
   "version": "3.8.8"
  },
  "toc": {
   "base_numbering": 1,
   "nav_menu": {},
   "number_sections": true,
   "sideBar": true,
   "skip_h1_title": false,
   "title_cell": "Table of Contents",
   "title_sidebar": "Contents",
   "toc_cell": false,
   "toc_position": {},
   "toc_section_display": true,
   "toc_window_display": true
  }
 },
 "nbformat": 4,
 "nbformat_minor": 4
}
